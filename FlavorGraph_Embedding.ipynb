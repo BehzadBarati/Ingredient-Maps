{
  "nbformat": 4,
  "nbformat_minor": 0,
  "metadata": {
    "colab": {
      "name": "FlavorGraph-Embedding.ipynb",
      "provenance": [],
      "collapsed_sections": [],
      "authorship_tag": "ABX9TyP+53nAyYbIvk9gLjkwqVfP",
      "include_colab_link": true
    },
    "kernelspec": {
      "name": "python3",
      "display_name": "Python 3"
    },
    "language_info": {
      "name": "python"
    }
  },
  "cells": [
    {
      "cell_type": "markdown",
      "metadata": {
        "id": "view-in-github",
        "colab_type": "text"
      },
      "source": [
        "<a href=\"https://colab.research.google.com/github/BehzadBarati/Ingredient-Maps/blob/main/FlavorGraph_Embedding.ipynb\" target=\"_parent\"><img src=\"https://colab.research.google.com/assets/colab-badge.svg\" alt=\"Open In Colab\"/></a>"
      ]
    },
    {
      "cell_type": "markdown",
      "metadata": {
        "id": "y6B3Wlv8vOZq"
      },
      "source": [
        "Author: Behzad Barati\n",
        "\n",
        "Abstract:\n",
        "\n",
        "*   This notebook produces 5 nearest neighbors of desired ingredients based on FlavorGragh embedding.\n",
        "___\n",
        "Input:\n",
        "\n",
        "*   Embedding of ingredients based on FlavorGraph method\n",
        "*   List of ingredients and realted IDs\n",
        "*   List of desired ingredeitns for finding their neighbors\n",
        "\n",
        "Ouput:\n",
        "\n",
        "*   5 nearest neighbors of desired ingredeitns.\n",
        "___\n"
      ]
    },
    {
      "cell_type": "markdown",
      "metadata": {
        "id": "2aoEAMEWeKzb"
      },
      "source": [
        "# Import Libraries"
      ]
    },
    {
      "cell_type": "code",
      "metadata": {
        "id": "ncDn7xl5fYsj"
      },
      "source": [
        "import pickle\n",
        "import numpy as np\n",
        "import pandas as pd\n",
        "import matplotlib.pyplot as plt\n",
        "from google.colab import drive \n",
        "from heapq import nsmallest"
      ],
      "execution_count": 1,
      "outputs": []
    },
    {
      "cell_type": "markdown",
      "metadata": {
        "id": "AJR3CndreOkP"
      },
      "source": [
        "# Load data"
      ]
    },
    {
      "cell_type": "code",
      "metadata": {
        "colab": {
          "base_uri": "https://localhost:8080/"
        },
        "id": "_GEuPH53fgEo",
        "outputId": "3f07d919-2215-4686-f33d-9ccb7f009f92"
      },
      "source": [
        "# Mount google drive to colab notebook\n",
        "# Our dataset will be read as recipe_tomato.\n",
        "\n",
        "drive.mount('/content/gdrive', force_remount=True)"
      ],
      "execution_count": 2,
      "outputs": [
        {
          "output_type": "stream",
          "text": [
            "Mounted at /content/gdrive\n"
          ],
          "name": "stdout"
        }
      ]
    },
    {
      "cell_type": "code",
      "metadata": {
        "colab": {
          "base_uri": "https://localhost:8080/"
        },
        "id": "REVVShvaieCR",
        "outputId": "bc7d1e6d-51f1-40fe-ac96-02eac8a4b7d4"
      },
      "source": [
        "# we load a file contains embedding of ingredietns as dictionary. keys are ingredients codes\n",
        "\n",
        "DATA_PATH = \"gdrive/MyDrive/Projects/Ingredient-Maps/Phase1\"\n",
        "infile = open(DATA_PATH+'/FlavorGraph-embedding.pickle','rb')\n",
        "embedding = pickle.load(infile)\n",
        "print('Number of Embeddings : ', len(embedding))\n",
        "print('Type of dataset : ', type(embedding))\n",
        "print('5 first keys of dataset : ', list(embedding.keys())[:5])"
      ],
      "execution_count": 3,
      "outputs": [
        {
          "output_type": "stream",
          "text": [
            "Number of Embeddings :  8298\n",
            "Type of dataset :  <class 'dict'>\n",
            "5 first keys of dataset :  ['2261', '4204', '7593', '1608', '5156']\n"
          ],
          "name": "stdout"
        }
      ]
    },
    {
      "cell_type": "code",
      "metadata": {
        "colab": {
          "base_uri": "https://localhost:8080/"
        },
        "id": "dgVe-vPom8jr",
        "outputId": "d332e5d2-298a-4dbb-dd7c-8bdf90524f80"
      },
      "source": [
        "pd.Series(embedding)"
      ],
      "execution_count": 18,
      "outputs": [
        {
          "output_type": "execute_result",
          "data": {
            "text/plain": [
              "2261    [0.003940486, -0.17388155, 0.2085642, 0.007552...\n",
              "4204    [-0.2226859, -0.10033325, 0.09181008, 0.086264...\n",
              "7593    [-0.19326355, 0.3246424, 0.27423382, 0.0514823...\n",
              "1608    [-0.13715972, -0.120983526, 0.12212634, 0.2044...\n",
              "5156    [-0.088117406, -0.1916365, -0.039621796, 0.058...\n",
              "                              ...                        \n",
              "6624    [0.02057158, 0.45763093, 0.022356123, 0.511349...\n",
              "5988    [0.19450483, 0.020848732, 0.6074205, -0.520402...\n",
              "3762    [0.00054995867, 0.19704723, 0.2801421, 0.30073...\n",
              "5288    [-0.47191662, -0.16478768, 0.4419558, -0.28081...\n",
              "4926    [0.012703506, 0.3463704, 0.36302552, -0.468503...\n",
              "Length: 8298, dtype: object"
            ]
          },
          "metadata": {
            "tags": []
          },
          "execution_count": 18
        }
      ]
    },
    {
      "cell_type": "code",
      "metadata": {
        "id": "cC63RtjPfn3q",
        "colab": {
          "base_uri": "https://localhost:8080/",
          "height": 255
        },
        "outputId": "dccdef4e-a164-4b2b-8a16-c3dbe7b7ed18"
      },
      "source": [
        "# we load a file contains name of ingredietns, code of them and also their categories\n",
        "\n",
        "DATA_PATH = \"gdrive/MyDrive/Projects/Ingredient-Maps/Phase1\"\n",
        "NER_codes = pd.read_csv(DATA_PATH +'/nodes_191120.csv')\n",
        "\n",
        "print('Number of Ingredients : ', len(NER_codes))\n",
        "print('Type of dataset : ', type(NER_codes))\n",
        "print('first 5 ingredients:')\n",
        "NER_codes.head(5)"
      ],
      "execution_count": 4,
      "outputs": [
        {
          "output_type": "stream",
          "text": [
            "Number of Ingredients :  8298\n",
            "Type of dataset :  <class 'pandas.core.frame.DataFrame'>\n",
            "first 5 ingredients:\n"
          ],
          "name": "stdout"
        },
        {
          "output_type": "execute_result",
          "data": {
            "text/html": [
              "<div>\n",
              "<style scoped>\n",
              "    .dataframe tbody tr th:only-of-type {\n",
              "        vertical-align: middle;\n",
              "    }\n",
              "\n",
              "    .dataframe tbody tr th {\n",
              "        vertical-align: top;\n",
              "    }\n",
              "\n",
              "    .dataframe thead th {\n",
              "        text-align: right;\n",
              "    }\n",
              "</style>\n",
              "<table border=\"1\" class=\"dataframe\">\n",
              "  <thead>\n",
              "    <tr style=\"text-align: right;\">\n",
              "      <th></th>\n",
              "      <th>node_id</th>\n",
              "      <th>name</th>\n",
              "      <th>id</th>\n",
              "      <th>node_type</th>\n",
              "      <th>is_hub</th>\n",
              "    </tr>\n",
              "  </thead>\n",
              "  <tbody>\n",
              "    <tr>\n",
              "      <th>0</th>\n",
              "      <td>0</td>\n",
              "      <td>1%_fat_buttermilk</td>\n",
              "      <td>NaN</td>\n",
              "      <td>ingredient</td>\n",
              "      <td>no_hub</td>\n",
              "    </tr>\n",
              "    <tr>\n",
              "      <th>1</th>\n",
              "      <td>1</td>\n",
              "      <td>1%_fat_cottage_cheese</td>\n",
              "      <td>NaN</td>\n",
              "      <td>ingredient</td>\n",
              "      <td>no_hub</td>\n",
              "    </tr>\n",
              "    <tr>\n",
              "      <th>2</th>\n",
              "      <td>3</td>\n",
              "      <td>10%_cream</td>\n",
              "      <td>NaN</td>\n",
              "      <td>ingredient</td>\n",
              "      <td>no_hub</td>\n",
              "    </tr>\n",
              "    <tr>\n",
              "      <th>3</th>\n",
              "      <td>4</td>\n",
              "      <td>100%_bran</td>\n",
              "      <td>NaN</td>\n",
              "      <td>ingredient</td>\n",
              "      <td>no_hub</td>\n",
              "    </tr>\n",
              "    <tr>\n",
              "      <th>4</th>\n",
              "      <td>5</td>\n",
              "      <td>10_inch_flour_tortilla</td>\n",
              "      <td>NaN</td>\n",
              "      <td>ingredient</td>\n",
              "      <td>no_hub</td>\n",
              "    </tr>\n",
              "  </tbody>\n",
              "</table>\n",
              "</div>"
            ],
            "text/plain": [
              "   node_id                    name  id   node_type  is_hub\n",
              "0        0       1%_fat_buttermilk NaN  ingredient  no_hub\n",
              "1        1   1%_fat_cottage_cheese NaN  ingredient  no_hub\n",
              "2        3               10%_cream NaN  ingredient  no_hub\n",
              "3        4               100%_bran NaN  ingredient  no_hub\n",
              "4        5  10_inch_flour_tortilla NaN  ingredient  no_hub"
            ]
          },
          "metadata": {
            "tags": []
          },
          "execution_count": 4
        }
      ]
    },
    {
      "cell_type": "code",
      "metadata": {
        "colab": {
          "base_uri": "https://localhost:8080/",
          "height": 565
        },
        "id": "5UZ3bpICkyOX",
        "outputId": "905cd02c-2f88-4e2e-d7ab-b09a963be05b"
      },
      "source": [
        "# we load a file contains 15 most frequent ingredients in tomato soup\n",
        "\n",
        "DATA_PATH = \"gdrive/MyDrive/Projects/Ingredient-Maps/Phase1\"\n",
        "soup_ingredients = pd.read_csv(DATA_PATH +'/output2.csv', header=None)\n",
        "print('Number of Ingredients : ', len(soup_ingredients))\n",
        "print('Type of dataset : ', type(soup_ingredients))\n",
        "print('15 most frequent ingredients:')\n",
        "soup_ingredients.head(15)"
      ],
      "execution_count": 5,
      "outputs": [
        {
          "output_type": "stream",
          "text": [
            "Number of Ingredients :  15\n",
            "Type of dataset :  <class 'pandas.core.frame.DataFrame'>\n",
            "15 most frequent ingredients:\n"
          ],
          "name": "stdout"
        },
        {
          "output_type": "execute_result",
          "data": {
            "text/html": [
              "<div>\n",
              "<style scoped>\n",
              "    .dataframe tbody tr th:only-of-type {\n",
              "        vertical-align: middle;\n",
              "    }\n",
              "\n",
              "    .dataframe tbody tr th {\n",
              "        vertical-align: top;\n",
              "    }\n",
              "\n",
              "    .dataframe thead th {\n",
              "        text-align: right;\n",
              "    }\n",
              "</style>\n",
              "<table border=\"1\" class=\"dataframe\">\n",
              "  <thead>\n",
              "    <tr style=\"text-align: right;\">\n",
              "      <th></th>\n",
              "      <th>0</th>\n",
              "      <th>1</th>\n",
              "    </tr>\n",
              "  </thead>\n",
              "  <tbody>\n",
              "    <tr>\n",
              "      <th>0</th>\n",
              "      <td>tomato</td>\n",
              "      <td>1586</td>\n",
              "    </tr>\n",
              "    <tr>\n",
              "      <th>1</th>\n",
              "      <td>salt</td>\n",
              "      <td>1463</td>\n",
              "    </tr>\n",
              "    <tr>\n",
              "      <th>2</th>\n",
              "      <td>garlic</td>\n",
              "      <td>1062</td>\n",
              "    </tr>\n",
              "    <tr>\n",
              "      <th>3</th>\n",
              "      <td>onion</td>\n",
              "      <td>1009</td>\n",
              "    </tr>\n",
              "    <tr>\n",
              "      <th>4</th>\n",
              "      <td>sugar</td>\n",
              "      <td>800</td>\n",
              "    </tr>\n",
              "    <tr>\n",
              "      <th>5</th>\n",
              "      <td>olive_oil</td>\n",
              "      <td>663</td>\n",
              "    </tr>\n",
              "    <tr>\n",
              "      <th>6</th>\n",
              "      <td>butter</td>\n",
              "      <td>661</td>\n",
              "    </tr>\n",
              "    <tr>\n",
              "      <th>7</th>\n",
              "      <td>flour</td>\n",
              "      <td>517</td>\n",
              "    </tr>\n",
              "    <tr>\n",
              "      <th>8</th>\n",
              "      <td>chicken_broth</td>\n",
              "      <td>428</td>\n",
              "    </tr>\n",
              "    <tr>\n",
              "      <th>9</th>\n",
              "      <td>basil</td>\n",
              "      <td>424</td>\n",
              "    </tr>\n",
              "    <tr>\n",
              "      <th>10</th>\n",
              "      <td>pepper</td>\n",
              "      <td>399</td>\n",
              "    </tr>\n",
              "    <tr>\n",
              "      <th>11</th>\n",
              "      <td>milk</td>\n",
              "      <td>372</td>\n",
              "    </tr>\n",
              "    <tr>\n",
              "      <th>12</th>\n",
              "      <td>celery</td>\n",
              "      <td>355</td>\n",
              "    </tr>\n",
              "    <tr>\n",
              "      <th>13</th>\n",
              "      <td>thyme</td>\n",
              "      <td>273</td>\n",
              "    </tr>\n",
              "    <tr>\n",
              "      <th>14</th>\n",
              "      <td>baking_soda</td>\n",
              "      <td>237</td>\n",
              "    </tr>\n",
              "  </tbody>\n",
              "</table>\n",
              "</div>"
            ],
            "text/plain": [
              "                0     1\n",
              "0          tomato  1586\n",
              "1            salt  1463\n",
              "2          garlic  1062\n",
              "3           onion  1009\n",
              "4           sugar   800\n",
              "5       olive_oil   663\n",
              "6          butter   661\n",
              "7           flour   517\n",
              "8   chicken_broth   428\n",
              "9           basil   424\n",
              "10         pepper   399\n",
              "11           milk   372\n",
              "12         celery   355\n",
              "13          thyme   273\n",
              "14    baking_soda   237"
            ]
          },
          "metadata": {
            "tags": []
          },
          "execution_count": 5
        }
      ]
    },
    {
      "cell_type": "markdown",
      "metadata": {
        "id": "djbgJZ4XeXEo"
      },
      "source": [
        "# looking at queried ingredients"
      ]
    },
    {
      "cell_type": "code",
      "metadata": {
        "colab": {
          "base_uri": "https://localhost:8080/",
          "height": 514
        },
        "id": "OSmjcjktl9yh",
        "outputId": "a09fe032-f801-4429-d72e-086789961ef6"
      },
      "source": [
        "# we can take a look at queried ingredients to see their category and if they are Hub or not\n",
        "\n",
        "soup_list = list(soup_ingredients[0])\n",
        "NER_codes[NER_codes['name'].isin(soup_list)]"
      ],
      "execution_count": 6,
      "outputs": [
        {
          "output_type": "execute_result",
          "data": {
            "text/html": [
              "<div>\n",
              "<style scoped>\n",
              "    .dataframe tbody tr th:only-of-type {\n",
              "        vertical-align: middle;\n",
              "    }\n",
              "\n",
              "    .dataframe tbody tr th {\n",
              "        vertical-align: top;\n",
              "    }\n",
              "\n",
              "    .dataframe thead th {\n",
              "        text-align: right;\n",
              "    }\n",
              "</style>\n",
              "<table border=\"1\" class=\"dataframe\">\n",
              "  <thead>\n",
              "    <tr style=\"text-align: right;\">\n",
              "      <th></th>\n",
              "      <th>node_id</th>\n",
              "      <th>name</th>\n",
              "      <th>id</th>\n",
              "      <th>node_type</th>\n",
              "      <th>is_hub</th>\n",
              "    </tr>\n",
              "  </thead>\n",
              "  <tbody>\n",
              "    <tr>\n",
              "      <th>277</th>\n",
              "      <td>294</td>\n",
              "      <td>baking_soda</td>\n",
              "      <td>NaN</td>\n",
              "      <td>ingredient</td>\n",
              "      <td>no_hub</td>\n",
              "    </tr>\n",
              "    <tr>\n",
              "      <th>308</th>\n",
              "      <td>328</td>\n",
              "      <td>basil</td>\n",
              "      <td>NaN</td>\n",
              "      <td>ingredient</td>\n",
              "      <td>hub</td>\n",
              "    </tr>\n",
              "    <tr>\n",
              "      <th>727</th>\n",
              "      <td>781</td>\n",
              "      <td>butter</td>\n",
              "      <td>NaN</td>\n",
              "      <td>ingredient</td>\n",
              "      <td>hub</td>\n",
              "    </tr>\n",
              "    <tr>\n",
              "      <th>974</th>\n",
              "      <td>1041</td>\n",
              "      <td>celery</td>\n",
              "      <td>NaN</td>\n",
              "      <td>ingredient</td>\n",
              "      <td>hub</td>\n",
              "    </tr>\n",
              "    <tr>\n",
              "      <th>1080</th>\n",
              "      <td>1153</td>\n",
              "      <td>chicken_broth</td>\n",
              "      <td>NaN</td>\n",
              "      <td>ingredient</td>\n",
              "      <td>no_hub</td>\n",
              "    </tr>\n",
              "    <tr>\n",
              "      <th>2242</th>\n",
              "      <td>2396</td>\n",
              "      <td>flour</td>\n",
              "      <td>NaN</td>\n",
              "      <td>ingredient</td>\n",
              "      <td>hub</td>\n",
              "    </tr>\n",
              "    <tr>\n",
              "      <th>2611</th>\n",
              "      <td>2793</td>\n",
              "      <td>garlic</td>\n",
              "      <td>NaN</td>\n",
              "      <td>ingredient</td>\n",
              "      <td>hub</td>\n",
              "    </tr>\n",
              "    <tr>\n",
              "      <th>3926</th>\n",
              "      <td>4204</td>\n",
              "      <td>milk</td>\n",
              "      <td>NaN</td>\n",
              "      <td>ingredient</td>\n",
              "      <td>hub</td>\n",
              "    </tr>\n",
              "    <tr>\n",
              "      <th>4171</th>\n",
              "      <td>4472</td>\n",
              "      <td>olive_oil</td>\n",
              "      <td>NaN</td>\n",
              "      <td>ingredient</td>\n",
              "      <td>no_hub</td>\n",
              "    </tr>\n",
              "    <tr>\n",
              "      <th>4175</th>\n",
              "      <td>4478</td>\n",
              "      <td>onion</td>\n",
              "      <td>NaN</td>\n",
              "      <td>ingredient</td>\n",
              "      <td>hub</td>\n",
              "    </tr>\n",
              "    <tr>\n",
              "      <th>4417</th>\n",
              "      <td>4733</td>\n",
              "      <td>pepper</td>\n",
              "      <td>NaN</td>\n",
              "      <td>ingredient</td>\n",
              "      <td>hub</td>\n",
              "    </tr>\n",
              "    <tr>\n",
              "      <th>5228</th>\n",
              "      <td>5608</td>\n",
              "      <td>salt</td>\n",
              "      <td>NaN</td>\n",
              "      <td>ingredient</td>\n",
              "      <td>hub</td>\n",
              "    </tr>\n",
              "    <tr>\n",
              "      <th>5769</th>\n",
              "      <td>6172</td>\n",
              "      <td>sugar</td>\n",
              "      <td>NaN</td>\n",
              "      <td>ingredient</td>\n",
              "      <td>hub</td>\n",
              "    </tr>\n",
              "    <tr>\n",
              "      <th>5998</th>\n",
              "      <td>6409</td>\n",
              "      <td>thyme</td>\n",
              "      <td>NaN</td>\n",
              "      <td>ingredient</td>\n",
              "      <td>hub</td>\n",
              "    </tr>\n",
              "    <tr>\n",
              "      <th>6028</th>\n",
              "      <td>6441</td>\n",
              "      <td>tomato</td>\n",
              "      <td>NaN</td>\n",
              "      <td>ingredient</td>\n",
              "      <td>hub</td>\n",
              "    </tr>\n",
              "  </tbody>\n",
              "</table>\n",
              "</div>"
            ],
            "text/plain": [
              "      node_id           name  id   node_type  is_hub\n",
              "277       294    baking_soda NaN  ingredient  no_hub\n",
              "308       328          basil NaN  ingredient     hub\n",
              "727       781         butter NaN  ingredient     hub\n",
              "974      1041         celery NaN  ingredient     hub\n",
              "1080     1153  chicken_broth NaN  ingredient  no_hub\n",
              "2242     2396          flour NaN  ingredient     hub\n",
              "2611     2793         garlic NaN  ingredient     hub\n",
              "3926     4204           milk NaN  ingredient     hub\n",
              "4171     4472      olive_oil NaN  ingredient  no_hub\n",
              "4175     4478          onion NaN  ingredient     hub\n",
              "4417     4733         pepper NaN  ingredient     hub\n",
              "5228     5608           salt NaN  ingredient     hub\n",
              "5769     6172          sugar NaN  ingredient     hub\n",
              "5998     6409          thyme NaN  ingredient     hub\n",
              "6028     6441         tomato NaN  ingredient     hub"
            ]
          },
          "metadata": {
            "tags": []
          },
          "execution_count": 6
        }
      ]
    },
    {
      "cell_type": "markdown",
      "metadata": {
        "id": "G8kuI0plezr4"
      },
      "source": [
        "# define some helper functions"
      ]
    },
    {
      "cell_type": "code",
      "metadata": {
        "id": "Rs_Cx3WPfT96"
      },
      "source": [
        "# a function to get name and return available information of that ingredient\n",
        "\n",
        "def get_NER(lis):\n",
        "    return NER_codes[NER_codes['name'].isin(lis)]"
      ],
      "execution_count": 7,
      "outputs": []
    },
    {
      "cell_type": "code",
      "metadata": {
        "id": "AihEk2YHnmeP"
      },
      "source": [
        "# we need to define a function to get ingredient name and output ingredient embeding\n",
        "\n",
        "def get_embed(name):\n",
        "    id = NER_codes[NER_codes['name'] == name]['node_id'].values[0]\n",
        "    return embedding[str(id)]"
      ],
      "execution_count": 8,
      "outputs": []
    },
    {
      "cell_type": "code",
      "metadata": {
        "id": "mWvJ8wBxe7JU"
      },
      "source": [
        "# we need to define a function for returning name of ingredients based on id\n",
        "\n",
        "def get_name(id):\n",
        "    return NER_codes[NER_codes['node_id'] == int(id)]['name'].values[0]"
      ],
      "execution_count": 9,
      "outputs": []
    },
    {
      "cell_type": "code",
      "metadata": {
        "id": "M045OibeQeD_"
      },
      "source": [
        "# a function to return k neighbors of ingre in our embeding dictionary\n",
        "\n",
        "def neighbor (embd_all, ingre, k):\n",
        "    '''\n",
        "    input = main dictionary of embeddings, queried ingredients, number of neighbors\n",
        "    output = list of neighbors id\n",
        "    '''\n",
        "\n",
        "    d = {}\n",
        "    point = get_embed(ingre)\n",
        "    for key, val in embedding.items():\n",
        "        d[key] = np.linalg.norm(val-point)\n",
        "    result = nsmallest(k+1, d, key = d.get)\n",
        "\n",
        "    return result[1:]"
      ],
      "execution_count": 10,
      "outputs": []
    },
    {
      "cell_type": "code",
      "metadata": {
        "colab": {
          "base_uri": "https://localhost:8080/"
        },
        "id": "1D3rIfarhknQ",
        "outputId": "252f40a5-2bf7-4018-a4cc-1dea1da489c0"
      },
      "source": [
        "for ingred in soup_list:\n",
        "    l = []\n",
        "    for neigh in neighbor(embedding, ingred, 5):\n",
        "        l.append(get_name(neigh))\n",
        "    print(ingred)\n",
        "    print(l)"
      ],
      "execution_count": 11,
      "outputs": [
        {
          "output_type": "stream",
          "text": [
            "tomato\n",
            "['Methialdol', '2-Dodecanone', '5-Hydroxymethylfurfural', 'gamma-Ionone', '2-sec-Butylthiazole']\n",
            "salt\n",
            "['Heptanoic_Acid', 'Thiamine_Hydrochloride', 'thiamine', 'chocolate_spread', 'CID_644104']\n",
            "garlic\n",
            "['33368-82-0', '2,5-Dimethylthiophene', 'Diallyl_trisulfide', 'S-allyl-L-cysteine', '2,6-Di-tert-butyl-4-methylphenol']\n",
            "onion\n",
            "['227456-27-1', '2-Mercapto-2-Methyl-1-Pentanol', 'UNII-H5E892YJGG', 'Allyl_propyl_sulfide', '(Z)-Hex-4-enal']\n",
            "sugar\n",
            "['betaine', 'Thiamine_Hydrochloride', 'Heptanoic_Acid', 'thiamine', 'CID_644104']\n",
            "olive_oil\n",
            "['acorn', 'bluefish', 'sockeye_salmon', 'cuttlefish', 'spearmint']\n",
            "butter\n",
            "['Glycerides,_palm-oil_mono-_and_di-,_hydrogenated,_3-oxooctanoates', 'Glycerides,_palm-oil_mono-_and_di-,_hydrogenated,_3-oxododecanoates', 'cis-4-Heptenal', 'milk', 'egg']\n",
            "flour\n",
            "['Heptanoic_Acid', 'thiamine', 'CID_644104', 'chocolate_spread', 'fudge']\n",
            "chicken_broth\n",
            "['summer_savory', 'celery_rib', 'jerusalem_artichoke', 'pheasant', 'chayote']\n",
            "basil\n",
            "['oregano', '3-Hexanone', 'mulberry', 'romano_bean', 'Geraniol']\n",
            "pepper\n",
            "['Caryophyllene_alcohol', 'hydrochloric_acid', 'Hydroxycitronellal', 'beta-Caryophyllene_alcohol', 'Azulene,_1,2,3,4,5,6,7,8-octahydro-1,4-dimethyl-7-(1-methylethenyl)-,_(1S,4S,7R)-']\n",
            "milk\n",
            "['5,6-dimethyloxan-2-one', 'Isoquinoline', 'L-Lactic_acid', 'butter', 'egg']\n",
            "celery\n",
            "['Santalol,_alpha-_and_beta-', '2-methyl-3-[4-(propan-2-yl)cyclohex-1-en-1-yl]propanal', 'cis-3-Hexenyl_pyruvate', 'UNII-R1AUQ945JN', 'Valerophenone']\n",
            "thyme\n",
            "['rosemary', 'Menthone', 'Phenethyl_acetate', 'acetone', '5-Hexen-1-ol']\n",
            "baking_soda\n",
            "['trail_mix', 'baking_powder', 'black_currant', 'whey', 'vanilla_extract']\n"
          ],
          "name": "stdout"
        }
      ]
    },
    {
      "cell_type": "code",
      "metadata": {
        "id": "d9GesmWwTd7X"
      },
      "source": [
        "l = []\n",
        "for i in neighbor(embedding, 'tomato', 4):\n",
        "    l.append(get_name(i))"
      ],
      "execution_count": 12,
      "outputs": []
    },
    {
      "cell_type": "code",
      "metadata": {
        "colab": {
          "base_uri": "https://localhost:8080/"
        },
        "id": "wXrf3Q7IfKXo",
        "outputId": "be57b24c-31d9-4e47-b16e-a11aa349361b"
      },
      "source": [
        "l"
      ],
      "execution_count": 13,
      "outputs": [
        {
          "output_type": "execute_result",
          "data": {
            "text/plain": [
              "['Methialdol', '2-Dodecanone', '5-Hydroxymethylfurfural', 'gamma-Ionone']"
            ]
          },
          "metadata": {
            "tags": []
          },
          "execution_count": 13
        }
      ]
    },
    {
      "cell_type": "code",
      "metadata": {
        "colab": {
          "base_uri": "https://localhost:8080/",
          "height": 204
        },
        "id": "t47DdFL6gvC1",
        "outputId": "a047d4fa-db08-4f5a-99ed-9280a53faa5a"
      },
      "source": [
        "get_NER(['trail_mix', 'baking_powder', 'black_currant', 'whey', 'vanilla_extract'])"
      ],
      "execution_count": 14,
      "outputs": [
        {
          "output_type": "execute_result",
          "data": {
            "text/html": [
              "<div>\n",
              "<style scoped>\n",
              "    .dataframe tbody tr th:only-of-type {\n",
              "        vertical-align: middle;\n",
              "    }\n",
              "\n",
              "    .dataframe tbody tr th {\n",
              "        vertical-align: top;\n",
              "    }\n",
              "\n",
              "    .dataframe thead th {\n",
              "        text-align: right;\n",
              "    }\n",
              "</style>\n",
              "<table border=\"1\" class=\"dataframe\">\n",
              "  <thead>\n",
              "    <tr style=\"text-align: right;\">\n",
              "      <th></th>\n",
              "      <th>node_id</th>\n",
              "      <th>name</th>\n",
              "      <th>id</th>\n",
              "      <th>node_type</th>\n",
              "      <th>is_hub</th>\n",
              "    </tr>\n",
              "  </thead>\n",
              "  <tbody>\n",
              "    <tr>\n",
              "      <th>276</th>\n",
              "      <td>292</td>\n",
              "      <td>baking_powder</td>\n",
              "      <td>NaN</td>\n",
              "      <td>ingredient</td>\n",
              "      <td>no_hub</td>\n",
              "    </tr>\n",
              "    <tr>\n",
              "      <th>453</th>\n",
              "      <td>483</td>\n",
              "      <td>black_currant</td>\n",
              "      <td>NaN</td>\n",
              "      <td>ingredient</td>\n",
              "      <td>hub</td>\n",
              "    </tr>\n",
              "    <tr>\n",
              "      <th>6064</th>\n",
              "      <td>6478</td>\n",
              "      <td>trail_mix</td>\n",
              "      <td>NaN</td>\n",
              "      <td>ingredient</td>\n",
              "      <td>hub</td>\n",
              "    </tr>\n",
              "    <tr>\n",
              "      <th>6219</th>\n",
              "      <td>6644</td>\n",
              "      <td>vanilla_extract</td>\n",
              "      <td>NaN</td>\n",
              "      <td>ingredient</td>\n",
              "      <td>no_hub</td>\n",
              "    </tr>\n",
              "    <tr>\n",
              "      <th>6387</th>\n",
              "      <td>6821</td>\n",
              "      <td>whey</td>\n",
              "      <td>NaN</td>\n",
              "      <td>ingredient</td>\n",
              "      <td>hub</td>\n",
              "    </tr>\n",
              "  </tbody>\n",
              "</table>\n",
              "</div>"
            ],
            "text/plain": [
              "      node_id             name  id   node_type  is_hub\n",
              "276       292    baking_powder NaN  ingredient  no_hub\n",
              "453       483    black_currant NaN  ingredient     hub\n",
              "6064     6478        trail_mix NaN  ingredient     hub\n",
              "6219     6644  vanilla_extract NaN  ingredient  no_hub\n",
              "6387     6821             whey NaN  ingredient     hub"
            ]
          },
          "metadata": {
            "tags": []
          },
          "execution_count": 14
        }
      ]
    },
    {
      "cell_type": "code",
      "metadata": {
        "id": "vjyu5DvigzUu"
      },
      "source": [
        ""
      ],
      "execution_count": 14,
      "outputs": []
    }
  ]
}