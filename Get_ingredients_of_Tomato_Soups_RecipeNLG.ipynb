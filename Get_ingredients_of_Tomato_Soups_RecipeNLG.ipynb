{
  "nbformat": 4,
  "nbformat_minor": 0,
  "metadata": {
    "colab": {
      "name": "Get_ingredients_of_Tomato_Soups_RecipeNLG.ipynb",
      "provenance": [],
      "collapsed_sections": [
        "YXzM9Guw8Wc4",
        "6evCQCIT6FhU",
        "Lpf2rTSTM_Bh",
        "0Z_bH5PMNyC-"
      ],
      "authorship_tag": "ABX9TyOJqyuKDyYtV1Ffjms4RAxR",
      "include_colab_link": true
    },
    "kernelspec": {
      "name": "python3",
      "display_name": "Python 3"
    }
  },
  "cells": [
    {
      "cell_type": "markdown",
      "metadata": {
        "id": "view-in-github",
        "colab_type": "text"
      },
      "source": [
        "<a href=\"https://colab.research.google.com/github/BehzadBarati/Ingredient-Maps/blob/main/Get_ingredients_of_Tomato_Soups_RecipeNLG.ipynb\" target=\"_parent\"><img src=\"https://colab.research.google.com/assets/colab-badge.svg\" alt=\"Open In Colab\"/></a>"
      ]
    },
    {
      "cell_type": "markdown",
      "metadata": {
        "id": "y6B3Wlv8vOZq"
      },
      "source": [
        "Author: Behzad Barati\n",
        "\n",
        "Abstract:\n",
        "\n",
        "*   This notebook produces 15 most frequent ingredients of tomato soups in  Recipe1m dataset.\n",
        "*   RecipeNLG dataset is composed of Recipe1M dataset and other recipes which were added by RecipeNLG authors.\n",
        "*   out put is based on 2400 recipes which have 'tomato soup' in their title.\n",
        "___\n",
        "Source:\n",
        "\n",
        "My main refrences are [RecipeNLG paper](https://www.aclweb.org/anthology/2020.inlg-1.4.pdf) and its [dataset](https://recipenlg.cs.put.poznan.pl).\n",
        "___\n",
        "Input: \n",
        "\n",
        "*   Dataset of [RecipeNLG](https://recipenlg.cs.put.poznan.pl)\n",
        "\n",
        "Ouput:\n",
        "\n",
        "*   15 most frequent ingredients of tomato soups.\n",
        "___\n",
        "Hints:\n",
        "\n",
        "*   As our csv file is greater than 2 gigabytes, I prefer to use cloud services(here google colab). I uploaded RecipeNLG dataset in my [google drive](https://drive.google.com/drive/folders/1g1ZNYKlLN4hyP8ywHXWa2Iu1oQ4wxSgR?usp=sharing). It is public.\n"
      ]
    },
    {
      "cell_type": "markdown",
      "metadata": {
        "id": "YXzM9Guw8Wc4"
      },
      "source": [
        "# Import needed libraries"
      ]
    },
    {
      "cell_type": "code",
      "metadata": {
        "id": "Cwg3EmTR8brJ"
      },
      "source": [
        "# Install pandas_profiling library\n",
        "\n",
        "import numpy as np\n",
        "import pandas as pd\n",
        "import matplotlib.pyplot as plt\n",
        "from google.colab import drive              # Mount google drive to colab notebook\n",
        "import re                                   \n",
        "import string                               # removing special characters\n",
        "from pandas.core.common import flatten      # to make nested lists flat"
      ],
      "execution_count": 1,
      "outputs": []
    },
    {
      "cell_type": "markdown",
      "metadata": {
        "id": "6evCQCIT6FhU"
      },
      "source": [
        "# Load data"
      ]
    },
    {
      "cell_type": "code",
      "metadata": {
        "id": "ytrTiQikvjZP",
        "colab": {
          "base_uri": "https://localhost:8080/"
        },
        "outputId": "d92b0e60-257c-4efe-cbf5-52955ae7014f"
      },
      "source": [
        "# Mount google drive to colab notebook\n",
        "# Our dataset will be read as recipe_tomato.\n",
        "\n",
        "drive.mount('/content/gdrive', force_remount=True)"
      ],
      "execution_count": 2,
      "outputs": [
        {
          "output_type": "stream",
          "text": [
            "Mounted at /content/gdrive\n"
          ],
          "name": "stdout"
        }
      ]
    },
    {
      "cell_type": "code",
      "metadata": {
        "colab": {
          "base_uri": "https://localhost:8080/"
        },
        "id": "P4H_UOfNZTmO",
        "outputId": "acd0c840-57dc-4c07-d597-4dcb4714e5cc"
      },
      "source": [
        "cd gdrive/MyDrive/Projects/Ingredient-Maps/Phase1"
      ],
      "execution_count": 3,
      "outputs": [
        {
          "output_type": "stream",
          "text": [
            "/content/gdrive/MyDrive/Projects/Ingredient-Maps/Phase1\n"
          ],
          "name": "stdout"
        }
      ]
    },
    {
      "cell_type": "code",
      "metadata": {
        "colab": {
          "base_uri": "https://localhost:8080/",
          "height": 306
        },
        "id": "MsBjy_B17HEl",
        "outputId": "6d5e068a-a51c-4d1c-e9a2-08021d669814"
      },
      "source": [
        "# Reading file and check if data is loaded\n",
        "\n",
        "recipe_tomato = pd.read_csv('./dataset/RecipeNLG.csv')\n",
        "print('Number of recipes in dataset: ', len(recipe_tomato))\n",
        "recipe_tomato.rename(columns={'Unnamed: 0': 'id', 'title': 'tag_value', 'directions': 'steps', 'NER': 'ner'}, inplace=True)\n",
        "print('last 5 recipes:')\n",
        "recipe_tomato.tail(5)"
      ],
      "execution_count": 4,
      "outputs": [
        {
          "output_type": "stream",
          "text": [
            "Number of recipes in dataset:  2231142\n",
            "last 5 recipes:\n"
          ],
          "name": "stdout"
        },
        {
          "output_type": "execute_result",
          "data": {
            "text/html": [
              "<div>\n",
              "<style scoped>\n",
              "    .dataframe tbody tr th:only-of-type {\n",
              "        vertical-align: middle;\n",
              "    }\n",
              "\n",
              "    .dataframe tbody tr th {\n",
              "        vertical-align: top;\n",
              "    }\n",
              "\n",
              "    .dataframe thead th {\n",
              "        text-align: right;\n",
              "    }\n",
              "</style>\n",
              "<table border=\"1\" class=\"dataframe\">\n",
              "  <thead>\n",
              "    <tr style=\"text-align: right;\">\n",
              "      <th></th>\n",
              "      <th>id</th>\n",
              "      <th>tag_value</th>\n",
              "      <th>ingredients</th>\n",
              "      <th>steps</th>\n",
              "      <th>link</th>\n",
              "      <th>source</th>\n",
              "      <th>ner</th>\n",
              "    </tr>\n",
              "  </thead>\n",
              "  <tbody>\n",
              "    <tr>\n",
              "      <th>2231137</th>\n",
              "      <td>2231137</td>\n",
              "      <td>Sunny's Fake Crepes</td>\n",
              "      <td>[\"1/2 cup chocolate hazelnut spread (recommend...</td>\n",
              "      <td>[\"Spread hazelnut spread on 1 side of each tor...</td>\n",
              "      <td>www.foodnetwork.com/recipes/sunny-anderson/sun...</td>\n",
              "      <td>Recipes1M</td>\n",
              "      <td>[\"chocolate hazelnut spread\", \"tortillas\", \"bu...</td>\n",
              "    </tr>\n",
              "    <tr>\n",
              "      <th>2231138</th>\n",
              "      <td>2231138</td>\n",
              "      <td>Devil Eggs</td>\n",
              "      <td>[\"1 dozen eggs\", \"1 paprika\", \"1 salt and pepp...</td>\n",
              "      <td>[\"Boil eggs on medium for 30mins.\", \"Then cool...</td>\n",
              "      <td>cookpad.com/us/recipes/355411-devil-eggs</td>\n",
              "      <td>Recipes1M</td>\n",
              "      <td>[\"eggs\", \"paprika\", \"salt\", \"choice\", \"miracle...</td>\n",
              "    </tr>\n",
              "    <tr>\n",
              "      <th>2231139</th>\n",
              "      <td>2231139</td>\n",
              "      <td>Extremely Easy and Quick - Namul Daikon Salad</td>\n",
              "      <td>[\"150 grams Daikon radish\", \"1 tbsp Sesame oil...</td>\n",
              "      <td>[\"Julienne the daikon and squeeze out the exce...</td>\n",
              "      <td>cookpad.com/us/recipes/153324-extremely-easy-a...</td>\n",
              "      <td>Recipes1M</td>\n",
              "      <td>[\"radish\", \"Sesame oil\", \"White sesame seeds\",...</td>\n",
              "    </tr>\n",
              "    <tr>\n",
              "      <th>2231140</th>\n",
              "      <td>2231140</td>\n",
              "      <td>Pan-Roasted Pork Chops With Apple Fritters</td>\n",
              "      <td>[\"1 cup apple cider\", \"6 tablespoons sugar\", \"...</td>\n",
              "      <td>[\"In a large bowl, mix the apple cider with 4 ...</td>\n",
              "      <td>cooking.nytimes.com/recipes/1015164</td>\n",
              "      <td>Recipes1M</td>\n",
              "      <td>[\"apple cider\", \"sugar\", \"kosher salt\", \"bay l...</td>\n",
              "    </tr>\n",
              "    <tr>\n",
              "      <th>2231141</th>\n",
              "      <td>2231141</td>\n",
              "      <td>Polpette in Spicy Tomato Sauce</td>\n",
              "      <td>[\"1 pound ground veal\", \"1/2 pound sweet Itali...</td>\n",
              "      <td>[\"Preheat the oven to 350.\", \"In a bowl, mix t...</td>\n",
              "      <td>www.foodandwine.com/recipes/polpette-spicy-tom...</td>\n",
              "      <td>Recipes1M</td>\n",
              "      <td>[\"ground veal\", \"sausage\", \"bread crumbs\", \"mi...</td>\n",
              "    </tr>\n",
              "  </tbody>\n",
              "</table>\n",
              "</div>"
            ],
            "text/plain": [
              "              id  ...                                                ner\n",
              "2231137  2231137  ...  [\"chocolate hazelnut spread\", \"tortillas\", \"bu...\n",
              "2231138  2231138  ...  [\"eggs\", \"paprika\", \"salt\", \"choice\", \"miracle...\n",
              "2231139  2231139  ...  [\"radish\", \"Sesame oil\", \"White sesame seeds\",...\n",
              "2231140  2231140  ...  [\"apple cider\", \"sugar\", \"kosher salt\", \"bay l...\n",
              "2231141  2231141  ...  [\"ground veal\", \"sausage\", \"bread crumbs\", \"mi...\n",
              "\n",
              "[5 rows x 7 columns]"
            ]
          },
          "metadata": {
            "tags": []
          },
          "execution_count": 4
        }
      ]
    },
    {
      "cell_type": "markdown",
      "metadata": {
        "id": "Lpf2rTSTM_Bh"
      },
      "source": [
        "# Prprocess recipe_tomato"
      ]
    },
    {
      "cell_type": "code",
      "metadata": {
        "id": "3g0UiTatF3-m"
      },
      "source": [
        "recipe_tomato['tag_value'] = recipe_tomato['tag_value'].str.casefold()"
      ],
      "execution_count": 5,
      "outputs": []
    },
    {
      "cell_type": "code",
      "metadata": {
        "id": "1moRONWWF3wC"
      },
      "source": [
        "punctuations = str.maketrans('', '', '!\"#$%&\\'()*+-./:;<=>?@[\\\\]^_`{|}~')\n",
        "recipe_tomato['tag_value'] = recipe_tomato['tag_value'].str.translate(punctuations)"
      ],
      "execution_count": 6,
      "outputs": []
    },
    {
      "cell_type": "code",
      "metadata": {
        "id": "Q_BPdsed1MHw"
      },
      "source": [
        "# filter tomato soup\n",
        "\n",
        "recipe_tomato = recipe_tomato[recipe_tomato['tag_value'].str.contains('tomato soup')]"
      ],
      "execution_count": 8,
      "outputs": []
    },
    {
      "cell_type": "code",
      "metadata": {
        "colab": {
          "base_uri": "https://localhost:8080/"
        },
        "id": "e-umDirGFDil",
        "outputId": "cc3bd2bb-b044-4c5b-d186-0b6c71a6dadd"
      },
      "source": [
        "len(recipe_tomato)"
      ],
      "execution_count": 10,
      "outputs": [
        {
          "output_type": "execute_result",
          "data": {
            "text/plain": [
              "2481"
            ]
          },
          "metadata": {
            "tags": []
          },
          "execution_count": 10
        }
      ]
    },
    {
      "cell_type": "code",
      "metadata": {
        "colab": {
          "base_uri": "https://localhost:8080/",
          "height": 204
        },
        "id": "OTcMplEcjisn",
        "outputId": "0e54410f-7f57-4ef6-ebeb-64a0054a5b03"
      },
      "source": [
        "recipe_tomato.head()"
      ],
      "execution_count": 9,
      "outputs": [
        {
          "output_type": "execute_result",
          "data": {
            "text/html": [
              "<div>\n",
              "<style scoped>\n",
              "    .dataframe tbody tr th:only-of-type {\n",
              "        vertical-align: middle;\n",
              "    }\n",
              "\n",
              "    .dataframe tbody tr th {\n",
              "        vertical-align: top;\n",
              "    }\n",
              "\n",
              "    .dataframe thead th {\n",
              "        text-align: right;\n",
              "    }\n",
              "</style>\n",
              "<table border=\"1\" class=\"dataframe\">\n",
              "  <thead>\n",
              "    <tr style=\"text-align: right;\">\n",
              "      <th></th>\n",
              "      <th>id</th>\n",
              "      <th>tag_value</th>\n",
              "      <th>ingredients</th>\n",
              "      <th>steps</th>\n",
              "      <th>link</th>\n",
              "      <th>source</th>\n",
              "      <th>ner</th>\n",
              "    </tr>\n",
              "  </thead>\n",
              "  <tbody>\n",
              "    <tr>\n",
              "      <th>645</th>\n",
              "      <td>645</td>\n",
              "      <td>tomato soup cake</td>\n",
              "      <td>[\"3/4 c. shortening\", \"1 1/2 c. sugar\", \"1 can...</td>\n",
              "      <td>[\"Pour in greased and floured 9 x 13-inch pan....</td>\n",
              "      <td>www.cookbooks.com/Recipe-Details.aspx?id=378813</td>\n",
              "      <td>Gathered</td>\n",
              "      <td>[\"shortening\", \"sugar\", \"tomato soup\", \"water\"...</td>\n",
              "    </tr>\n",
              "    <tr>\n",
              "      <th>2059</th>\n",
              "      <td>2059</td>\n",
              "      <td>tomato soup congealed salad</td>\n",
              "      <td>[\"2 Tbsp. Knox gelatin\", \"1/2 c. cool water\", ...</td>\n",
              "      <td>[\"Dissolve gelatin in cool water.\", \"Heat crea...</td>\n",
              "      <td>www.cookbooks.com/Recipe-Details.aspx?id=315478</td>\n",
              "      <td>Gathered</td>\n",
              "      <td>[\"gelatin\", \"water\", \"mayonnaise\", \"celery\", \"...</td>\n",
              "    </tr>\n",
              "    <tr>\n",
              "      <th>3062</th>\n",
              "      <td>3062</td>\n",
              "      <td>tomato soup cakespice cake</td>\n",
              "      <td>[\"3/4 c. Crisco\", \"1 1/2 c. sugar\", \"1 can of ...</td>\n",
              "      <td>[\"Blend Crisco and sugar.\", \"Combine soup with...</td>\n",
              "      <td>www.cookbooks.com/Recipe-Details.aspx?id=46941</td>\n",
              "      <td>Gathered</td>\n",
              "      <td>[\"Crisco\", \"sugar\", \"tomato soup\", \"water\", \"b...</td>\n",
              "    </tr>\n",
              "    <tr>\n",
              "      <th>3353</th>\n",
              "      <td>3353</td>\n",
              "      <td>georgias tomato soup</td>\n",
              "      <td>[\"1 gal. tomato juice\", \"4 sweet peppers\", \"4 ...</td>\n",
              "      <td>[\"Heat juice and mix in cornstarch, salt and s...</td>\n",
              "      <td>www.cookbooks.com/Recipe-Details.aspx?id=709508</td>\n",
              "      <td>Gathered</td>\n",
              "      <td>[\"tomato juice\", \"sweet peppers\", \"onions\", \"b...</td>\n",
              "    </tr>\n",
              "    <tr>\n",
              "      <th>7085</th>\n",
              "      <td>7085</td>\n",
              "      <td>curried tomato soup</td>\n",
              "      <td>[\"4 Tbsp. butter\", \"3/4 c. chopped onion\", \"2 ...</td>\n",
              "      <td>[\"Heat the butter in a saucepan; add the onion...</td>\n",
              "      <td>www.cookbooks.com/Recipe-Details.aspx?id=558009</td>\n",
              "      <td>Gathered</td>\n",
              "      <td>[\"butter\", \"onion\", \"curry powder\", \"Italian t...</td>\n",
              "    </tr>\n",
              "  </tbody>\n",
              "</table>\n",
              "</div>"
            ],
            "text/plain": [
              "        id  ...                                                ner\n",
              "645    645  ...  [\"shortening\", \"sugar\", \"tomato soup\", \"water\"...\n",
              "2059  2059  ...  [\"gelatin\", \"water\", \"mayonnaise\", \"celery\", \"...\n",
              "3062  3062  ...  [\"Crisco\", \"sugar\", \"tomato soup\", \"water\", \"b...\n",
              "3353  3353  ...  [\"tomato juice\", \"sweet peppers\", \"onions\", \"b...\n",
              "7085  7085  ...  [\"butter\", \"onion\", \"curry powder\", \"Italian t...\n",
              "\n",
              "[5 rows x 7 columns]"
            ]
          },
          "metadata": {
            "tags": []
          },
          "execution_count": 9
        }
      ]
    },
    {
      "cell_type": "markdown",
      "metadata": {
        "id": "0Z_bH5PMNyC-"
      },
      "source": [
        "# Process ner column "
      ]
    },
    {
      "cell_type": "code",
      "metadata": {
        "id": "a6P_cJXksm74"
      },
      "source": [
        "# make characters lowercase strictly.\n",
        "recipe_tomato['ner'] = recipe_tomato['ner'].str.casefold()"
      ],
      "execution_count": 11,
      "outputs": []
    },
    {
      "cell_type": "code",
      "metadata": {
        "id": "wdEb-c9HfbEF"
      },
      "source": [
        "# remove punctuations from tag_value and ner columns\n",
        "\n",
        "recipe_tomato['ner'] = recipe_tomato['ner'].str.translate(punctuations)"
      ],
      "execution_count": 12,
      "outputs": []
    },
    {
      "cell_type": "code",
      "metadata": {
        "id": "q4PWj_skuoOp"
      },
      "source": [
        "# drop rows with no tag_value or ner\n",
        "\n",
        "recipe_tomato = recipe_tomato[recipe_tomato['tag_value'].notna()]\n",
        "recipe_tomato = recipe_tomato[recipe_tomato['ner'].notna()]\n",
        "recipe_tomato = recipe_tomato[recipe_tomato['ner'] != '']"
      ],
      "execution_count": 13,
      "outputs": []
    },
    {
      "cell_type": "code",
      "metadata": {
        "id": "Kl680zPctiFT"
      },
      "source": [
        "# split ner components to make a list out of them.\n",
        "\n",
        "recipe_tomato['ner'] = recipe_tomato['ner'].str.split(',')"
      ],
      "execution_count": 14,
      "outputs": []
    },
    {
      "cell_type": "code",
      "metadata": {
        "id": "_1vBOA4N5Ou1"
      },
      "source": [
        "# remove spaces before/after items of list\n",
        "\n",
        "recipe_tomato['ner'] = [[val.strip() for val in sublist] for sublist in recipe_tomato['ner'].values]"
      ],
      "execution_count": 15,
      "outputs": []
    },
    {
      "cell_type": "code",
      "metadata": {
        "id": "rjcHKmy8KLkz"
      },
      "source": [
        "# I noticed some ner start with \"a \" (i.e. a milk). so we should remove them.\n",
        "\n",
        "recipe_tomato['ner'] = [[re.sub('^a ', '', val) for val in sublist] for sublist in recipe_tomato['ner'].values]"
      ],
      "execution_count": 16,
      "outputs": []
    },
    {
      "cell_type": "code",
      "metadata": {
        "id": "WeQBr8VVYPsM"
      },
      "source": [
        "# remove spaces before/after items of list once again\n",
        "\n",
        "recipe_tomato['ner'] = [[val.strip() for val in sublist] for sublist in recipe_tomato['ner'].values]"
      ],
      "execution_count": 17,
      "outputs": []
    },
    {
      "cell_type": "code",
      "metadata": {
        "id": "XlNjYbM75EuX"
      },
      "source": [
        "# remove empty items from lists in ner column\n",
        "\n",
        "recipe_tomato['ner'] = recipe_tomato['ner'].apply(lambda row: list(filter(None, row)))"
      ],
      "execution_count": 18,
      "outputs": []
    },
    {
      "cell_type": "code",
      "metadata": {
        "id": "142XdZVtp5BQ"
      },
      "source": [
        "# remove items from lists in ner column which are only 1 character (i.e. 'm')\n",
        "\n",
        "recipe_tomato['ner'] = recipe_tomato['ner'].apply(lambda row: [item for item in row if len(item) > 1] )"
      ],
      "execution_count": 19,
      "outputs": []
    },
    {
      "cell_type": "code",
      "metadata": {
        "id": "ezqf7OBIf7wW"
      },
      "source": [
        "# remove duplicates items in each row of ner column\n",
        "\n",
        "recipe_tomato['ner'] = recipe_tomato['ner'].apply(lambda row: list(set(row)))"
      ],
      "execution_count": 20,
      "outputs": []
    },
    {
      "cell_type": "code",
      "metadata": {
        "id": "IclGmwXBh866"
      },
      "source": [
        "# romve recipes where they have less than two ners.\n",
        "\n",
        "recipe_tomato = recipe_tomato[recipe_tomato['ner'].str.len() > 1]"
      ],
      "execution_count": 21,
      "outputs": []
    },
    {
      "cell_type": "code",
      "metadata": {
        "id": "7HiPDYmtbJHQ"
      },
      "source": [
        "# most frequent Values of NER in tomato soups\n",
        "\n",
        "ingredients = recipe_tomato['ner'].explode().value_counts()\n",
        "output = ingredients.head(20)"
      ],
      "execution_count": 56,
      "outputs": []
    },
    {
      "cell_type": "code",
      "metadata": {
        "colab": {
          "base_uri": "https://localhost:8080/"
        },
        "id": "ISl7ppkqBrOD",
        "outputId": "6044143a-008e-4d19-a171-b59ebad51b71"
      },
      "source": [
        "output"
      ],
      "execution_count": 57,
      "outputs": [
        {
          "output_type": "execute_result",
          "data": {
            "text/plain": [
              "tomatoes         1586\n",
              "salt             1463\n",
              "garlic           1062\n",
              "onion            1009\n",
              "sugar             800\n",
              "olive oil         663\n",
              "butter            661\n",
              "flour             517\n",
              "water             502\n",
              "chicken broth     428\n",
              "basil             424\n",
              "tomato soup       403\n",
              "pepper            399\n",
              "milk              372\n",
              "celery            355\n",
              "onions            301\n",
              "thyme             273\n",
              "tomato paste      251\n",
              "baking soda       237\n",
              "fresh basil       237\n",
              "Name: ner, dtype: int64"
            ]
          },
          "metadata": {
            "tags": []
          },
          "execution_count": 57
        }
      ]
    },
    {
      "cell_type": "code",
      "metadata": {
        "id": "Hq-vkdKcF2o8"
      },
      "source": [
        "# some entries are duplicates or can be removed to have a better list.\n",
        "\n",
        "output = output.drop(['water', 'tomato soup', 'tomato paste', 'fresh basil', 'onions'])"
      ],
      "execution_count": 58,
      "outputs": []
    },
    {
      "cell_type": "code",
      "metadata": {
        "id": "iFY2s8X0Gb1n"
      },
      "source": [
        "output.to_csv('output.csv', header=False)"
      ],
      "execution_count": 61,
      "outputs": []
    },
    {
      "cell_type": "code",
      "metadata": {
        "colab": {
          "base_uri": "https://localhost:8080/"
        },
        "id": "ECtWwwVSGBKQ",
        "outputId": "307eb434-5db4-4c22-96b7-f1599181827c"
      },
      "source": [
        "output"
      ],
      "execution_count": 62,
      "outputs": [
        {
          "output_type": "execute_result",
          "data": {
            "text/plain": [
              "tomatoes         1586\n",
              "salt             1463\n",
              "garlic           1062\n",
              "onion            1009\n",
              "sugar             800\n",
              "olive oil         663\n",
              "butter            661\n",
              "flour             517\n",
              "chicken broth     428\n",
              "basil             424\n",
              "pepper            399\n",
              "milk              372\n",
              "celery            355\n",
              "thyme             273\n",
              "baking soda       237\n",
              "Name: ner, dtype: int64"
            ]
          },
          "metadata": {
            "tags": []
          },
          "execution_count": 62
        }
      ]
    }
  ]
}