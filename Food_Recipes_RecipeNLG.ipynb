{
  "nbformat": 4,
  "nbformat_minor": 0,
  "metadata": {
    "colab": {
      "name": "Food-Recipes-RecipeNLG.ipynb",
      "provenance": [],
      "collapsed_sections": [
        "YXzM9Guw8Wc4",
        "6evCQCIT6FhU",
        "ahurEDptAC1n",
        "qi2cv6u5NMcd",
        "KWXCzQlhW2MN"
      ],
      "authorship_tag": "ABX9TyO/Z3qL2ICHIPbeZbgXXoV6",
      "include_colab_link": true
    },
    "kernelspec": {
      "name": "python3",
      "display_name": "Python 3"
    }
  },
  "cells": [
    {
      "cell_type": "markdown",
      "metadata": {
        "id": "view-in-github",
        "colab_type": "text"
      },
      "source": [
        "<a href=\"https://colab.research.google.com/github/BehzadBarati/Ingredient-Maps/blob/main/Food_Recipes_RecipeNLG.ipynb\" target=\"_parent\"><img src=\"https://colab.research.google.com/assets/colab-badge.svg\" alt=\"Open In Colab\"/></a>"
      ]
    },
    {
      "cell_type": "markdown",
      "metadata": {
        "id": "y6B3Wlv8vOZq"
      },
      "source": [
        "Abstract:\r\n",
        "\r\n",
        "This notebook produces elementary reports on RecipeNLG dataset which contains more than 2 million recipies of foods.\r\n",
        "___\r\n",
        "Source:\r\n",
        "\r\n",
        "My main refrences are [RecipeNLG paper](https://www.aclweb.org/anthology/2020.inlg-1.4.pdf) and its [dataset](https://recipenlg.cs.put.poznan.pl).\r\n",
        "___\r\n",
        "Input: \r\n",
        "\r\n",
        "1- Dataset of [RecipeNLG](https://recipenlg.cs.put.poznan.pl)\r\n",
        "\r\n",
        "Ouput:\r\n",
        "\r\n",
        "1- EDA report on RecipeNLG dataset (both inline and \"EDA-Report-RecipeNLG.html\" file)\r\n",
        "\r\n",
        "2- word cloud pictures (inline)\r\n",
        "\r\n",
        "3- list of source websites of recipies ( \"Websites-RecipeNLG.csv\" file)\r\n",
        "___\r\n",
        "Hints:\r\n",
        "\r\n",
        "1_ As our csv file is greater than 2 gigabytes, I prefer to use cloud services(here google colab). I uploaded RecipeNLG dataset in my [google drive](https://drive.google.com/drive/folders/1g1ZNYKlLN4hyP8ywHXWa2Iu1oQ4wxSgR?usp=sharing). It is public.\r\n",
        "\r\n",
        "2_ If there is out of memory error in running \"ProfileReport\", please first re-install latest version of \"pandas_profiling\" library, then try \"minimal=True\" argument in \"profileReport\" for eliminating some calculations. (pip install https://github.com/pandas-profiling/pandas-profiling/archive/master.zip)"
      ]
    },
    {
      "cell_type": "markdown",
      "metadata": {
        "id": "YXzM9Guw8Wc4"
      },
      "source": [
        "# Import needed libraries"
      ]
    },
    {
      "cell_type": "code",
      "metadata": {
        "id": "Cwg3EmTR8brJ"
      },
      "source": [
        "# Install pandas_profiling library\r\n",
        "# pip install https://github.com/pandas-profiling/pandas-profiling/archive/master.zip\r\n",
        "\r\n",
        "import numpy as np\r\n",
        "import pandas as pd \r\n",
        "from wordcloud import WordCloud             # Make wordcloud pictures\r\n",
        "from pandas_profiling import ProfileReport  # Generate brief report on our dataframe\r\n",
        "import matplotlib.pyplot as plt\r\n",
        "from google.colab import drive              # Mount google drive to colab notebook\r\n",
        "import ast                                  # Convert string to list"
      ],
      "execution_count": 1,
      "outputs": []
    },
    {
      "cell_type": "markdown",
      "metadata": {
        "id": "6evCQCIT6FhU"
      },
      "source": [
        "# Load data"
      ]
    },
    {
      "cell_type": "code",
      "metadata": {
        "id": "ytrTiQikvjZP",
        "colab": {
          "base_uri": "https://localhost:8080/"
        },
        "outputId": "56320e20-bedf-459d-c18d-c46f8ca72bc3"
      },
      "source": [
        "# Mount google drive to colab notebook\r\n",
        "# Our dataset will be read as recipe_table.\r\n",
        "\r\n",
        "drive.mount('/content/gdrive', force_remount=True)"
      ],
      "execution_count": 2,
      "outputs": [
        {
          "output_type": "stream",
          "text": [
            "Mounted at /content/gdrive\n"
          ],
          "name": "stdout"
        }
      ]
    },
    {
      "cell_type": "code",
      "metadata": {
        "colab": {
          "base_uri": "https://localhost:8080/"
        },
        "id": "P4H_UOfNZTmO",
        "outputId": "c059ac29-1ad1-4ab0-ebca-a54087a8f8fa"
      },
      "source": [
        "cd gdrive/MyDrive/Projects/Ingredient-Maps/Phase1"
      ],
      "execution_count": 3,
      "outputs": [
        {
          "output_type": "stream",
          "text": [
            "/content/gdrive/MyDrive/Projects/Ingredient-Maps/Phase1\n"
          ],
          "name": "stdout"
        }
      ]
    },
    {
      "cell_type": "code",
      "metadata": {
        "colab": {
          "base_uri": "https://localhost:8080/",
          "height": 407
        },
        "id": "MsBjy_B17HEl",
        "outputId": "5ec87193-5a8b-4a14-cf37-45a45a80fefa"
      },
      "source": [
        "# Reading file and check if data is loaded\r\n",
        "\r\n",
        "recipe_table = pd.read_csv('./dataset/RecipeNLG.csv')\r\n",
        "print('Number of recipes in dataset: ', len(recipe_table))\r\n",
        "print('last 5 recipes:')\r\n",
        "recipe_table.tail(5)"
      ],
      "execution_count": 4,
      "outputs": [
        {
          "output_type": "stream",
          "text": [
            "Number of recipes in dataset:  2231142\n",
            "last 5 recipes:\n"
          ],
          "name": "stdout"
        },
        {
          "output_type": "execute_result",
          "data": {
            "text/html": [
              "<div>\n",
              "<style scoped>\n",
              "    .dataframe tbody tr th:only-of-type {\n",
              "        vertical-align: middle;\n",
              "    }\n",
              "\n",
              "    .dataframe tbody tr th {\n",
              "        vertical-align: top;\n",
              "    }\n",
              "\n",
              "    .dataframe thead th {\n",
              "        text-align: right;\n",
              "    }\n",
              "</style>\n",
              "<table border=\"1\" class=\"dataframe\">\n",
              "  <thead>\n",
              "    <tr style=\"text-align: right;\">\n",
              "      <th></th>\n",
              "      <th>Unnamed: 0</th>\n",
              "      <th>title</th>\n",
              "      <th>ingredients</th>\n",
              "      <th>directions</th>\n",
              "      <th>link</th>\n",
              "      <th>source</th>\n",
              "      <th>NER</th>\n",
              "    </tr>\n",
              "  </thead>\n",
              "  <tbody>\n",
              "    <tr>\n",
              "      <th>2231137</th>\n",
              "      <td>2231137</td>\n",
              "      <td>Sunny's Fake Crepes</td>\n",
              "      <td>[\"1/2 cup chocolate hazelnut spread (recommend...</td>\n",
              "      <td>[\"Spread hazelnut spread on 1 side of each tor...</td>\n",
              "      <td>www.foodnetwork.com/recipes/sunny-anderson/sun...</td>\n",
              "      <td>Recipes1M</td>\n",
              "      <td>[\"chocolate hazelnut spread\", \"tortillas\", \"bu...</td>\n",
              "    </tr>\n",
              "    <tr>\n",
              "      <th>2231138</th>\n",
              "      <td>2231138</td>\n",
              "      <td>Devil Eggs</td>\n",
              "      <td>[\"1 dozen eggs\", \"1 paprika\", \"1 salt and pepp...</td>\n",
              "      <td>[\"Boil eggs on medium for 30mins.\", \"Then cool...</td>\n",
              "      <td>cookpad.com/us/recipes/355411-devil-eggs</td>\n",
              "      <td>Recipes1M</td>\n",
              "      <td>[\"eggs\", \"paprika\", \"salt\", \"choice\", \"miracle...</td>\n",
              "    </tr>\n",
              "    <tr>\n",
              "      <th>2231139</th>\n",
              "      <td>2231139</td>\n",
              "      <td>Extremely Easy and Quick - Namul Daikon Salad</td>\n",
              "      <td>[\"150 grams Daikon radish\", \"1 tbsp Sesame oil...</td>\n",
              "      <td>[\"Julienne the daikon and squeeze out the exce...</td>\n",
              "      <td>cookpad.com/us/recipes/153324-extremely-easy-a...</td>\n",
              "      <td>Recipes1M</td>\n",
              "      <td>[\"radish\", \"Sesame oil\", \"White sesame seeds\",...</td>\n",
              "    </tr>\n",
              "    <tr>\n",
              "      <th>2231140</th>\n",
              "      <td>2231140</td>\n",
              "      <td>Pan-Roasted Pork Chops With Apple Fritters</td>\n",
              "      <td>[\"1 cup apple cider\", \"6 tablespoons sugar\", \"...</td>\n",
              "      <td>[\"In a large bowl, mix the apple cider with 4 ...</td>\n",
              "      <td>cooking.nytimes.com/recipes/1015164</td>\n",
              "      <td>Recipes1M</td>\n",
              "      <td>[\"apple cider\", \"sugar\", \"kosher salt\", \"bay l...</td>\n",
              "    </tr>\n",
              "    <tr>\n",
              "      <th>2231141</th>\n",
              "      <td>2231141</td>\n",
              "      <td>Polpette in Spicy Tomato Sauce</td>\n",
              "      <td>[\"1 pound ground veal\", \"1/2 pound sweet Itali...</td>\n",
              "      <td>[\"Preheat the oven to 350.\", \"In a bowl, mix t...</td>\n",
              "      <td>www.foodandwine.com/recipes/polpette-spicy-tom...</td>\n",
              "      <td>Recipes1M</td>\n",
              "      <td>[\"ground veal\", \"sausage\", \"bread crumbs\", \"mi...</td>\n",
              "    </tr>\n",
              "  </tbody>\n",
              "</table>\n",
              "</div>"
            ],
            "text/plain": [
              "         Unnamed: 0  ...                                                NER\n",
              "2231137     2231137  ...  [\"chocolate hazelnut spread\", \"tortillas\", \"bu...\n",
              "2231138     2231138  ...  [\"eggs\", \"paprika\", \"salt\", \"choice\", \"miracle...\n",
              "2231139     2231139  ...  [\"radish\", \"Sesame oil\", \"White sesame seeds\",...\n",
              "2231140     2231140  ...  [\"apple cider\", \"sugar\", \"kosher salt\", \"bay l...\n",
              "2231141     2231141  ...  [\"ground veal\", \"sausage\", \"bread crumbs\", \"mi...\n",
              "\n",
              "[5 rows x 7 columns]"
            ]
          },
          "metadata": {
            "tags": []
          },
          "execution_count": 4
        }
      ]
    },
    {
      "cell_type": "markdown",
      "metadata": {
        "id": "ahurEDptAC1n"
      },
      "source": [
        "# EDA (Exploratory Data Analysis)\r\n",
        "I dont want to generate report every time I run it, so EDA, world cloud and website list cells are muted."
      ]
    },
    {
      "cell_type": "code",
      "metadata": {
        "id": "zqrcZV_3AJin"
      },
      "source": [
        "'''\r\n",
        "# Column 'Unnamed: 0' seems to be useless for EDA section,so I drop it for making our dataset smaller.\r\n",
        "\r\n",
        "recipe_table.drop('Unnamed: 0', axis='columns', inplace=True)\r\n",
        "'''"
      ],
      "execution_count": null,
      "outputs": []
    },
    {
      "cell_type": "code",
      "metadata": {
        "id": "ICR4QpAJBqV5"
      },
      "source": [
        "'''\r\n",
        "# Generate a quick report from our dataset \r\n",
        "\r\n",
        "profile = ProfileReport(recipe_table, minimal=True)\r\n",
        "profile.to_file(\"EDA-Report-RecipeNLG.html\")\r\n",
        "profile\r\n",
        "'''"
      ],
      "execution_count": null,
      "outputs": []
    },
    {
      "cell_type": "markdown",
      "metadata": {
        "id": "83uYFQwBMxQe"
      },
      "source": [
        "## World clouds"
      ]
    },
    {
      "cell_type": "code",
      "metadata": {
        "id": "lnUMBM5zGig0"
      },
      "source": [
        "'''\r\n",
        "# For creating word clouds, I used WordCloud library which was imported before.\r\n",
        "\r\n",
        "def minimal_wordcloud(df, column):\r\n",
        "    \"\"\"\r\n",
        "    Generate a simple wordcloud similar to: \r\n",
        "    https://www.kaggle.com/paultimothymooney/explore-recipe-nlg-dataset/data.\r\n",
        "    The only import required is: from wordcloud import WordCloud\r\n",
        "    \"\"\"\r\n",
        "    text = str(df[column].values)\r\n",
        "    wordcloud = WordCloud().generate(text)\r\n",
        "    image = wordcloud.to_image()\r\n",
        "    plt.axis(\"off\")\r\n",
        "    plt.imshow(image)\r\n",
        "    plt.show()\r\n",
        "'''"
      ],
      "execution_count": null,
      "outputs": []
    },
    {
      "cell_type": "code",
      "metadata": {
        "id": "txxpFbMVf8bt"
      },
      "source": [
        "'''\r\n",
        "# Print word clouds\r\n",
        "\r\n",
        "for c in recipe_table.columns:\r\n",
        "    print('\\nworld cloud of contents in column {}'.format(c))\r\n",
        "    minimal_wordcloud(recipe_table, c)\r\n",
        "'''"
      ],
      "execution_count": null,
      "outputs": []
    },
    {
      "cell_type": "markdown",
      "metadata": {
        "id": "roI52c75nFkn"
      },
      "source": [
        "## list of websites in RecipieNLG"
      ]
    },
    {
      "cell_type": "code",
      "metadata": {
        "id": "XtCQc_OLnOrY"
      },
      "source": [
        "'''\r\n",
        "# Based on link column I tried to extract website names.\r\n",
        "# This func helps to select website names where we do not have 'www' at beginning\r\n",
        "\r\n",
        "func = lambda x: x[1] if x[0] == 'www' else x[0]\r\n",
        "recipe_table['website'] = recipe_table['link'].str.split('.').apply(func)\r\n",
        "'''"
      ],
      "execution_count": null,
      "outputs": []
    },
    {
      "cell_type": "code",
      "metadata": {
        "id": "Qr3xIouJqaav"
      },
      "source": [
        "'''\r\n",
        "recipe_table['website'].value_counts().rename_axis('websites').to_csv('./reports/Websites-RecipeNLG.csv',  header=['No. of recipies'])\r\n",
        "recipe_table['website'].value_counts().rename_axis('websites')\r\n",
        "'''"
      ],
      "execution_count": null,
      "outputs": []
    },
    {
      "cell_type": "markdown",
      "metadata": {
        "id": "Lpf2rTSTM_Bh"
      },
      "source": [
        "# Convert to SQL tables"
      ]
    },
    {
      "cell_type": "markdown",
      "metadata": {
        "id": "qi2cv6u5NMcd"
      },
      "source": [
        "## Set main key for recipe_table"
      ]
    },
    {
      "cell_type": "markdown",
      "metadata": {
        "id": "0Z_bH5PMNyC-"
      },
      "source": [
        "Since there are meals who have more than one recipe, we can use index of main table as recipe_IDs.   "
      ]
    },
    {
      "cell_type": "code",
      "metadata": {
        "id": "Qz_HQXkKNKgS"
      },
      "source": [
        "recipe_table.columns = recipe_table.columns.str.replace('Unnamed: 0','recipe_ID')"
      ],
      "execution_count": 11,
      "outputs": []
    },
    {
      "cell_type": "code",
      "metadata": {
        "id": "5TlGy6OgQ3fK"
      },
      "source": [
        "recipe_table['recipe_ID'] = \"Rec\" + recipe_table['recipe_ID'].astype(str)"
      ],
      "execution_count": 12,
      "outputs": []
    },
    {
      "cell_type": "markdown",
      "metadata": {
        "id": "KWXCzQlhW2MN"
      },
      "source": [
        "## NER_table"
      ]
    },
    {
      "cell_type": "code",
      "metadata": {
        "id": "UGvgp6DfWfPB"
      },
      "source": [
        "# values of NER column are stored as string. first we convert them to lists\r\n",
        "\r\n",
        "ast_func = lambda a: ast.literal_eval(a)\r\n",
        "recipe_table['NER'] = recipe_table['NER'].map(ast_func)\r\n",
        "# create NER_table\r\n",
        "NER_table = pd.DataFrame(recipe_table['NER'].explode().unique(), columns=['NER'])\r\n",
        "# add NER_ID column\r\n",
        "NER_table['NER_ID'] =  ['NER'+str(i) for i in range(len(NER_table['NER']))]"
      ],
      "execution_count": 13,
      "outputs": []
    },
    {
      "cell_type": "code",
      "metadata": {
        "id": "kd8LwruX-yd-"
      },
      "source": [
        "# by help of conv dictionary, we replace names in recipe_table['NER'] with IDs\n",
        "# set index to NER and make a dictionary out of df\n",
        "\n",
        "NER_table.set_index(['NER'], inplace=True)\n",
        "conv = NER_table.to_dict('dict')\n",
        "recipe_table['NER'] = recipe_table['NER'].apply(lambda row: [conv['NER_ID'][v] for v in row if conv['NER_ID'].get(v)])"
      ],
      "execution_count": 14,
      "outputs": []
    },
    {
      "cell_type": "code",
      "metadata": {
        "id": "maFm8OEFFGpr"
      },
      "source": [
        "# add a column to keep recipe_IDs\r\n",
        "\r\n",
        "NER_table['recipe_ID'] = np.empty((len(NER_table), 0)).tolist()\r\n",
        "NER_table = NER_table.reset_index().set_index('NER_ID')"
      ],
      "execution_count": 15,
      "outputs": []
    },
    {
      "cell_type": "code",
      "metadata": {
        "id": "wgan_tjV-1uG"
      },
      "source": [
        "# we fill recipe_ID column to NER_table contains all recipe_IDs used NER in. (~ 5 minutes in colab)\r\n",
        "\r\n",
        "for k in range(len(recipe_table)):\r\n",
        "    for m in recipe_table['NER'][k]:\r\n",
        "        NER_table['recipe_ID'][m].append(recipe_table['recipe_ID'][k])"
      ],
      "execution_count": 16,
      "outputs": []
    },
    {
      "cell_type": "code",
      "metadata": {
        "id": "1MOYH8XTfyYY"
      },
      "source": [
        "# this is another approach to fill recipe_ID column in NER_table. but this is slow. (~ 1600 hours for this problem)\r\n",
        "'''\r\n",
        "NER_table['recipe_ID'] = np.empty((len(NER_table), 0)).tolist()\r\n",
        "for i in range(len(NER_table)):\r\n",
        "    t0= time.clock()\r\n",
        "    for j in range(len(recipe_table)):\r\n",
        "        if NER_table['NER_ID'][i] in recipe_table['NER'][j]:\r\n",
        "           NER_table['recipe_ID'][i].append(recipe_table['recipe_ID'][j])\r\n",
        "    print(time.clock() - t0)\r\n",
        "'''"
      ],
      "execution_count": 17,
      "outputs": []
    },
    {
      "cell_type": "code",
      "metadata": {
        "colab": {
          "base_uri": "https://localhost:8080/",
          "height": 285
        },
        "id": "PQ0a7eBOAiCl",
        "outputId": "4fe0417c-6059-4532-c1fa-88e4d096b569"
      },
      "source": [
        "recipe_table.head()"
      ],
      "execution_count": 18,
      "outputs": [
        {
          "output_type": "execute_result",
          "data": {
            "text/html": [
              "<div>\n",
              "<style scoped>\n",
              "    .dataframe tbody tr th:only-of-type {\n",
              "        vertical-align: middle;\n",
              "    }\n",
              "\n",
              "    .dataframe tbody tr th {\n",
              "        vertical-align: top;\n",
              "    }\n",
              "\n",
              "    .dataframe thead th {\n",
              "        text-align: right;\n",
              "    }\n",
              "</style>\n",
              "<table border=\"1\" class=\"dataframe\">\n",
              "  <thead>\n",
              "    <tr style=\"text-align: right;\">\n",
              "      <th></th>\n",
              "      <th>recipe_ID</th>\n",
              "      <th>title</th>\n",
              "      <th>ingredients</th>\n",
              "      <th>directions</th>\n",
              "      <th>link</th>\n",
              "      <th>source</th>\n",
              "      <th>NER</th>\n",
              "    </tr>\n",
              "  </thead>\n",
              "  <tbody>\n",
              "    <tr>\n",
              "      <th>0</th>\n",
              "      <td>Rec0</td>\n",
              "      <td>No-Bake Nut Cookies</td>\n",
              "      <td>[\"1 c. firmly packed brown sugar\", \"1/2 c. eva...</td>\n",
              "      <td>[\"In a heavy 2-quart saucepan, mix brown sugar...</td>\n",
              "      <td>www.cookbooks.com/Recipe-Details.aspx?id=44874</td>\n",
              "      <td>Gathered</td>\n",
              "      <td>[NER0, NER1, NER2, NER3, NER4, NER5]</td>\n",
              "    </tr>\n",
              "    <tr>\n",
              "      <th>1</th>\n",
              "      <td>Rec1</td>\n",
              "      <td>Jewell Ball'S Chicken</td>\n",
              "      <td>[\"1 small jar chipped beef, cut up\", \"4 boned ...</td>\n",
              "      <td>[\"Place chipped beef on bottom of baking dish....</td>\n",
              "      <td>www.cookbooks.com/Recipe-Details.aspx?id=699419</td>\n",
              "      <td>Gathered</td>\n",
              "      <td>[NER6, NER7, NER8, NER9]</td>\n",
              "    </tr>\n",
              "    <tr>\n",
              "      <th>2</th>\n",
              "      <td>Rec2</td>\n",
              "      <td>Creamy Corn</td>\n",
              "      <td>[\"2 (16 oz.) pkg. frozen corn\", \"1 (8 oz.) pkg...</td>\n",
              "      <td>[\"In a slow cooker, combine all ingredients. C...</td>\n",
              "      <td>www.cookbooks.com/Recipe-Details.aspx?id=10570</td>\n",
              "      <td>Gathered</td>\n",
              "      <td>[NER10, NER11, NER4, NER12, NER13, NER14]</td>\n",
              "    </tr>\n",
              "    <tr>\n",
              "      <th>3</th>\n",
              "      <td>Rec3</td>\n",
              "      <td>Chicken Funny</td>\n",
              "      <td>[\"1 large whole chicken\", \"2 (10 1/2 oz.) cans...</td>\n",
              "      <td>[\"Boil and debone chicken.\", \"Put bite size pi...</td>\n",
              "      <td>www.cookbooks.com/Recipe-Details.aspx?id=897570</td>\n",
              "      <td>Gathered</td>\n",
              "      <td>[NER15, NER16, NER8, NER17]</td>\n",
              "    </tr>\n",
              "    <tr>\n",
              "      <th>4</th>\n",
              "      <td>Rec4</td>\n",
              "      <td>Reeses Cups(Candy)</td>\n",
              "      <td>[\"1 c. peanut butter\", \"3/4 c. graham cracker ...</td>\n",
              "      <td>[\"Combine first four ingredients and press in ...</td>\n",
              "      <td>www.cookbooks.com/Recipe-Details.aspx?id=659239</td>\n",
              "      <td>Gathered</td>\n",
              "      <td>[NER18, NER19, NER4, NER20, NER21]</td>\n",
              "    </tr>\n",
              "  </tbody>\n",
              "</table>\n",
              "</div>"
            ],
            "text/plain": [
              "  recipe_ID  ...                                        NER\n",
              "0      Rec0  ...       [NER0, NER1, NER2, NER3, NER4, NER5]\n",
              "1      Rec1  ...                   [NER6, NER7, NER8, NER9]\n",
              "2      Rec2  ...  [NER10, NER11, NER4, NER12, NER13, NER14]\n",
              "3      Rec3  ...                [NER15, NER16, NER8, NER17]\n",
              "4      Rec4  ...         [NER18, NER19, NER4, NER20, NER21]\n",
              "\n",
              "[5 rows x 7 columns]"
            ]
          },
          "metadata": {
            "tags": []
          },
          "execution_count": 18
        }
      ]
    },
    {
      "cell_type": "code",
      "metadata": {
        "colab": {
          "base_uri": "https://localhost:8080/",
          "height": 1000
        },
        "id": "cYqe0k4HHzcN",
        "outputId": "f0c7668c-80e5-4205-b027-ef0432f4808c"
      },
      "source": [
        "NER_table.head(50)"
      ],
      "execution_count": 19,
      "outputs": [
        {
          "output_type": "execute_result",
          "data": {
            "text/html": [
              "<div>\n",
              "<style scoped>\n",
              "    .dataframe tbody tr th:only-of-type {\n",
              "        vertical-align: middle;\n",
              "    }\n",
              "\n",
              "    .dataframe tbody tr th {\n",
              "        vertical-align: top;\n",
              "    }\n",
              "\n",
              "    .dataframe thead th {\n",
              "        text-align: right;\n",
              "    }\n",
              "</style>\n",
              "<table border=\"1\" class=\"dataframe\">\n",
              "  <thead>\n",
              "    <tr style=\"text-align: right;\">\n",
              "      <th></th>\n",
              "      <th>NER</th>\n",
              "      <th>recipe_ID</th>\n",
              "    </tr>\n",
              "    <tr>\n",
              "      <th>NER_ID</th>\n",
              "      <th></th>\n",
              "      <th></th>\n",
              "    </tr>\n",
              "  </thead>\n",
              "  <tbody>\n",
              "    <tr>\n",
              "      <th>NER0</th>\n",
              "      <td>brown sugar</td>\n",
              "      <td>[Rec0, Rec26, Rec41, Rec44, Rec70, Rec77, Rec7...</td>\n",
              "    </tr>\n",
              "    <tr>\n",
              "      <th>NER1</th>\n",
              "      <td>milk</td>\n",
              "      <td>[Rec0, Rec5, Rec29, Rec41, Rec50, Rec69, Rec81...</td>\n",
              "    </tr>\n",
              "    <tr>\n",
              "      <th>NER2</th>\n",
              "      <td>vanilla</td>\n",
              "      <td>[Rec0, Rec6, Rec27, Rec41, Rec48, Rec59, Rec60...</td>\n",
              "    </tr>\n",
              "    <tr>\n",
              "      <th>NER3</th>\n",
              "      <td>nuts</td>\n",
              "      <td>[Rec0, Rec19, Rec20, Rec27, Rec44, Rec61, Rec6...</td>\n",
              "    </tr>\n",
              "    <tr>\n",
              "      <th>NER4</th>\n",
              "      <td>butter</td>\n",
              "      <td>[Rec0, Rec2, Rec4, Rec5, Rec6, Rec7, Rec11, Re...</td>\n",
              "    </tr>\n",
              "    <tr>\n",
              "      <th>NER5</th>\n",
              "      <td>bite size shredded rice biscuits</td>\n",
              "      <td>[Rec0, Rec854420]</td>\n",
              "    </tr>\n",
              "    <tr>\n",
              "      <th>NER6</th>\n",
              "      <td>beef</td>\n",
              "      <td>[Rec1, Rec104, Rec122, Rec361, Rec384, Rec657,...</td>\n",
              "    </tr>\n",
              "    <tr>\n",
              "      <th>NER7</th>\n",
              "      <td>chicken breasts</td>\n",
              "      <td>[Rec1, Rec50, Rec165, Rec344, Rec428, Rec447, ...</td>\n",
              "    </tr>\n",
              "    <tr>\n",
              "      <th>NER8</th>\n",
              "      <td>cream of mushroom soup</td>\n",
              "      <td>[Rec1, Rec3, Rec50, Rec63, Rec121, Rec139, Rec...</td>\n",
              "    </tr>\n",
              "    <tr>\n",
              "      <th>NER9</th>\n",
              "      <td>sour cream</td>\n",
              "      <td>[Rec1, Rec5, Rec13, Rec18, Rec21, Rec28, Rec36...</td>\n",
              "    </tr>\n",
              "    <tr>\n",
              "      <th>NER10</th>\n",
              "      <td>frozen corn</td>\n",
              "      <td>[Rec2, Rec770, Rec2587, Rec3226, Rec4202, Rec4...</td>\n",
              "    </tr>\n",
              "    <tr>\n",
              "      <th>NER11</th>\n",
              "      <td>cream cheese</td>\n",
              "      <td>[Rec2, Rec13, Rec38, Rec58, Rec61, Rec64, Rec6...</td>\n",
              "    </tr>\n",
              "    <tr>\n",
              "      <th>NER12</th>\n",
              "      <td>garlic powder</td>\n",
              "      <td>[Rec2, Rec183, Rec196, Rec216, Rec312, Rec386,...</td>\n",
              "    </tr>\n",
              "    <tr>\n",
              "      <th>NER13</th>\n",
              "      <td>salt</td>\n",
              "      <td>[Rec2, Rec5, Rec6, Rec15, Rec20, Rec23, Rec24,...</td>\n",
              "    </tr>\n",
              "    <tr>\n",
              "      <th>NER14</th>\n",
              "      <td>pepper</td>\n",
              "      <td>[Rec2, Rec5, Rec7, Rec24, Rec33, Rec76, Rec77,...</td>\n",
              "    </tr>\n",
              "    <tr>\n",
              "      <th>NER15</th>\n",
              "      <td>chicken</td>\n",
              "      <td>[Rec3, Rec12, Rec40, Rec47, Rec63, Rec76, Rec8...</td>\n",
              "    </tr>\n",
              "    <tr>\n",
              "      <th>NER16</th>\n",
              "      <td>chicken gravy</td>\n",
              "      <td>[Rec3, Rec7892, Rec8034, Rec10127, Rec11585, R...</td>\n",
              "    </tr>\n",
              "    <tr>\n",
              "      <th>NER17</th>\n",
              "      <td>shredded cheese</td>\n",
              "      <td>[Rec3, Rec216, Rec705, Rec1106, Rec1167, Rec13...</td>\n",
              "    </tr>\n",
              "    <tr>\n",
              "      <th>NER18</th>\n",
              "      <td>peanut butter</td>\n",
              "      <td>[Rec4, Rec11, Rec59, Rec65, Rec98, Rec152, Rec...</td>\n",
              "    </tr>\n",
              "    <tr>\n",
              "      <th>NER19</th>\n",
              "      <td>graham cracker crumbs</td>\n",
              "      <td>[Rec4, Rec59, Rec68, Rec146, Rec212, Rec271, R...</td>\n",
              "    </tr>\n",
              "    <tr>\n",
              "      <th>NER20</th>\n",
              "      <td>powdered sugar</td>\n",
              "      <td>[Rec4, Rec11, Rec61, Rec86, Rec125, Rec152, Re...</td>\n",
              "    </tr>\n",
              "    <tr>\n",
              "      <th>NER21</th>\n",
              "      <td>chocolate chips</td>\n",
              "      <td>[Rec4, Rec11, Rec149, Rec152, Rec190, Rec252, ...</td>\n",
              "    </tr>\n",
              "    <tr>\n",
              "      <th>NER22</th>\n",
              "      <td>baking potatoes</td>\n",
              "      <td>[Rec5, Rec391, Rec411, Rec1401, Rec1870, Rec21...</td>\n",
              "    </tr>\n",
              "    <tr>\n",
              "      <th>NER23</th>\n",
              "      <td>extra lean ground beef</td>\n",
              "      <td>[Rec5, Rec942, Rec2595, Rec15524, Rec15807, Re...</td>\n",
              "    </tr>\n",
              "    <tr>\n",
              "      <th>NER24</th>\n",
              "      <td>Cheddar cheese</td>\n",
              "      <td>[Rec5, Rec13, Rec33, Rec36, Rec58, Rec71, Rec7...</td>\n",
              "    </tr>\n",
              "    <tr>\n",
              "      <th>NER25</th>\n",
              "      <td>bacon</td>\n",
              "      <td>[Rec5, Rec17, Rec103, Rec172, Rec288, Rec308, ...</td>\n",
              "    </tr>\n",
              "    <tr>\n",
              "      <th>NER26</th>\n",
              "      <td>green onion</td>\n",
              "      <td>[Rec5, Rec78, Rec115, Rec295, Rec410, Rec769, ...</td>\n",
              "    </tr>\n",
              "    <tr>\n",
              "      <th>NER27</th>\n",
              "      <td>sugar</td>\n",
              "      <td>[Rec6, Rec15, Rec17, Rec19, Rec20, Rec23, Rec2...</td>\n",
              "    </tr>\n",
              "    <tr>\n",
              "      <th>NER28</th>\n",
              "      <td>egg</td>\n",
              "      <td>[Rec6, Rec7, Rec24, Rec41, Rec57, Rec78, Rec86...</td>\n",
              "    </tr>\n",
              "    <tr>\n",
              "      <th>NER29</th>\n",
              "      <td>buttermilk</td>\n",
              "      <td>[Rec6, Rec6, Rec42, Rec100, Rec145, Rec203, Re...</td>\n",
              "    </tr>\n",
              "    <tr>\n",
              "      <th>NER30</th>\n",
              "      <td>flour</td>\n",
              "      <td>[Rec6, Rec12, Rec19, Rec20, Rec25, Rec29, Rec4...</td>\n",
              "    </tr>\n",
              "    <tr>\n",
              "      <th>NER31</th>\n",
              "      <td>soda</td>\n",
              "      <td>[Rec6, Rec19, Rec20, Rec42, Rec70, Rec86, Rec1...</td>\n",
              "    </tr>\n",
              "    <tr>\n",
              "      <th>NER32</th>\n",
              "      <td>rhubarb</td>\n",
              "      <td>[Rec6, Rec556, Rec598, Rec677, Rec2786, Rec324...</td>\n",
              "    </tr>\n",
              "    <tr>\n",
              "      <th>NER33</th>\n",
              "      <td>cream-style corn</td>\n",
              "      <td>[Rec7, Rec127, Rec496, Rec989, Rec1287, Rec153...</td>\n",
              "    </tr>\n",
              "    <tr>\n",
              "      <th>NER34</th>\n",
              "      <td>whole kernel corn</td>\n",
              "      <td>[Rec7, Rec54, Rec379, Rec403, Rec422, Rec442, ...</td>\n",
              "    </tr>\n",
              "    <tr>\n",
              "      <th>NER35</th>\n",
              "      <td>crackers</td>\n",
              "      <td>[Rec7, Rec127, Rec242, Rec244, Rec307, Rec608,...</td>\n",
              "    </tr>\n",
              "    <tr>\n",
              "      <th>NER36</th>\n",
              "      <td>tomatoes</td>\n",
              "      <td>[Rec8, Rec23, Rec40, Rec49, Rec52, Rec104, Rec...</td>\n",
              "    </tr>\n",
              "    <tr>\n",
              "      <th>NER37</th>\n",
              "      <td>water</td>\n",
              "      <td>[Rec8, Rec15, Rec21, Rec26, Rec44, Rec49, Rec5...</td>\n",
              "    </tr>\n",
              "    <tr>\n",
              "      <th>NER38</th>\n",
              "      <td>onions</td>\n",
              "      <td>[Rec8, Rec25, Rec40, Rec77, Rec88, Rec95, Rec1...</td>\n",
              "    </tr>\n",
              "    <tr>\n",
              "      <th>NER39</th>\n",
              "      <td>Worcestershire sauce</td>\n",
              "      <td>[Rec8, Rec26, Rec57, Rec89, Rec109, Rec112, Re...</td>\n",
              "    </tr>\n",
              "    <tr>\n",
              "      <th>NER40</th>\n",
              "      <td>green peppers</td>\n",
              "      <td>[Rec8, Rec28, Rec81, Rec939, Rec1239, Rec1291,...</td>\n",
              "    </tr>\n",
              "    <tr>\n",
              "      <th>NER41</th>\n",
              "      <td>oil</td>\n",
              "      <td>[Rec8, Rec23, Rec31, Rec39, Rec86, Rec95, Rec1...</td>\n",
              "    </tr>\n",
              "    <tr>\n",
              "      <th>NER42</th>\n",
              "      <td>pineapple</td>\n",
              "      <td>[Rec9, Rec14, Rec18, Rec30, Rec62, Rec64, Rec8...</td>\n",
              "    </tr>\n",
              "    <tr>\n",
              "      <th>NER43</th>\n",
              "      <td>condensed milk</td>\n",
              "      <td>[Rec9, Rec14, Rec27, Rec60, Rec64, Rec178, Rec...</td>\n",
              "    </tr>\n",
              "    <tr>\n",
              "      <th>NER44</th>\n",
              "      <td>lemons</td>\n",
              "      <td>[Rec9, Rec425, Rec609, Rec993, Rec1234, Rec258...</td>\n",
              "    </tr>\n",
              "    <tr>\n",
              "      <th>NER45</th>\n",
              "      <td>pecans</td>\n",
              "      <td>[Rec9, Rec18, Rec60, Rec97, Rec99, Rec125, Rec...</td>\n",
              "    </tr>\n",
              "    <tr>\n",
              "      <th>NER46</th>\n",
              "      <td>graham cracker crusts</td>\n",
              "      <td>[Rec9, Rec141, Rec796, Rec1489, Rec2383, Rec41...</td>\n",
              "    </tr>\n",
              "    <tr>\n",
              "      <th>NER47</th>\n",
              "      <td>dark sweet pitted cherries</td>\n",
              "      <td>[Rec10, Rec10524, Rec138273, Rec331820, Rec391...</td>\n",
              "    </tr>\n",
              "    <tr>\n",
              "      <th>NER48</th>\n",
              "      <td>ginger ale</td>\n",
              "      <td>[Rec10, Rec159, Rec161, Rec214, Rec315, Rec464...</td>\n",
              "    </tr>\n",
              "    <tr>\n",
              "      <th>NER49</th>\n",
              "      <td>flavor gelatin</td>\n",
              "      <td>[Rec10, Rec170905, Rec302701, Rec326614, Rec34...</td>\n",
              "    </tr>\n",
              "  </tbody>\n",
              "</table>\n",
              "</div>"
            ],
            "text/plain": [
              "                                     NER                                          recipe_ID\n",
              "NER_ID                                                                                     \n",
              "NER0                         brown sugar  [Rec0, Rec26, Rec41, Rec44, Rec70, Rec77, Rec7...\n",
              "NER1                                milk  [Rec0, Rec5, Rec29, Rec41, Rec50, Rec69, Rec81...\n",
              "NER2                             vanilla  [Rec0, Rec6, Rec27, Rec41, Rec48, Rec59, Rec60...\n",
              "NER3                                nuts  [Rec0, Rec19, Rec20, Rec27, Rec44, Rec61, Rec6...\n",
              "NER4                              butter  [Rec0, Rec2, Rec4, Rec5, Rec6, Rec7, Rec11, Re...\n",
              "NER5    bite size shredded rice biscuits                                  [Rec0, Rec854420]\n",
              "NER6                                beef  [Rec1, Rec104, Rec122, Rec361, Rec384, Rec657,...\n",
              "NER7                     chicken breasts  [Rec1, Rec50, Rec165, Rec344, Rec428, Rec447, ...\n",
              "NER8              cream of mushroom soup  [Rec1, Rec3, Rec50, Rec63, Rec121, Rec139, Rec...\n",
              "NER9                          sour cream  [Rec1, Rec5, Rec13, Rec18, Rec21, Rec28, Rec36...\n",
              "NER10                        frozen corn  [Rec2, Rec770, Rec2587, Rec3226, Rec4202, Rec4...\n",
              "NER11                       cream cheese  [Rec2, Rec13, Rec38, Rec58, Rec61, Rec64, Rec6...\n",
              "NER12                      garlic powder  [Rec2, Rec183, Rec196, Rec216, Rec312, Rec386,...\n",
              "NER13                               salt  [Rec2, Rec5, Rec6, Rec15, Rec20, Rec23, Rec24,...\n",
              "NER14                             pepper  [Rec2, Rec5, Rec7, Rec24, Rec33, Rec76, Rec77,...\n",
              "NER15                            chicken  [Rec3, Rec12, Rec40, Rec47, Rec63, Rec76, Rec8...\n",
              "NER16                      chicken gravy  [Rec3, Rec7892, Rec8034, Rec10127, Rec11585, R...\n",
              "NER17                    shredded cheese  [Rec3, Rec216, Rec705, Rec1106, Rec1167, Rec13...\n",
              "NER18                      peanut butter  [Rec4, Rec11, Rec59, Rec65, Rec98, Rec152, Rec...\n",
              "NER19              graham cracker crumbs  [Rec4, Rec59, Rec68, Rec146, Rec212, Rec271, R...\n",
              "NER20                     powdered sugar  [Rec4, Rec11, Rec61, Rec86, Rec125, Rec152, Re...\n",
              "NER21                    chocolate chips  [Rec4, Rec11, Rec149, Rec152, Rec190, Rec252, ...\n",
              "NER22                    baking potatoes  [Rec5, Rec391, Rec411, Rec1401, Rec1870, Rec21...\n",
              "NER23             extra lean ground beef  [Rec5, Rec942, Rec2595, Rec15524, Rec15807, Re...\n",
              "NER24                     Cheddar cheese  [Rec5, Rec13, Rec33, Rec36, Rec58, Rec71, Rec7...\n",
              "NER25                              bacon  [Rec5, Rec17, Rec103, Rec172, Rec288, Rec308, ...\n",
              "NER26                        green onion  [Rec5, Rec78, Rec115, Rec295, Rec410, Rec769, ...\n",
              "NER27                              sugar  [Rec6, Rec15, Rec17, Rec19, Rec20, Rec23, Rec2...\n",
              "NER28                                egg  [Rec6, Rec7, Rec24, Rec41, Rec57, Rec78, Rec86...\n",
              "NER29                         buttermilk  [Rec6, Rec6, Rec42, Rec100, Rec145, Rec203, Re...\n",
              "NER30                              flour  [Rec6, Rec12, Rec19, Rec20, Rec25, Rec29, Rec4...\n",
              "NER31                               soda  [Rec6, Rec19, Rec20, Rec42, Rec70, Rec86, Rec1...\n",
              "NER32                            rhubarb  [Rec6, Rec556, Rec598, Rec677, Rec2786, Rec324...\n",
              "NER33                   cream-style corn  [Rec7, Rec127, Rec496, Rec989, Rec1287, Rec153...\n",
              "NER34                  whole kernel corn  [Rec7, Rec54, Rec379, Rec403, Rec422, Rec442, ...\n",
              "NER35                           crackers  [Rec7, Rec127, Rec242, Rec244, Rec307, Rec608,...\n",
              "NER36                           tomatoes  [Rec8, Rec23, Rec40, Rec49, Rec52, Rec104, Rec...\n",
              "NER37                              water  [Rec8, Rec15, Rec21, Rec26, Rec44, Rec49, Rec5...\n",
              "NER38                             onions  [Rec8, Rec25, Rec40, Rec77, Rec88, Rec95, Rec1...\n",
              "NER39               Worcestershire sauce  [Rec8, Rec26, Rec57, Rec89, Rec109, Rec112, Re...\n",
              "NER40                      green peppers  [Rec8, Rec28, Rec81, Rec939, Rec1239, Rec1291,...\n",
              "NER41                                oil  [Rec8, Rec23, Rec31, Rec39, Rec86, Rec95, Rec1...\n",
              "NER42                          pineapple  [Rec9, Rec14, Rec18, Rec30, Rec62, Rec64, Rec8...\n",
              "NER43                     condensed milk  [Rec9, Rec14, Rec27, Rec60, Rec64, Rec178, Rec...\n",
              "NER44                             lemons  [Rec9, Rec425, Rec609, Rec993, Rec1234, Rec258...\n",
              "NER45                             pecans  [Rec9, Rec18, Rec60, Rec97, Rec99, Rec125, Rec...\n",
              "NER46              graham cracker crusts  [Rec9, Rec141, Rec796, Rec1489, Rec2383, Rec41...\n",
              "NER47         dark sweet pitted cherries  [Rec10, Rec10524, Rec138273, Rec331820, Rec391...\n",
              "NER48                         ginger ale  [Rec10, Rec159, Rec161, Rec214, Rec315, Rec464...\n",
              "NER49                     flavor gelatin  [Rec10, Rec170905, Rec302701, Rec326614, Rec34..."
            ]
          },
          "metadata": {
            "tags": []
          },
          "execution_count": 19
        }
      ]
    },
    {
      "cell_type": "code",
      "metadata": {
        "id": "vU_OTy8FLGQP"
      },
      "source": [
        ""
      ],
      "execution_count": 19,
      "outputs": []
    }
  ]
}