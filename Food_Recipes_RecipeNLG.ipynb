{
  "nbformat": 4,
  "nbformat_minor": 0,
  "metadata": {
    "colab": {
      "name": "Food-Recipes-RecipeNLG.ipynb",
      "provenance": [],
      "collapsed_sections": [
        "ahurEDptAC1n"
      ],
      "authorship_tag": "ABX9TyMdsRb5KVS7l4zEj/CSdgwY",
      "include_colab_link": true
    },
    "kernelspec": {
      "name": "python3",
      "display_name": "Python 3"
    }
  },
  "cells": [
    {
      "cell_type": "markdown",
      "metadata": {
        "id": "view-in-github",
        "colab_type": "text"
      },
      "source": [
        "<a href=\"https://colab.research.google.com/github/BehzadBarati/Ingredient-Maps/blob/main/Food_Recipes_RecipeNLG.ipynb\" target=\"_parent\"><img src=\"https://colab.research.google.com/assets/colab-badge.svg\" alt=\"Open In Colab\"/></a>"
      ]
    },
    {
      "cell_type": "markdown",
      "metadata": {
        "id": "y6B3Wlv8vOZq"
      },
      "source": [
        "Author: Behzad Barati (bhzdbrt@gmail.com)\r\n",
        "\r\n",
        "Abstract:\r\n",
        "\r\n",
        "This notebook produces elementary reports on RecipeNLG dataset which contains more than 2 million recipies of foods.\r\n",
        "___\r\n",
        "Source:\r\n",
        "\r\n",
        "My main refrences are [RecipeNLG paper](https://www.aclweb.org/anthology/2020.inlg-1.4.pdf) and its [dataset](https://recipenlg.cs.put.poznan.pl).\r\n",
        "___\r\n",
        "Input: \r\n",
        "\r\n",
        "1- Dataset of [RecipeNLG](https://recipenlg.cs.put.poznan.pl)\r\n",
        "\r\n",
        "Ouput:\r\n",
        "\r\n",
        "1- EDA report on RecipeNLG dataset (including \"EDA-Report-RecipeNLG.html\" file, word cloud pictures and list of source websites of recipies as \"Websites-RecipeNLG.csv\" file)\r\n",
        "\r\n",
        "2- Preprocessed recipe_table\r\n",
        "\r\n",
        "3- NER_table\r\n",
        "\r\n",
        "4- step_table\r\n",
        "___\r\n",
        "Hints:\r\n",
        "\r\n",
        "1_ As our csv file is greater than 2 gigabytes, I prefer to use cloud services(here google colab). I uploaded RecipeNLG dataset in my [google drive](https://drive.google.com/drive/folders/1g1ZNYKlLN4hyP8ywHXWa2Iu1oQ4wxSgR?usp=sharing). It is public.\r\n",
        "\r\n",
        "2_ If there is out of memory error in running \"ProfileReport\", please first re-install latest version of \"pandas_profiling\" library, then try \"minimal=True\" argument in \"profileReport\" for eliminating some calculations. (pip install https://github.com/pandas-profiling/pandas-profiling/archive/master.zip)"
      ]
    },
    {
      "cell_type": "markdown",
      "metadata": {
        "id": "YXzM9Guw8Wc4"
      },
      "source": [
        "# Import needed libraries"
      ]
    },
    {
      "cell_type": "code",
      "metadata": {
        "id": "Cwg3EmTR8brJ"
      },
      "source": [
        "# Install pandas_profiling library\r\n",
        "# pip install https://github.com/pandas-profiling/pandas-profiling/archive/master.zip\r\n",
        "\r\n",
        "import numpy as np\r\n",
        "import pandas as pd\r\n",
        "from wordcloud import WordCloud             # Make wordcloud pictures\r\n",
        "from pandas_profiling import ProfileReport  # Generate brief report on our dataframe\r\n",
        "import matplotlib.pyplot as plt\r\n",
        "from google.colab import drive              # Mount google drive to colab notebook\r\n",
        "import re                                   \r\n",
        "import string                               # removing special characters\r\n",
        "from pandas.core.common import flatten      # to make nested lists flat"
      ],
      "execution_count": 1,
      "outputs": []
    },
    {
      "cell_type": "markdown",
      "metadata": {
        "id": "6evCQCIT6FhU"
      },
      "source": [
        "# Load data"
      ]
    },
    {
      "cell_type": "code",
      "metadata": {
        "id": "ytrTiQikvjZP",
        "colab": {
          "base_uri": "https://localhost:8080/"
        },
        "outputId": "87cd7e8f-d8ac-4625-e2ce-98d60dcaa2a9"
      },
      "source": [
        "# Mount google drive to colab notebook\r\n",
        "# Our dataset will be read as recipe_table.\r\n",
        "\r\n",
        "drive.mount('/content/gdrive', force_remount=True)"
      ],
      "execution_count": 2,
      "outputs": [
        {
          "output_type": "stream",
          "text": [
            "Mounted at /content/gdrive\n"
          ],
          "name": "stdout"
        }
      ]
    },
    {
      "cell_type": "code",
      "metadata": {
        "colab": {
          "base_uri": "https://localhost:8080/"
        },
        "id": "P4H_UOfNZTmO",
        "outputId": "183179b5-c602-49d3-a337-e18eef5f6d75"
      },
      "source": [
        "cd gdrive/MyDrive/Projects/Ingredient-Maps/Phase1"
      ],
      "execution_count": 3,
      "outputs": [
        {
          "output_type": "stream",
          "text": [
            "/content/gdrive/MyDrive/Projects/Ingredient-Maps/Phase1\n"
          ],
          "name": "stdout"
        }
      ]
    },
    {
      "cell_type": "code",
      "metadata": {
        "colab": {
          "base_uri": "https://localhost:8080/",
          "height": 321
        },
        "id": "MsBjy_B17HEl",
        "outputId": "06670fec-3b79-454f-f7b8-42e7fcfda01a"
      },
      "source": [
        "# Reading file and check if data is loaded\r\n",
        "\r\n",
        "recipe_table = pd.read_csv('./dataset/RecipeNLG.csv')\r\n",
        "print('Number of recipes in dataset: ', len(recipe_table))\r\n",
        "recipe_table.rename(columns={'Unnamed: 0': 'recipe_ID', 'directions': 'steps'}, inplace=True)\r\n",
        "print('last 5 recipes:')\r\n",
        "recipe_table.tail(5)"
      ],
      "execution_count": 4,
      "outputs": [
        {
          "output_type": "stream",
          "text": [
            "Number of recipes in dataset:  2231142\n",
            "last 5 recipes:\n"
          ],
          "name": "stdout"
        },
        {
          "output_type": "execute_result",
          "data": {
            "text/html": [
              "<div>\n",
              "<style scoped>\n",
              "    .dataframe tbody tr th:only-of-type {\n",
              "        vertical-align: middle;\n",
              "    }\n",
              "\n",
              "    .dataframe tbody tr th {\n",
              "        vertical-align: top;\n",
              "    }\n",
              "\n",
              "    .dataframe thead th {\n",
              "        text-align: right;\n",
              "    }\n",
              "</style>\n",
              "<table border=\"1\" class=\"dataframe\">\n",
              "  <thead>\n",
              "    <tr style=\"text-align: right;\">\n",
              "      <th></th>\n",
              "      <th>recipe_ID</th>\n",
              "      <th>title</th>\n",
              "      <th>ingredients</th>\n",
              "      <th>steps</th>\n",
              "      <th>link</th>\n",
              "      <th>source</th>\n",
              "      <th>NER</th>\n",
              "    </tr>\n",
              "  </thead>\n",
              "  <tbody>\n",
              "    <tr>\n",
              "      <th>2231137</th>\n",
              "      <td>2231137</td>\n",
              "      <td>Sunny's Fake Crepes</td>\n",
              "      <td>[\"1/2 cup chocolate hazelnut spread (recommend...</td>\n",
              "      <td>[\"Spread hazelnut spread on 1 side of each tor...</td>\n",
              "      <td>www.foodnetwork.com/recipes/sunny-anderson/sun...</td>\n",
              "      <td>Recipes1M</td>\n",
              "      <td>[\"chocolate hazelnut spread\", \"tortillas\", \"bu...</td>\n",
              "    </tr>\n",
              "    <tr>\n",
              "      <th>2231138</th>\n",
              "      <td>2231138</td>\n",
              "      <td>Devil Eggs</td>\n",
              "      <td>[\"1 dozen eggs\", \"1 paprika\", \"1 salt and pepp...</td>\n",
              "      <td>[\"Boil eggs on medium for 30mins.\", \"Then cool...</td>\n",
              "      <td>cookpad.com/us/recipes/355411-devil-eggs</td>\n",
              "      <td>Recipes1M</td>\n",
              "      <td>[\"eggs\", \"paprika\", \"salt\", \"choice\", \"miracle...</td>\n",
              "    </tr>\n",
              "    <tr>\n",
              "      <th>2231139</th>\n",
              "      <td>2231139</td>\n",
              "      <td>Extremely Easy and Quick - Namul Daikon Salad</td>\n",
              "      <td>[\"150 grams Daikon radish\", \"1 tbsp Sesame oil...</td>\n",
              "      <td>[\"Julienne the daikon and squeeze out the exce...</td>\n",
              "      <td>cookpad.com/us/recipes/153324-extremely-easy-a...</td>\n",
              "      <td>Recipes1M</td>\n",
              "      <td>[\"radish\", \"Sesame oil\", \"White sesame seeds\",...</td>\n",
              "    </tr>\n",
              "    <tr>\n",
              "      <th>2231140</th>\n",
              "      <td>2231140</td>\n",
              "      <td>Pan-Roasted Pork Chops With Apple Fritters</td>\n",
              "      <td>[\"1 cup apple cider\", \"6 tablespoons sugar\", \"...</td>\n",
              "      <td>[\"In a large bowl, mix the apple cider with 4 ...</td>\n",
              "      <td>cooking.nytimes.com/recipes/1015164</td>\n",
              "      <td>Recipes1M</td>\n",
              "      <td>[\"apple cider\", \"sugar\", \"kosher salt\", \"bay l...</td>\n",
              "    </tr>\n",
              "    <tr>\n",
              "      <th>2231141</th>\n",
              "      <td>2231141</td>\n",
              "      <td>Polpette in Spicy Tomato Sauce</td>\n",
              "      <td>[\"1 pound ground veal\", \"1/2 pound sweet Itali...</td>\n",
              "      <td>[\"Preheat the oven to 350.\", \"In a bowl, mix t...</td>\n",
              "      <td>www.foodandwine.com/recipes/polpette-spicy-tom...</td>\n",
              "      <td>Recipes1M</td>\n",
              "      <td>[\"ground veal\", \"sausage\", \"bread crumbs\", \"mi...</td>\n",
              "    </tr>\n",
              "  </tbody>\n",
              "</table>\n",
              "</div>"
            ],
            "text/plain": [
              "         recipe_ID  ...                                                NER\n",
              "2231137    2231137  ...  [\"chocolate hazelnut spread\", \"tortillas\", \"bu...\n",
              "2231138    2231138  ...  [\"eggs\", \"paprika\", \"salt\", \"choice\", \"miracle...\n",
              "2231139    2231139  ...  [\"radish\", \"Sesame oil\", \"White sesame seeds\",...\n",
              "2231140    2231140  ...  [\"apple cider\", \"sugar\", \"kosher salt\", \"bay l...\n",
              "2231141    2231141  ...  [\"ground veal\", \"sausage\", \"bread crumbs\", \"mi...\n",
              "\n",
              "[5 rows x 7 columns]"
            ]
          },
          "metadata": {
            "tags": []
          },
          "execution_count": 4
        }
      ]
    },
    {
      "cell_type": "markdown",
      "metadata": {
        "id": "ahurEDptAC1n"
      },
      "source": [
        "# EDA (Exploratory Data Analysis)\r\n",
        "I dont want to generate report every time I run it, so EDA, world cloud and website list cells are muted."
      ]
    },
    {
      "cell_type": "code",
      "metadata": {
        "colab": {
          "base_uri": "https://localhost:8080/",
          "height": 0
        },
        "id": "zqrcZV_3AJin",
        "outputId": "393f7fd8-c378-46bb-d75b-1dfa59935027"
      },
      "source": [
        "'''\r\n",
        "# Column 'recipe_ID' seems to be useless for EDA section,so I drop it for making our dataset smaller.\r\n",
        "\r\n",
        "recipe_table.drop('recipe_ID', axis='columns', inplace=True)\r\n",
        "'''"
      ],
      "execution_count": 5,
      "outputs": [
        {
          "output_type": "execute_result",
          "data": {
            "application/vnd.google.colaboratory.intrinsic+json": {
              "type": "string"
            },
            "text/plain": [
              "\"\\n# Column 'Unnamed: 0' seems to be useless for EDA section,so I drop it for making our dataset smaller.\\n\\nrecipe_table.drop('Unnamed: 0', axis='columns', inplace=True)\\n\""
            ]
          },
          "metadata": {
            "tags": []
          },
          "execution_count": 5
        }
      ]
    },
    {
      "cell_type": "code",
      "metadata": {
        "id": "ICR4QpAJBqV5",
        "colab": {
          "base_uri": "https://localhost:8080/",
          "height": 0
        },
        "outputId": "25b12b0a-6fd4-4e8b-c07a-fbc27fb4c606"
      },
      "source": [
        "'''\r\n",
        "# Generate a quick report from our dataset \r\n",
        "\r\n",
        "profile = ProfileReport(recipe_table, minimal=True)\r\n",
        "profile.to_file(\"EDA-Report-RecipeNLG.html\")\r\n",
        "profile\r\n",
        "'''"
      ],
      "execution_count": 6,
      "outputs": [
        {
          "output_type": "execute_result",
          "data": {
            "application/vnd.google.colaboratory.intrinsic+json": {
              "type": "string"
            },
            "text/plain": [
              "'\\n# Generate a quick report from our dataset \\n\\nprofile = ProfileReport(recipe_table, minimal=True)\\nprofile.to_file(\"EDA-Report-RecipeNLG.html\")\\nprofile\\n'"
            ]
          },
          "metadata": {
            "tags": []
          },
          "execution_count": 6
        }
      ]
    },
    {
      "cell_type": "markdown",
      "metadata": {
        "id": "83uYFQwBMxQe"
      },
      "source": [
        "## World clouds"
      ]
    },
    {
      "cell_type": "code",
      "metadata": {
        "id": "lnUMBM5zGig0",
        "colab": {
          "base_uri": "https://localhost:8080/",
          "height": 0
        },
        "outputId": "9d912709-86f9-4995-f52b-a43e972a394f"
      },
      "source": [
        "'''\r\n",
        "# For creating word clouds, I used WordCloud library which was imported before.\r\n",
        "\r\n",
        "def minimal_wordcloud(df, column):\r\n",
        "    \"\"\"\r\n",
        "    Generate a simple wordcloud similar to: \r\n",
        "    https://www.kaggle.com/paultimothymooney/explore-recipe-nlg-dataset/data.\r\n",
        "    The only import required is: from wordcloud import WordCloud\r\n",
        "    \"\"\"\r\n",
        "    text = str(df[column].values)\r\n",
        "    wordcloud = WordCloud().generate(text)\r\n",
        "    image = wordcloud.to_image()\r\n",
        "    plt.axis(\"off\")\r\n",
        "    plt.imshow(image)\r\n",
        "    plt.show()\r\n",
        "'''"
      ],
      "execution_count": 7,
      "outputs": [
        {
          "output_type": "execute_result",
          "data": {
            "application/vnd.google.colaboratory.intrinsic+json": {
              "type": "string"
            },
            "text/plain": [
              "'\\n# For creating word clouds, I used WordCloud library which was imported before.\\n\\ndef minimal_wordcloud(df, column):\\n    \"\"\"\\n    Generate a simple wordcloud similar to: \\n    https://www.kaggle.com/paultimothymooney/explore-recipe-nlg-dataset/data.\\n    The only import required is: from wordcloud import WordCloud\\n    \"\"\"\\n    text = str(df[column].values)\\n    wordcloud = WordCloud().generate(text)\\n    image = wordcloud.to_image()\\n    plt.axis(\"off\")\\n    plt.imshow(image)\\n    plt.show()\\n'"
            ]
          },
          "metadata": {
            "tags": []
          },
          "execution_count": 7
        }
      ]
    },
    {
      "cell_type": "code",
      "metadata": {
        "colab": {
          "base_uri": "https://localhost:8080/",
          "height": 0
        },
        "id": "txxpFbMVf8bt",
        "outputId": "231e6a1f-1161-46e2-fc54-b0ecd7936479"
      },
      "source": [
        "'''\r\n",
        "# Print word clouds\r\n",
        "\r\n",
        "for c in recipe_table.columns:\r\n",
        "    print('\\nworld cloud of contents in column {}'.format(c))\r\n",
        "    minimal_wordcloud(recipe_table, c)\r\n",
        "'''"
      ],
      "execution_count": 8,
      "outputs": [
        {
          "output_type": "execute_result",
          "data": {
            "application/vnd.google.colaboratory.intrinsic+json": {
              "type": "string"
            },
            "text/plain": [
              "\"\\n# Print word clouds\\n\\nfor c in recipe_table.columns:\\n    print('\\nworld cloud of contents in column {}'.format(c))\\n    minimal_wordcloud(recipe_table, c)\\n\""
            ]
          },
          "metadata": {
            "tags": []
          },
          "execution_count": 8
        }
      ]
    },
    {
      "cell_type": "markdown",
      "metadata": {
        "id": "roI52c75nFkn"
      },
      "source": [
        "## list of websites in RecipieNLG"
      ]
    },
    {
      "cell_type": "code",
      "metadata": {
        "id": "XtCQc_OLnOrY",
        "colab": {
          "base_uri": "https://localhost:8080/",
          "height": 0
        },
        "outputId": "df23b17f-8428-4b07-8623-0b224b81481b"
      },
      "source": [
        "'''\r\n",
        "# Based on link column I tried to extract website names.\r\n",
        "# This func helps to select website names where we do not have 'www' at beginning\r\n",
        "\r\n",
        "func = lambda x: x[1] if x[0] == 'www' else x[0]\r\n",
        "recipe_table['website'] = recipe_table['link'].str.split('.').apply(func)\r\n",
        "'''"
      ],
      "execution_count": 9,
      "outputs": [
        {
          "output_type": "execute_result",
          "data": {
            "application/vnd.google.colaboratory.intrinsic+json": {
              "type": "string"
            },
            "text/plain": [
              "\"\\n# Based on link column I tried to extract website names.\\n# This func helps to select website names where we do not have 'www' at beginning\\n\\nfunc = lambda x: x[1] if x[0] == 'www' else x[0]\\nrecipe_table['website'] = recipe_table['link'].str.split('.').apply(func)\\n\""
            ]
          },
          "metadata": {
            "tags": []
          },
          "execution_count": 9
        }
      ]
    },
    {
      "cell_type": "code",
      "metadata": {
        "id": "Qr3xIouJqaav",
        "colab": {
          "base_uri": "https://localhost:8080/",
          "height": 0
        },
        "outputId": "0af0d074-45de-401b-afde-471d60a66b0d"
      },
      "source": [
        "'''\r\n",
        "recipe_table['website'].value_counts().rename_axis('websites').to_csv('./reports/Websites-RecipeNLG.csv',  header=['No. of recipies'])\r\n",
        "recipe_table['website'].value_counts().rename_axis('websites')\r\n",
        "'''"
      ],
      "execution_count": 10,
      "outputs": [
        {
          "output_type": "execute_result",
          "data": {
            "application/vnd.google.colaboratory.intrinsic+json": {
              "type": "string"
            },
            "text/plain": [
              "\"\\nrecipe_table['website'].value_counts().rename_axis('websites').to_csv('./reports/Websites-RecipeNLG.csv',  header=['No. of recipies'])\\nrecipe_table['website'].value_counts().rename_axis('websites')\\n\""
            ]
          },
          "metadata": {
            "tags": []
          },
          "execution_count": 10
        }
      ]
    },
    {
      "cell_type": "markdown",
      "metadata": {
        "id": "Lpf2rTSTM_Bh"
      },
      "source": [
        "# Convert to SQL tables"
      ]
    },
    {
      "cell_type": "markdown",
      "metadata": {
        "id": "qi2cv6u5NMcd"
      },
      "source": [
        "## Preprocessing recipe_table"
      ]
    },
    {
      "cell_type": "markdown",
      "metadata": {
        "id": "0Z_bH5PMNyC-"
      },
      "source": [
        "### preprocess NER column "
      ]
    },
    {
      "cell_type": "code",
      "metadata": {
        "id": "a6P_cJXksm74"
      },
      "source": [
        "# make characters lowercase strictly.\r\n",
        "\r\n",
        "recipe_table['NER'] = recipe_table['NER'].str.casefold()\r\n",
        "recipe_table['title'] = recipe_table['title'].str.casefold()"
      ],
      "execution_count": 5,
      "outputs": []
    },
    {
      "cell_type": "code",
      "metadata": {
        "id": "wdEb-c9HfbEF"
      },
      "source": [
        "# remove punctuations from title and NER columns\r\n",
        "\r\n",
        "punctuations = str.maketrans('', '', '!\"#$%&\\'()*+-./:;<=>?@[\\\\]^_`{|}~')\r\n",
        "recipe_table['NER'] = recipe_table['NER'].str.translate(punctuations)\r\n",
        "recipe_table['title'] = recipe_table['title'].str.translate(punctuations)"
      ],
      "execution_count": 6,
      "outputs": []
    },
    {
      "cell_type": "code",
      "metadata": {
        "id": "q4PWj_skuoOp"
      },
      "source": [
        "# drop rows with no title or NER\r\n",
        "\r\n",
        "recipe_table = recipe_table[recipe_table['title'].notna()]\r\n",
        "recipe_table = recipe_table[recipe_table['NER'].notna()]\r\n",
        "recipe_table = recipe_table[recipe_table['NER'] != '']"
      ],
      "execution_count": 7,
      "outputs": []
    },
    {
      "cell_type": "code",
      "metadata": {
        "id": "Kl680zPctiFT"
      },
      "source": [
        "# split NER components to make a list out of them.\r\n",
        "\r\n",
        "recipe_table['NER'] = recipe_table['NER'].str.split(',')"
      ],
      "execution_count": 8,
      "outputs": []
    },
    {
      "cell_type": "code",
      "metadata": {
        "id": "_1vBOA4N5Ou1"
      },
      "source": [
        "# remove spaces before/after items of list\r\n",
        "\r\n",
        "recipe_table['NER'] = [[val.strip() for val in sublist] for sublist in recipe_table['NER'].values]"
      ],
      "execution_count": 9,
      "outputs": []
    },
    {
      "cell_type": "code",
      "metadata": {
        "id": "rjcHKmy8KLkz"
      },
      "source": [
        "# I noticed some NER start with \"a \" (i.e. a milk). so we should remove them.\r\n",
        "\r\n",
        "recipe_table['NER'] = [[re.sub('^a ', '', val) for val in sublist] for sublist in recipe_table['NER'].values]"
      ],
      "execution_count": 10,
      "outputs": []
    },
    {
      "cell_type": "code",
      "metadata": {
        "id": "WeQBr8VVYPsM"
      },
      "source": [
        "# remove spaces before/after items of list once again\r\n",
        "\r\n",
        "recipe_table['NER'] = [[val.strip() for val in sublist] for sublist in recipe_table['NER'].values]"
      ],
      "execution_count": 11,
      "outputs": []
    },
    {
      "cell_type": "code",
      "metadata": {
        "id": "XlNjYbM75EuX"
      },
      "source": [
        "# remove empty items from lists in NER column\r\n",
        "\r\n",
        "recipe_table['NER'] = recipe_table['NER'].apply(lambda row: list(filter(None, row)))"
      ],
      "execution_count": 12,
      "outputs": []
    },
    {
      "cell_type": "code",
      "metadata": {
        "id": "142XdZVtp5BQ"
      },
      "source": [
        "# remove items from lists in NER column which are only 1 character (i.e. 'm')\r\n",
        "\r\n",
        "recipe_table['NER'] = recipe_table['NER'].apply(lambda row: [item for item in row if len(item) > 1] )"
      ],
      "execution_count": 13,
      "outputs": []
    },
    {
      "cell_type": "code",
      "metadata": {
        "id": "ezqf7OBIf7wW"
      },
      "source": [
        "# remove duplicates items in each row of NER column\r\n",
        "\r\n",
        "recipe_table['NER'] = recipe_table['NER'].apply(lambda row: list(set(row)))"
      ],
      "execution_count": 14,
      "outputs": []
    },
    {
      "cell_type": "code",
      "metadata": {
        "id": "IclGmwXBh866"
      },
      "source": [
        "# romve recipes where they have less than two NERs.\r\n",
        "\r\n",
        "recipe_table = recipe_table[recipe_table['NER'].str.len() > 1]"
      ],
      "execution_count": 15,
      "outputs": []
    },
    {
      "cell_type": "markdown",
      "metadata": {
        "id": "B9RASDGX9pDu"
      },
      "source": [
        "### preprocess steps column"
      ]
    },
    {
      "cell_type": "code",
      "metadata": {
        "id": "yHPW4jSo9mL4"
      },
      "source": [
        "# split recipe_table['steps'] to make a list out of each record.\r\n",
        "# since in some steps there are comma, we can not split steps based on it.\r\n",
        "# so we split based on \" and then remove items which are meaningless (less than 4 charachters)\r\n",
        "\r\n",
        "recipe_table['steps'] = recipe_table['steps'].str.split('\"')\r\n",
        "recipe_table['steps'] = recipe_table['steps'].apply(lambda row: [item for item in row if len(item) > 3] )"
      ],
      "execution_count": 5,
      "outputs": []
    },
    {
      "cell_type": "code",
      "metadata": {
        "id": "aMAbbbxzAH3S"
      },
      "source": [
        "# some steps consists multiple sentences which are ended with dot. so we split steps again based on dot.\r\n",
        "# by runing split('.), we will get some two dimensional lists and also some blank spaces as items\r\n",
        "# so we make steps lists flat and remove items with less 2 characters.\r\n",
        "# remove spaces before/after items of list\r\n",
        "\r\n",
        "recipe_table['steps'] = [[val.split('.') for val in sublist] for sublist in recipe_table['steps'].values]\r\n",
        "recipe_table['steps'] = recipe_table['steps'].apply(lambda row: list(flatten(row)))\r\n",
        "recipe_table['steps'] = recipe_table['steps'].apply(lambda row: [item for item in row if len(item) > 2])\r\n",
        "recipe_table['steps'] = [[val.strip() for val in sublist] for sublist in recipe_table['steps'].values]"
      ],
      "execution_count": 6,
      "outputs": []
    },
    {
      "cell_type": "code",
      "metadata": {
        "id": "W-PwhCBgI8W0"
      },
      "source": [
        "# romve recipes where they have less than two steps.\r\n",
        "\r\n",
        "recipe_table = recipe_table[recipe_table['steps'].str.len() > 1]"
      ],
      "execution_count": 9,
      "outputs": []
    },
    {
      "cell_type": "code",
      "metadata": {
        "id": "udjkJl7XuBYN"
      },
      "source": [
        "# reset index due to deleting some rows of recipe_table in previous cells. \r\n",
        "# naming convention for recipe_ID column\r\n",
        "\r\n",
        "recipe_table.reset_index(inplace=True, drop=True)\r\n",
        "recipe_table['recipe_ID'] = \"Rec\" + recipe_table.index.astype(str)"
      ],
      "execution_count": 10,
      "outputs": []
    },
    {
      "cell_type": "code",
      "metadata": {
        "id": "-UaO-H3DPDPN"
      },
      "source": [
        "# since we have a limit of available RAM. we preprocess original dataframe and then save it as csv.\r\n",
        "\r\n",
        "# recipe_table.to_csv('./dataset/ProcessedRecipeNLG.csv', index=False)"
      ],
      "execution_count": null,
      "outputs": []
    },
    {
      "cell_type": "markdown",
      "metadata": {
        "id": "KWXCzQlhW2MN"
      },
      "source": [
        "## NER_table"
      ]
    },
    {
      "cell_type": "code",
      "metadata": {
        "id": "SbvUJthNQq9v"
      },
      "source": [
        "# since we have a limit of available RAM. we preprocess original dataframe and then save it as csv.\r\n",
        "# then we load it here again for creating NER-table and step_table.\r\n",
        "# Mount google drive to colab notebook\r\n",
        "# Our dataset will be read as recipe_table.\r\n",
        "\r\n",
        "#drive.mount('/content/gdrive', force_remount=True)\r\n",
        "#recipe_table = pd.read_csv('./MyDrive/Projects/Ingredient-Maps/Phase1/dataset/ProcessedRecipeNLG.csv')"
      ],
      "execution_count": 4,
      "outputs": []
    },
    {
      "cell_type": "code",
      "metadata": {
        "id": "RmmxHsCUvdi9"
      },
      "source": [
        "# we convert steps and NER column contents to lists \r\n",
        "\r\n",
        "#import ast\r\n",
        "#ast_func = lambda a: ast.literal_eval(a)\r\n",
        "#recipe_table['NER'] = recipe_table['NER'].map(ast_func)\r\n",
        "#recipe_table['steps'] = recipe_table['steps'].map(ast_func)"
      ],
      "execution_count": 8,
      "outputs": []
    },
    {
      "cell_type": "code",
      "metadata": {
        "id": "UGvgp6DfWfPB"
      },
      "source": [
        "# create NER_table and add NER_ID column\r\n",
        "\r\n",
        "NER_table = pd.DataFrame(recipe_table['NER'].explode().unique(), columns=['NER'])\r\n",
        "NER_table['NER_ID'] =  ['NER'+str(i) for i in range(len(NER_table['NER']))]"
      ],
      "execution_count": 18,
      "outputs": []
    },
    {
      "cell_type": "code",
      "metadata": {
        "id": "N5wr3iFq1zTl"
      },
      "source": [
        "# set index to NER and make conv dictionary out of NER_table\r\n",
        "# by help of conv dictionary, we replace names in recipe_table['NER'] with IDs\r\n",
        "\r\n",
        "NER_table.set_index(['NER'], inplace=True)\r\n",
        "conv = NER_table.to_dict('dict')\r\n",
        "recipe_table['NER'] = recipe_table['NER'].apply(lambda row: [conv['NER_ID'][v] for v in row if conv['NER_ID'].get(v)])"
      ],
      "execution_count": 19,
      "outputs": []
    },
    {
      "cell_type": "code",
      "metadata": {
        "id": "wgan_tjV-1uG"
      },
      "source": [
        "# add a column to keep recipe_IDs and reset index in ordet to fill recipe_ID column\r\n",
        "# we fill recipe_ID column of NER_table with all recipe_IDs used NER in. (~ 4 minutes in colab with 8 GB RAM)\r\n",
        "\r\n",
        "NER_table['recipe_ID'] = np.empty((len(NER_table), 0)).tolist()\r\n",
        "NER_table = NER_table.reset_index().set_index('NER_ID')\r\n",
        "\r\n",
        "for k in range(len(recipe_table)):\r\n",
        "    for m in recipe_table['NER'][k]:\r\n",
        "        NER_table['recipe_ID'][m].append(recipe_table['recipe_ID'][k])"
      ],
      "execution_count": 20,
      "outputs": []
    },
    {
      "cell_type": "code",
      "metadata": {
        "id": "1MOYH8XTfyYY"
      },
      "source": [
        "# this is another approach to fill recipe_ID column in NER_table. but this is slow. (~ 100 hours for this problem)\r\n",
        "'''\r\n",
        "import time\r\n",
        "\r\n",
        "NER_table['recipe_ID'] = np.empty((len(NER_table), 0)).tolist()\r\n",
        "for i in range(len(NER_table)):\r\n",
        "    t0= time.clock()\r\n",
        "    for j in range(len(recipe_table)):\r\n",
        "        if NER_table['NER_ID'][i] in recipe_table['NER'][j]:\r\n",
        "           NER_table['recipe_ID'][i].append(recipe_table['recipe_ID'][j])\r\n",
        "    print(time.clock() - t0)\r\n",
        "'''"
      ],
      "execution_count": null,
      "outputs": []
    },
    {
      "cell_type": "code",
      "metadata": {
        "colab": {
          "base_uri": "https://localhost:8080/",
          "height": 228
        },
        "id": "cYqe0k4HHzcN",
        "outputId": "42782f0a-b55f-4fba-af2f-f2f1b52f4850"
      },
      "source": [
        "NER_table.head(5)"
      ],
      "execution_count": 21,
      "outputs": [
        {
          "output_type": "execute_result",
          "data": {
            "text/html": [
              "<div>\n",
              "<style scoped>\n",
              "    .dataframe tbody tr th:only-of-type {\n",
              "        vertical-align: middle;\n",
              "    }\n",
              "\n",
              "    .dataframe tbody tr th {\n",
              "        vertical-align: top;\n",
              "    }\n",
              "\n",
              "    .dataframe thead th {\n",
              "        text-align: right;\n",
              "    }\n",
              "</style>\n",
              "<table border=\"1\" class=\"dataframe\">\n",
              "  <thead>\n",
              "    <tr style=\"text-align: right;\">\n",
              "      <th></th>\n",
              "      <th>NER</th>\n",
              "      <th>recipe_ID</th>\n",
              "    </tr>\n",
              "    <tr>\n",
              "      <th>NER_ID</th>\n",
              "      <th></th>\n",
              "      <th></th>\n",
              "    </tr>\n",
              "  </thead>\n",
              "  <tbody>\n",
              "    <tr>\n",
              "      <th>NER0</th>\n",
              "      <td>bite size shredded rice biscuits</td>\n",
              "      <td>[Rec0, Rec817538]</td>\n",
              "    </tr>\n",
              "    <tr>\n",
              "      <th>NER1</th>\n",
              "      <td>vanilla</td>\n",
              "      <td>[Rec0, Rec6, Rec27, Rec40, Rec47, Rec56, Rec57...</td>\n",
              "    </tr>\n",
              "    <tr>\n",
              "      <th>NER2</th>\n",
              "      <td>brown sugar</td>\n",
              "      <td>[Rec0, Rec26, Rec40, Rec43, Rec66, Rec72, Rec7...</td>\n",
              "    </tr>\n",
              "    <tr>\n",
              "      <th>NER3</th>\n",
              "      <td>butter</td>\n",
              "      <td>[Rec0, Rec2, Rec4, Rec5, Rec6, Rec7, Rec11, Re...</td>\n",
              "    </tr>\n",
              "    <tr>\n",
              "      <th>NER4</th>\n",
              "      <td>nuts</td>\n",
              "      <td>[Rec0, Rec19, Rec20, Rec27, Rec43, Rec58, Rec6...</td>\n",
              "    </tr>\n",
              "  </tbody>\n",
              "</table>\n",
              "</div>"
            ],
            "text/plain": [
              "                                     NER                                          recipe_ID\n",
              "NER_ID                                                                                     \n",
              "NER0    bite size shredded rice biscuits                                  [Rec0, Rec817538]\n",
              "NER1                             vanilla  [Rec0, Rec6, Rec27, Rec40, Rec47, Rec56, Rec57...\n",
              "NER2                         brown sugar  [Rec0, Rec26, Rec40, Rec43, Rec66, Rec72, Rec7...\n",
              "NER3                              butter  [Rec0, Rec2, Rec4, Rec5, Rec6, Rec7, Rec11, Re...\n",
              "NER4                                nuts  [Rec0, Rec19, Rec20, Rec27, Rec43, Rec58, Rec6..."
            ]
          },
          "metadata": {
            "tags": []
          },
          "execution_count": 21
        }
      ]
    },
    {
      "cell_type": "code",
      "metadata": {
        "colab": {
          "base_uri": "https://localhost:8080/",
          "height": 678
        },
        "id": "On38K0P7c1-Q",
        "outputId": "e84b67bf-44a8-4590-ecc6-60d5e2c1ddfc"
      },
      "source": [
        "NER_table.sort_values(by=['NER'])[:20]"
      ],
      "execution_count": 22,
      "outputs": [
        {
          "output_type": "execute_result",
          "data": {
            "text/html": [
              "<div>\n",
              "<style scoped>\n",
              "    .dataframe tbody tr th:only-of-type {\n",
              "        vertical-align: middle;\n",
              "    }\n",
              "\n",
              "    .dataframe tbody tr th {\n",
              "        vertical-align: top;\n",
              "    }\n",
              "\n",
              "    .dataframe thead th {\n",
              "        text-align: right;\n",
              "    }\n",
              "</style>\n",
              "<table border=\"1\" class=\"dataframe\">\n",
              "  <thead>\n",
              "    <tr style=\"text-align: right;\">\n",
              "      <th></th>\n",
              "      <th>NER</th>\n",
              "      <th>recipe_ID</th>\n",
              "    </tr>\n",
              "    <tr>\n",
              "      <th>NER_ID</th>\n",
              "      <th></th>\n",
              "      <th></th>\n",
              "    </tr>\n",
              "  </thead>\n",
              "  <tbody>\n",
              "    <tr>\n",
              "      <th>NER87817</th>\n",
              "      <td>aaaa</td>\n",
              "      <td>[Rec1240940]</td>\n",
              "    </tr>\n",
              "    <tr>\n",
              "      <th>NER100988</th>\n",
              "      <td>aaakosher salt</td>\n",
              "      <td>[Rec1300551]</td>\n",
              "    </tr>\n",
              "    <tr>\n",
              "      <th>NER155788</th>\n",
              "      <td>aaejo</td>\n",
              "      <td>[Rec1738134]</td>\n",
              "    </tr>\n",
              "    <tr>\n",
              "      <th>NER189537</th>\n",
              "      <td>aalborg</td>\n",
              "      <td>[Rec2147650]</td>\n",
              "    </tr>\n",
              "    <tr>\n",
              "      <th>NER106183</th>\n",
              "      <td>aamchur</td>\n",
              "      <td>[Rec1323487, Rec1325487, Rec1517688, Rec1529893]</td>\n",
              "    </tr>\n",
              "    <tr>\n",
              "      <th>NER168339</th>\n",
              "      <td>aarons</td>\n",
              "      <td>[Rec1879674]</td>\n",
              "    </tr>\n",
              "    <tr>\n",
              "      <th>NER160626</th>\n",
              "      <td>aaronson</td>\n",
              "      <td>[Rec1791531]</td>\n",
              "    </tr>\n",
              "    <tr>\n",
              "      <th>NER86430</th>\n",
              "      <td>aartis</td>\n",
              "      <td>[Rec1235522]</td>\n",
              "    </tr>\n",
              "    <tr>\n",
              "      <th>NER79811</th>\n",
              "      <td>aasil</td>\n",
              "      <td>[Rec1182708]</td>\n",
              "    </tr>\n",
              "    <tr>\n",
              "      <th>NER98435</th>\n",
              "      <td>abado sauce</td>\n",
              "      <td>[Rec1288332]</td>\n",
              "    </tr>\n",
              "    <tr>\n",
              "      <th>NER146296</th>\n",
              "      <td>abaking powder</td>\n",
              "      <td>[Rec1640858, Rec1683663]</td>\n",
              "    </tr>\n",
              "    <tr>\n",
              "      <th>NER23746</th>\n",
              "      <td>abalone</td>\n",
              "      <td>[Rec224728, Rec664571, Rec800300, Rec926309, R...</td>\n",
              "    </tr>\n",
              "    <tr>\n",
              "      <th>NER187059</th>\n",
              "      <td>abalone crisp</td>\n",
              "      <td>[Rec2114815]</td>\n",
              "    </tr>\n",
              "    <tr>\n",
              "      <th>NER155422</th>\n",
              "      <td>abalone mushrooms</td>\n",
              "      <td>[Rec1734088, Rec1827048]</td>\n",
              "    </tr>\n",
              "    <tr>\n",
              "      <th>NER177448</th>\n",
              "      <td>abalone saltimbocca</td>\n",
              "      <td>[Rec1991380]</td>\n",
              "    </tr>\n",
              "    <tr>\n",
              "      <th>NER59673</th>\n",
              "      <td>abalone sauce</td>\n",
              "      <td>[Rec940762, Rec1714869, Rec1891333, Rec2140175]</td>\n",
              "    </tr>\n",
              "    <tr>\n",
              "      <th>NER151657</th>\n",
              "      <td>abalone slices</td>\n",
              "      <td>[Rec1695061]</td>\n",
              "    </tr>\n",
              "    <tr>\n",
              "      <th>NER76550</th>\n",
              "      <td>abalone steak</td>\n",
              "      <td>[Rec1135247]</td>\n",
              "    </tr>\n",
              "    <tr>\n",
              "      <th>NER177416</th>\n",
              "      <td>abalone steaks</td>\n",
              "      <td>[Rec1990827]</td>\n",
              "    </tr>\n",
              "    <tr>\n",
              "      <th>NER123891</th>\n",
              "      <td>abalones</td>\n",
              "      <td>[Rec1499562, Rec1689223, Rec1706057, Rec188410...</td>\n",
              "    </tr>\n",
              "  </tbody>\n",
              "</table>\n",
              "</div>"
            ],
            "text/plain": [
              "                           NER                                          recipe_ID\n",
              "NER_ID                                                                           \n",
              "NER87817                  aaaa                                       [Rec1240940]\n",
              "NER100988       aaakosher salt                                       [Rec1300551]\n",
              "NER155788                aaejo                                       [Rec1738134]\n",
              "NER189537              aalborg                                       [Rec2147650]\n",
              "NER106183              aamchur   [Rec1323487, Rec1325487, Rec1517688, Rec1529893]\n",
              "NER168339               aarons                                       [Rec1879674]\n",
              "NER160626             aaronson                                       [Rec1791531]\n",
              "NER86430                aartis                                       [Rec1235522]\n",
              "NER79811                 aasil                                       [Rec1182708]\n",
              "NER98435           abado sauce                                       [Rec1288332]\n",
              "NER146296       abaking powder                           [Rec1640858, Rec1683663]\n",
              "NER23746               abalone  [Rec224728, Rec664571, Rec800300, Rec926309, R...\n",
              "NER187059        abalone crisp                                       [Rec2114815]\n",
              "NER155422    abalone mushrooms                           [Rec1734088, Rec1827048]\n",
              "NER177448  abalone saltimbocca                                       [Rec1991380]\n",
              "NER59673         abalone sauce    [Rec940762, Rec1714869, Rec1891333, Rec2140175]\n",
              "NER151657       abalone slices                                       [Rec1695061]\n",
              "NER76550         abalone steak                                       [Rec1135247]\n",
              "NER177416       abalone steaks                                       [Rec1990827]\n",
              "NER123891             abalones  [Rec1499562, Rec1689223, Rec1706057, Rec188410..."
            ]
          },
          "metadata": {
            "tags": []
          },
          "execution_count": 22
        }
      ]
    },
    {
      "cell_type": "code",
      "metadata": {
        "colab": {
          "base_uri": "https://localhost:8080/"
        },
        "id": "23CRMFethCGn",
        "outputId": "98619f17-2f2d-449f-898d-3cba006bba82"
      },
      "source": [
        "len(NER_table)"
      ],
      "execution_count": 23,
      "outputs": [
        {
          "output_type": "execute_result",
          "data": {
            "text/plain": [
              "191215"
            ]
          },
          "metadata": {
            "tags": []
          },
          "execution_count": 23
        }
      ]
    },
    {
      "cell_type": "code",
      "metadata": {
        "colab": {
          "base_uri": "https://localhost:8080/"
        },
        "id": "k2FhdNiCuZip",
        "outputId": "9725e05c-1ad5-4ebe-b128-261997ba0e03"
      },
      "source": [
        "# number of NERs which were used only in one recipe.\r\n",
        "\r\n",
        "sum(NER_table['recipe_ID'].str.len() < 2)"
      ],
      "execution_count": 24,
      "outputs": [
        {
          "output_type": "execute_result",
          "data": {
            "text/plain": [
              "120665"
            ]
          },
          "metadata": {
            "tags": []
          },
          "execution_count": 24
        }
      ]
    },
    {
      "cell_type": "markdown",
      "metadata": {
        "id": "UazYMmPhwkf2"
      },
      "source": [
        "## step_table"
      ]
    },
    {
      "cell_type": "code",
      "metadata": {
        "id": "a6pEX1rAxZuz"
      },
      "source": [
        "# create step_table and add step_ID column\r\n",
        "\r\n",
        "step_table = pd.DataFrame(recipe_table['steps'].explode().unique(), columns=['steps'])\r\n",
        "step_table['step_ID'] =  ['Ste'+str(i) for i in range(len(step_table['steps']))]"
      ],
      "execution_count": 25,
      "outputs": []
    },
    {
      "cell_type": "code",
      "metadata": {
        "id": "Spf4N3U31BkM"
      },
      "source": [
        "# set index to steps and make conv dictionary out of step_table\r\n",
        "# by help of conv dictionary, we replace names in recipe_table['steps'] with IDs\r\n",
        "\r\n",
        "step_table.set_index(['steps'], inplace=True)\r\n",
        "conv = step_table.to_dict('dict')"
      ],
      "execution_count": null,
      "outputs": []
    },
    {
      "cell_type": "code",
      "metadata": {
        "id": "em1Rxw7s3JUw"
      },
      "source": [
        "recipe_table['steps'] = recipe_table['steps'].apply(lambda row: [conv['step_ID'][v] for v in row if conv['step_ID'].get(v)])\r\n",
        "step_table = step_table.reset_index().set_index('step_ID')"
      ],
      "execution_count": 36,
      "outputs": []
    },
    {
      "cell_type": "code",
      "metadata": {
        "colab": {
          "base_uri": "https://localhost:8080/",
          "height": 285
        },
        "id": "-LeZ8A9-0fYN",
        "outputId": "569fa365-ae75-420d-a45e-60cad37f9ebf"
      },
      "source": [
        "recipe_table.tail(5)"
      ],
      "execution_count": 44,
      "outputs": [
        {
          "output_type": "execute_result",
          "data": {
            "text/html": [
              "<div>\n",
              "<style scoped>\n",
              "    .dataframe tbody tr th:only-of-type {\n",
              "        vertical-align: middle;\n",
              "    }\n",
              "\n",
              "    .dataframe tbody tr th {\n",
              "        vertical-align: top;\n",
              "    }\n",
              "\n",
              "    .dataframe thead th {\n",
              "        text-align: right;\n",
              "    }\n",
              "</style>\n",
              "<table border=\"1\" class=\"dataframe\">\n",
              "  <thead>\n",
              "    <tr style=\"text-align: right;\">\n",
              "      <th></th>\n",
              "      <th>recipe_ID</th>\n",
              "      <th>title</th>\n",
              "      <th>ingredients</th>\n",
              "      <th>steps</th>\n",
              "      <th>link</th>\n",
              "      <th>source</th>\n",
              "      <th>NER</th>\n",
              "    </tr>\n",
              "  </thead>\n",
              "  <tbody>\n",
              "    <tr>\n",
              "      <th>2170498</th>\n",
              "      <td>Rec2170498</td>\n",
              "      <td>sunnys fake crepes</td>\n",
              "      <td>[\"1/2 cup chocolate hazelnut spread (recommend...</td>\n",
              "      <td>[Ste13278705, Ste13278706, Ste13278707, Ste132...</td>\n",
              "      <td>www.foodnetwork.com/recipes/sunny-anderson/sun...</td>\n",
              "      <td>Recipes1M</td>\n",
              "      <td>[NER49, NER498, NER3798, NER3, NER51989]</td>\n",
              "    </tr>\n",
              "    <tr>\n",
              "      <th>2170499</th>\n",
              "      <td>Rec2170499</td>\n",
              "      <td>devil eggs</td>\n",
              "      <td>[\"1 dozen eggs\", \"1 paprika\", \"1 salt and pepp...</td>\n",
              "      <td>[Ste13278714, Ste13278715, Ste13278716, Ste132...</td>\n",
              "      <td>cookpad.com/us/recipes/355411-devil-eggs</td>\n",
              "      <td>Recipes1M</td>\n",
              "      <td>[NER10, NER82, NER1731, NER2986, NER5240, NER372]</td>\n",
              "    </tr>\n",
              "    <tr>\n",
              "      <th>2170500</th>\n",
              "      <td>Rec2170500</td>\n",
              "      <td>extremely easy and quick  namul daikon salad</td>\n",
              "      <td>[\"150 grams Daikon radish\", \"1 tbsp Sesame oil...</td>\n",
              "      <td>[Ste13278722, Ste44582, Ste9096310]</td>\n",
              "      <td>cookpad.com/us/recipes/153324-extremely-easy-a...</td>\n",
              "      <td>Recipes1M</td>\n",
              "      <td>[NER10, NER33581, NER460, NER3070, NER87]</td>\n",
              "    </tr>\n",
              "    <tr>\n",
              "      <th>2170501</th>\n",
              "      <td>Rec2170501</td>\n",
              "      <td>panroasted pork chops with apple fritters</td>\n",
              "      <td>[\"1 cup apple cider\", \"6 tablespoons sugar\", \"...</td>\n",
              "      <td>[Ste13278723, Ste13278724, Ste13278725, Ste132...</td>\n",
              "      <td>cooking.nytimes.com/recipes/1015164</td>\n",
              "      <td>Recipes1M</td>\n",
              "      <td>[NER400, NER875, NER1820, NER32, NER4705, NER5...</td>\n",
              "    </tr>\n",
              "    <tr>\n",
              "      <th>2170502</th>\n",
              "      <td>Rec2170502</td>\n",
              "      <td>polpette in spicy tomato sauce</td>\n",
              "      <td>[\"1 pound ground veal\", \"1/2 pound sweet Itali...</td>\n",
              "      <td>[Ste1554140, Ste13278745, Ste13278746, Ste1327...</td>\n",
              "      <td>www.foodandwine.com/recipes/polpette-spicy-tom...</td>\n",
              "      <td>Recipes1M</td>\n",
              "      <td>[NER10, NER89, NER37136, NER88, NER198, NER104...</td>\n",
              "    </tr>\n",
              "  </tbody>\n",
              "</table>\n",
              "</div>"
            ],
            "text/plain": [
              "          recipe_ID  ...                                                NER\n",
              "2170498  Rec2170498  ...           [NER49, NER498, NER3798, NER3, NER51989]\n",
              "2170499  Rec2170499  ...  [NER10, NER82, NER1731, NER2986, NER5240, NER372]\n",
              "2170500  Rec2170500  ...          [NER10, NER33581, NER460, NER3070, NER87]\n",
              "2170501  Rec2170501  ...  [NER400, NER875, NER1820, NER32, NER4705, NER5...\n",
              "2170502  Rec2170502  ...  [NER10, NER89, NER37136, NER88, NER198, NER104...\n",
              "\n",
              "[5 rows x 7 columns]"
            ]
          },
          "metadata": {
            "tags": []
          },
          "execution_count": 44
        }
      ]
    },
    {
      "cell_type": "code",
      "metadata": {
        "colab": {
          "base_uri": "https://localhost:8080/",
          "height": 228
        },
        "id": "K5wQkevb7IuG",
        "outputId": "aaf9e1e4-554a-4514-81d1-929da9bc7a89"
      },
      "source": [
        "step_table.tail()"
      ],
      "execution_count": 38,
      "outputs": [
        {
          "output_type": "execute_result",
          "data": {
            "text/html": [
              "<div>\n",
              "<style scoped>\n",
              "    .dataframe tbody tr th:only-of-type {\n",
              "        vertical-align: middle;\n",
              "    }\n",
              "\n",
              "    .dataframe tbody tr th {\n",
              "        vertical-align: top;\n",
              "    }\n",
              "\n",
              "    .dataframe thead th {\n",
              "        text-align: right;\n",
              "    }\n",
              "</style>\n",
              "<table border=\"1\" class=\"dataframe\">\n",
              "  <thead>\n",
              "    <tr style=\"text-align: right;\">\n",
              "      <th></th>\n",
              "      <th>steps</th>\n",
              "    </tr>\n",
              "    <tr>\n",
              "      <th>step_ID</th>\n",
              "      <th></th>\n",
              "    </tr>\n",
              "  </thead>\n",
              "  <tbody>\n",
              "    <tr>\n",
              "      <th>Ste13278746</th>\n",
              "      <td>Roll into 1 1/2-inch meatballs</td>\n",
              "    </tr>\n",
              "    <tr>\n",
              "      <th>Ste13278747</th>\n",
              "      <td>Bake the meatballs on a lightly oiled baking s...</td>\n",
              "    </tr>\n",
              "    <tr>\n",
              "      <th>Ste13278748</th>\n",
              "      <td>In a large saucepan, season the tomato sauce w...</td>\n",
              "    </tr>\n",
              "    <tr>\n",
              "      <th>Ste13278749</th>\n",
              "      <td>Add the meatballs and simmer until the sauce i...</td>\n",
              "    </tr>\n",
              "    <tr>\n",
              "      <th>Ste13278750</th>\n",
              "      <td>Sprinkle with pecorino cheese and serve</td>\n",
              "    </tr>\n",
              "  </tbody>\n",
              "</table>\n",
              "</div>"
            ],
            "text/plain": [
              "                                                         steps\n",
              "step_ID                                                       \n",
              "Ste13278746                     Roll into 1 1/2-inch meatballs\n",
              "Ste13278747  Bake the meatballs on a lightly oiled baking s...\n",
              "Ste13278748  In a large saucepan, season the tomato sauce w...\n",
              "Ste13278749  Add the meatballs and simmer until the sauce i...\n",
              "Ste13278750            Sprinkle with pecorino cheese and serve"
            ]
          },
          "metadata": {
            "tags": []
          },
          "execution_count": 38
        }
      ]
    },
    {
      "cell_type": "code",
      "metadata": {
        "colab": {
          "base_uri": "https://localhost:8080/",
          "height": 378
        },
        "id": "qWMHKkYE7P7c",
        "outputId": "72f1e980-9a64-40b2-94e5-d694b703ed6a"
      },
      "source": [
        "NER_table.head(10)"
      ],
      "execution_count": 41,
      "outputs": [
        {
          "output_type": "execute_result",
          "data": {
            "text/html": [
              "<div>\n",
              "<style scoped>\n",
              "    .dataframe tbody tr th:only-of-type {\n",
              "        vertical-align: middle;\n",
              "    }\n",
              "\n",
              "    .dataframe tbody tr th {\n",
              "        vertical-align: top;\n",
              "    }\n",
              "\n",
              "    .dataframe thead th {\n",
              "        text-align: right;\n",
              "    }\n",
              "</style>\n",
              "<table border=\"1\" class=\"dataframe\">\n",
              "  <thead>\n",
              "    <tr style=\"text-align: right;\">\n",
              "      <th></th>\n",
              "      <th>NER</th>\n",
              "      <th>recipe_ID</th>\n",
              "    </tr>\n",
              "    <tr>\n",
              "      <th>NER_ID</th>\n",
              "      <th></th>\n",
              "      <th></th>\n",
              "    </tr>\n",
              "  </thead>\n",
              "  <tbody>\n",
              "    <tr>\n",
              "      <th>NER0</th>\n",
              "      <td>bite size shredded rice biscuits</td>\n",
              "      <td>[Rec0, Rec817538]</td>\n",
              "    </tr>\n",
              "    <tr>\n",
              "      <th>NER1</th>\n",
              "      <td>vanilla</td>\n",
              "      <td>[Rec0, Rec6, Rec27, Rec40, Rec47, Rec56, Rec57...</td>\n",
              "    </tr>\n",
              "    <tr>\n",
              "      <th>NER2</th>\n",
              "      <td>brown sugar</td>\n",
              "      <td>[Rec0, Rec26, Rec40, Rec43, Rec66, Rec72, Rec7...</td>\n",
              "    </tr>\n",
              "    <tr>\n",
              "      <th>NER3</th>\n",
              "      <td>butter</td>\n",
              "      <td>[Rec0, Rec2, Rec4, Rec5, Rec6, Rec7, Rec11, Re...</td>\n",
              "    </tr>\n",
              "    <tr>\n",
              "      <th>NER4</th>\n",
              "      <td>nuts</td>\n",
              "      <td>[Rec0, Rec19, Rec20, Rec27, Rec43, Rec58, Rec6...</td>\n",
              "    </tr>\n",
              "    <tr>\n",
              "      <th>NER5</th>\n",
              "      <td>milk</td>\n",
              "      <td>[Rec0, Rec5, Rec29, Rec40, Rec49, Rec65, Rec76...</td>\n",
              "    </tr>\n",
              "    <tr>\n",
              "      <th>NER6</th>\n",
              "      <td>sour cream</td>\n",
              "      <td>[Rec1, Rec5, Rec13, Rec18, Rec21, Rec28, Rec35...</td>\n",
              "    </tr>\n",
              "    <tr>\n",
              "      <th>NER7</th>\n",
              "      <td>chicken breasts</td>\n",
              "      <td>[Rec1, Rec49, Rec157, Rec330, Rec408, Rec427, ...</td>\n",
              "    </tr>\n",
              "    <tr>\n",
              "      <th>NER8</th>\n",
              "      <td>cream of mushroom soup</td>\n",
              "      <td>[Rec1, Rec3, Rec49, Rec60, Rec114, Rec131, Rec...</td>\n",
              "    </tr>\n",
              "    <tr>\n",
              "      <th>NER9</th>\n",
              "      <td>beef</td>\n",
              "      <td>[Rec1, Rec98, Rec115, Rec347, Rec366, Rec625, ...</td>\n",
              "    </tr>\n",
              "  </tbody>\n",
              "</table>\n",
              "</div>"
            ],
            "text/plain": [
              "                                     NER                                          recipe_ID\n",
              "NER_ID                                                                                     \n",
              "NER0    bite size shredded rice biscuits                                  [Rec0, Rec817538]\n",
              "NER1                             vanilla  [Rec0, Rec6, Rec27, Rec40, Rec47, Rec56, Rec57...\n",
              "NER2                         brown sugar  [Rec0, Rec26, Rec40, Rec43, Rec66, Rec72, Rec7...\n",
              "NER3                              butter  [Rec0, Rec2, Rec4, Rec5, Rec6, Rec7, Rec11, Re...\n",
              "NER4                                nuts  [Rec0, Rec19, Rec20, Rec27, Rec43, Rec58, Rec6...\n",
              "NER5                                milk  [Rec0, Rec5, Rec29, Rec40, Rec49, Rec65, Rec76...\n",
              "NER6                          sour cream  [Rec1, Rec5, Rec13, Rec18, Rec21, Rec28, Rec35...\n",
              "NER7                     chicken breasts  [Rec1, Rec49, Rec157, Rec330, Rec408, Rec427, ...\n",
              "NER8              cream of mushroom soup  [Rec1, Rec3, Rec49, Rec60, Rec114, Rec131, Rec...\n",
              "NER9                                beef  [Rec1, Rec98, Rec115, Rec347, Rec366, Rec625, ..."
            ]
          },
          "metadata": {
            "tags": []
          },
          "execution_count": 41
        }
      ]
    },
    {
      "cell_type": "code",
      "metadata": {
        "id": "hAAAX9360f9i"
      },
      "source": [
        ""
      ],
      "execution_count": null,
      "outputs": []
    }
  ]
}