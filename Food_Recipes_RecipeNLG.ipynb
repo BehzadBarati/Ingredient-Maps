{
  "nbformat": 4,
  "nbformat_minor": 0,
  "metadata": {
    "colab": {
      "name": "Food-Recipes-RecipeNLG.ipynb",
      "provenance": [],
      "collapsed_sections": [
        "YXzM9Guw8Wc4",
        "6evCQCIT6FhU",
        "ahurEDptAC1n",
        "roI52c75nFkn",
        "Lpf2rTSTM_Bh",
        "0Z_bH5PMNyC-",
        "B9RASDGX9pDu",
        "zixR4-hf0WlO",
        "fjrWhaUTwpMq",
        "poTccrkFKz0k"
      ],
      "authorship_tag": "ABX9TyMJFx412AKTcJD4Wksfx9s5",
      "include_colab_link": true
    },
    "kernelspec": {
      "name": "python3",
      "display_name": "Python 3"
    }
  },
  "cells": [
    {
      "cell_type": "markdown",
      "metadata": {
        "id": "view-in-github",
        "colab_type": "text"
      },
      "source": [
        "<a href=\"https://colab.research.google.com/github/BehzadBarati/Ingredient-Maps/blob/main/Food_Recipes_RecipeNLG.ipynb\" target=\"_parent\"><img src=\"https://colab.research.google.com/assets/colab-badge.svg\" alt=\"Open In Colab\"/></a>"
      ]
    },
    {
      "cell_type": "markdown",
      "metadata": {
        "id": "y6B3Wlv8vOZq"
      },
      "source": [
        "Author: Behzad Barati\r\n",
        "\r\n",
        "Abstract:\r\n",
        "\r\n",
        "*   This notebook produces SQL tables for working with almost 500K recipies of RecipeNLG dataset.\r\n",
        "*   RecipeNLG dataset is composed of Recipe1M dataset and other recipes which were added by RecipeNLG authors.\r\n",
        "*   We load RecipeNLG dataset, but For better quality of data, I removed recipes which were gathered by RecipeNLG authors. So, generated SQL tables are dealing with Recipe1M data only.\r\n",
        "*   Some preprocessing actions also took place on dataset (in Preprocessing recipe_table section). so we ended up with almost 500K recipes.\r\n",
        "___\r\n",
        "Source:\r\n",
        "\r\n",
        "My main refrences are [RecipeNLG paper](https://www.aclweb.org/anthology/2020.inlg-1.4.pdf) and its [dataset](https://recipenlg.cs.put.poznan.pl).\r\n",
        "___\r\n",
        "Input: \r\n",
        "\r\n",
        "1- Dataset of [RecipeNLG](https://recipenlg.cs.put.poznan.pl)\r\n",
        "\r\n",
        "Ouput:\r\n",
        "\r\n",
        "1- EDA report on RecipeNLG dataset (including \"EDA-Report-RecipeNLG.html\" file, word cloud pictures and list of source websites of recipies as \"Websites-RecipeNLG.csv\" file)\r\n",
        "\r\n",
        "2- recipe_table\r\n",
        "\r\n",
        "3- ner_table\r\n",
        "\r\n",
        "4- step_table\r\n",
        "\r\n",
        "5- recipe_ner_associate_table\r\n",
        "\r\n",
        "6- recipe_step_associate_table\r\n",
        "___\r\n",
        "Hints:\r\n",
        "\r\n",
        "1_ As our csv file is greater than 2 gigabytes, I prefer to use cloud services(here google colab). I uploaded RecipeNLG dataset in my [google drive](https://drive.google.com/drive/folders/1g1ZNYKlLN4hyP8ywHXWa2Iu1oQ4wxSgR?usp=sharing). It is public.\r\n",
        "\r\n",
        "\r\n",
        "2_ If there is out of memory error in running \"ProfileReport\", please first re-install latest version of \"pandas_profiling\" library, then try \"minimal=True\" argument in \"profileReport\" for eliminating some calculations. (pip install https://github.com/pandas-profiling/pandas-profiling/archive/master.zip)"
      ]
    },
    {
      "cell_type": "markdown",
      "metadata": {
        "id": "YXzM9Guw8Wc4"
      },
      "source": [
        "# Import needed libraries"
      ]
    },
    {
      "cell_type": "code",
      "metadata": {
        "id": "Cwg3EmTR8brJ"
      },
      "source": [
        "# Install pandas_profiling library\r\n",
        "# pip install https://github.com/pandas-profiling/pandas-profiling/archive/master.zip\r\n",
        "\r\n",
        "import numpy as np\r\n",
        "import pandas as pd\r\n",
        "from wordcloud import WordCloud             # Make wordcloud pictures\r\n",
        "from pandas_profiling import ProfileReport  # Generate brief report on our dataframe\r\n",
        "import matplotlib.pyplot as plt\r\n",
        "from google.colab import drive              # Mount google drive to colab notebook\r\n",
        "import re                                   \r\n",
        "import string                               # removing special characters\r\n",
        "from pandas.core.common import flatten      # to make nested lists flat"
      ],
      "execution_count": 1,
      "outputs": []
    },
    {
      "cell_type": "markdown",
      "metadata": {
        "id": "6evCQCIT6FhU"
      },
      "source": [
        "# Load data"
      ]
    },
    {
      "cell_type": "code",
      "metadata": {
        "id": "ytrTiQikvjZP",
        "colab": {
          "base_uri": "https://localhost:8080/"
        },
        "outputId": "fc698f14-86c7-44f4-ccd0-171fc82a6f3e"
      },
      "source": [
        "# Mount google drive to colab notebook\r\n",
        "# Our dataset will be read as recipe_table.\r\n",
        "\r\n",
        "drive.mount('/content/gdrive', force_remount=True)"
      ],
      "execution_count": 2,
      "outputs": [
        {
          "output_type": "stream",
          "text": [
            "Mounted at /content/gdrive\n"
          ],
          "name": "stdout"
        }
      ]
    },
    {
      "cell_type": "code",
      "metadata": {
        "colab": {
          "base_uri": "https://localhost:8080/"
        },
        "id": "P4H_UOfNZTmO",
        "outputId": "e3cb8c52-d9a0-471f-ac6b-3c4731034ea2"
      },
      "source": [
        "cd gdrive/MyDrive/Projects/Ingredient-Maps/Phase1"
      ],
      "execution_count": 3,
      "outputs": [
        {
          "output_type": "stream",
          "text": [
            "/content/gdrive/MyDrive/Projects/Ingredient-Maps/Phase1\n"
          ],
          "name": "stdout"
        }
      ]
    },
    {
      "cell_type": "code",
      "metadata": {
        "colab": {
          "base_uri": "https://localhost:8080/",
          "height": 316
        },
        "id": "MsBjy_B17HEl",
        "outputId": "c24a3ffd-6146-4f45-9d4f-b1a0ab681ef6"
      },
      "source": [
        "# Reading file and check if data is loaded\r\n",
        "\r\n",
        "recipe_table = pd.read_csv('./dataset/RecipeNLG.csv')\r\n",
        "print('Number of recipes in dataset: ', len(recipe_table))\r\n",
        "recipe_table.rename(columns={'Unnamed: 0': 'id', 'title': 'tag_value', 'directions': 'steps', 'NER': 'ner'}, inplace=True)\r\n",
        "print('last 5 recipes:')\r\n",
        "recipe_table.tail(5)"
      ],
      "execution_count": 4,
      "outputs": [
        {
          "output_type": "stream",
          "text": [
            "Number of recipes in dataset:  2231142\n",
            "last 5 recipes:\n"
          ],
          "name": "stdout"
        },
        {
          "output_type": "execute_result",
          "data": {
            "text/html": [
              "<div>\n",
              "<style scoped>\n",
              "    .dataframe tbody tr th:only-of-type {\n",
              "        vertical-align: middle;\n",
              "    }\n",
              "\n",
              "    .dataframe tbody tr th {\n",
              "        vertical-align: top;\n",
              "    }\n",
              "\n",
              "    .dataframe thead th {\n",
              "        text-align: right;\n",
              "    }\n",
              "</style>\n",
              "<table border=\"1\" class=\"dataframe\">\n",
              "  <thead>\n",
              "    <tr style=\"text-align: right;\">\n",
              "      <th></th>\n",
              "      <th>id</th>\n",
              "      <th>tag_value</th>\n",
              "      <th>ingredients</th>\n",
              "      <th>steps</th>\n",
              "      <th>link</th>\n",
              "      <th>source</th>\n",
              "      <th>ner</th>\n",
              "    </tr>\n",
              "  </thead>\n",
              "  <tbody>\n",
              "    <tr>\n",
              "      <th>2231137</th>\n",
              "      <td>2231137</td>\n",
              "      <td>Sunny's Fake Crepes</td>\n",
              "      <td>[\"1/2 cup chocolate hazelnut spread (recommend...</td>\n",
              "      <td>[\"Spread hazelnut spread on 1 side of each tor...</td>\n",
              "      <td>www.foodnetwork.com/recipes/sunny-anderson/sun...</td>\n",
              "      <td>Recipes1M</td>\n",
              "      <td>[\"chocolate hazelnut spread\", \"tortillas\", \"bu...</td>\n",
              "    </tr>\n",
              "    <tr>\n",
              "      <th>2231138</th>\n",
              "      <td>2231138</td>\n",
              "      <td>Devil Eggs</td>\n",
              "      <td>[\"1 dozen eggs\", \"1 paprika\", \"1 salt and pepp...</td>\n",
              "      <td>[\"Boil eggs on medium for 30mins.\", \"Then cool...</td>\n",
              "      <td>cookpad.com/us/recipes/355411-devil-eggs</td>\n",
              "      <td>Recipes1M</td>\n",
              "      <td>[\"eggs\", \"paprika\", \"salt\", \"choice\", \"miracle...</td>\n",
              "    </tr>\n",
              "    <tr>\n",
              "      <th>2231139</th>\n",
              "      <td>2231139</td>\n",
              "      <td>Extremely Easy and Quick - Namul Daikon Salad</td>\n",
              "      <td>[\"150 grams Daikon radish\", \"1 tbsp Sesame oil...</td>\n",
              "      <td>[\"Julienne the daikon and squeeze out the exce...</td>\n",
              "      <td>cookpad.com/us/recipes/153324-extremely-easy-a...</td>\n",
              "      <td>Recipes1M</td>\n",
              "      <td>[\"radish\", \"Sesame oil\", \"White sesame seeds\",...</td>\n",
              "    </tr>\n",
              "    <tr>\n",
              "      <th>2231140</th>\n",
              "      <td>2231140</td>\n",
              "      <td>Pan-Roasted Pork Chops With Apple Fritters</td>\n",
              "      <td>[\"1 cup apple cider\", \"6 tablespoons sugar\", \"...</td>\n",
              "      <td>[\"In a large bowl, mix the apple cider with 4 ...</td>\n",
              "      <td>cooking.nytimes.com/recipes/1015164</td>\n",
              "      <td>Recipes1M</td>\n",
              "      <td>[\"apple cider\", \"sugar\", \"kosher salt\", \"bay l...</td>\n",
              "    </tr>\n",
              "    <tr>\n",
              "      <th>2231141</th>\n",
              "      <td>2231141</td>\n",
              "      <td>Polpette in Spicy Tomato Sauce</td>\n",
              "      <td>[\"1 pound ground veal\", \"1/2 pound sweet Itali...</td>\n",
              "      <td>[\"Preheat the oven to 350.\", \"In a bowl, mix t...</td>\n",
              "      <td>www.foodandwine.com/recipes/polpette-spicy-tom...</td>\n",
              "      <td>Recipes1M</td>\n",
              "      <td>[\"ground veal\", \"sausage\", \"bread crumbs\", \"mi...</td>\n",
              "    </tr>\n",
              "  </tbody>\n",
              "</table>\n",
              "</div>"
            ],
            "text/plain": [
              "              id  ...                                                ner\n",
              "2231137  2231137  ...  [\"chocolate hazelnut spread\", \"tortillas\", \"bu...\n",
              "2231138  2231138  ...  [\"eggs\", \"paprika\", \"salt\", \"choice\", \"miracle...\n",
              "2231139  2231139  ...  [\"radish\", \"Sesame oil\", \"White sesame seeds\",...\n",
              "2231140  2231140  ...  [\"apple cider\", \"sugar\", \"kosher salt\", \"bay l...\n",
              "2231141  2231141  ...  [\"ground veal\", \"sausage\", \"bread crumbs\", \"mi...\n",
              "\n",
              "[5 rows x 7 columns]"
            ]
          },
          "metadata": {
            "tags": []
          },
          "execution_count": 4
        }
      ]
    },
    {
      "cell_type": "code",
      "metadata": {
        "colab": {
          "base_uri": "https://localhost:8080/",
          "height": 197
        },
        "id": "swNGxOSN2QrF",
        "outputId": "4403a31c-912f-4236-9a8b-59905220c9c6"
      },
      "source": [
        "recipe_table.head()"
      ],
      "execution_count": 5,
      "outputs": [
        {
          "output_type": "execute_result",
          "data": {
            "text/html": [
              "<div>\n",
              "<style scoped>\n",
              "    .dataframe tbody tr th:only-of-type {\n",
              "        vertical-align: middle;\n",
              "    }\n",
              "\n",
              "    .dataframe tbody tr th {\n",
              "        vertical-align: top;\n",
              "    }\n",
              "\n",
              "    .dataframe thead th {\n",
              "        text-align: right;\n",
              "    }\n",
              "</style>\n",
              "<table border=\"1\" class=\"dataframe\">\n",
              "  <thead>\n",
              "    <tr style=\"text-align: right;\">\n",
              "      <th></th>\n",
              "      <th>id</th>\n",
              "      <th>tag_value</th>\n",
              "      <th>ingredients</th>\n",
              "      <th>steps</th>\n",
              "      <th>link</th>\n",
              "      <th>source</th>\n",
              "      <th>ner</th>\n",
              "    </tr>\n",
              "  </thead>\n",
              "  <tbody>\n",
              "    <tr>\n",
              "      <th>0</th>\n",
              "      <td>0</td>\n",
              "      <td>No-Bake Nut Cookies</td>\n",
              "      <td>[\"1 c. firmly packed brown sugar\", \"1/2 c. eva...</td>\n",
              "      <td>[\"In a heavy 2-quart saucepan, mix brown sugar...</td>\n",
              "      <td>www.cookbooks.com/Recipe-Details.aspx?id=44874</td>\n",
              "      <td>Gathered</td>\n",
              "      <td>[\"brown sugar\", \"milk\", \"vanilla\", \"nuts\", \"bu...</td>\n",
              "    </tr>\n",
              "    <tr>\n",
              "      <th>1</th>\n",
              "      <td>1</td>\n",
              "      <td>Jewell Ball'S Chicken</td>\n",
              "      <td>[\"1 small jar chipped beef, cut up\", \"4 boned ...</td>\n",
              "      <td>[\"Place chipped beef on bottom of baking dish....</td>\n",
              "      <td>www.cookbooks.com/Recipe-Details.aspx?id=699419</td>\n",
              "      <td>Gathered</td>\n",
              "      <td>[\"beef\", \"chicken breasts\", \"cream of mushroom...</td>\n",
              "    </tr>\n",
              "    <tr>\n",
              "      <th>2</th>\n",
              "      <td>2</td>\n",
              "      <td>Creamy Corn</td>\n",
              "      <td>[\"2 (16 oz.) pkg. frozen corn\", \"1 (8 oz.) pkg...</td>\n",
              "      <td>[\"In a slow cooker, combine all ingredients. C...</td>\n",
              "      <td>www.cookbooks.com/Recipe-Details.aspx?id=10570</td>\n",
              "      <td>Gathered</td>\n",
              "      <td>[\"frozen corn\", \"cream cheese\", \"butter\", \"gar...</td>\n",
              "    </tr>\n",
              "    <tr>\n",
              "      <th>3</th>\n",
              "      <td>3</td>\n",
              "      <td>Chicken Funny</td>\n",
              "      <td>[\"1 large whole chicken\", \"2 (10 1/2 oz.) cans...</td>\n",
              "      <td>[\"Boil and debone chicken.\", \"Put bite size pi...</td>\n",
              "      <td>www.cookbooks.com/Recipe-Details.aspx?id=897570</td>\n",
              "      <td>Gathered</td>\n",
              "      <td>[\"chicken\", \"chicken gravy\", \"cream of mushroo...</td>\n",
              "    </tr>\n",
              "    <tr>\n",
              "      <th>4</th>\n",
              "      <td>4</td>\n",
              "      <td>Reeses Cups(Candy)</td>\n",
              "      <td>[\"1 c. peanut butter\", \"3/4 c. graham cracker ...</td>\n",
              "      <td>[\"Combine first four ingredients and press in ...</td>\n",
              "      <td>www.cookbooks.com/Recipe-Details.aspx?id=659239</td>\n",
              "      <td>Gathered</td>\n",
              "      <td>[\"peanut butter\", \"graham cracker crumbs\", \"bu...</td>\n",
              "    </tr>\n",
              "  </tbody>\n",
              "</table>\n",
              "</div>"
            ],
            "text/plain": [
              "   id  ...                                                ner\n",
              "0   0  ...  [\"brown sugar\", \"milk\", \"vanilla\", \"nuts\", \"bu...\n",
              "1   1  ...  [\"beef\", \"chicken breasts\", \"cream of mushroom...\n",
              "2   2  ...  [\"frozen corn\", \"cream cheese\", \"butter\", \"gar...\n",
              "3   3  ...  [\"chicken\", \"chicken gravy\", \"cream of mushroo...\n",
              "4   4  ...  [\"peanut butter\", \"graham cracker crumbs\", \"bu...\n",
              "\n",
              "[5 rows x 7 columns]"
            ]
          },
          "metadata": {
            "tags": []
          },
          "execution_count": 5
        }
      ]
    },
    {
      "cell_type": "markdown",
      "metadata": {
        "id": "ahurEDptAC1n"
      },
      "source": [
        "# EDA (Exploratory Data Analysis)\r\n",
        "I dont want to generate report every time I run it, so EDA, world cloud and website list cells are muted."
      ]
    },
    {
      "cell_type": "code",
      "metadata": {
        "colab": {
          "base_uri": "https://localhost:8080/"
        },
        "id": "zqrcZV_3AJin",
        "outputId": "8a892377-a949-44d3-9529-ffe466ce0056"
      },
      "source": [
        "'''\r\n",
        "# Column 'id' seems to be useless for EDA section,so I drop it for making our dataset smaller.\r\n",
        "\r\n",
        "recipe_table.drop('id', axis='columns', inplace=True)\r\n",
        "'''"
      ],
      "execution_count": null,
      "outputs": [
        {
          "output_type": "execute_result",
          "data": {
            "application/vnd.google.colaboratory.intrinsic+json": {
              "type": "string"
            },
            "text/plain": [
              "\"\\n# Column 'ID' seems to be useless for EDA section,so I drop it for making our dataset smaller.\\n\\nrecipe_table.drop('ID', axis='columns', inplace=True)\\n\""
            ]
          },
          "metadata": {
            "tags": []
          },
          "execution_count": 6
        }
      ]
    },
    {
      "cell_type": "code",
      "metadata": {
        "id": "ICR4QpAJBqV5",
        "colab": {
          "base_uri": "https://localhost:8080/"
        },
        "outputId": "d68ac740-12f0-4866-a8e8-873fc8714a97"
      },
      "source": [
        "'''\r\n",
        "# Generate a quick report from our dataset \r\n",
        "\r\n",
        "profile = ProfileReport(recipe_table, minimal=True)\r\n",
        "profile.to_file(\"EDA-Report-RecipeNLG.html\")\r\n",
        "profile\r\n",
        "'''"
      ],
      "execution_count": null,
      "outputs": [
        {
          "output_type": "execute_result",
          "data": {
            "application/vnd.google.colaboratory.intrinsic+json": {
              "type": "string"
            },
            "text/plain": [
              "'\\n# Generate a quick report from our dataset \\n\\nprofile = ProfileReport(recipe_table, minimal=True)\\nprofile.to_file(\"EDA-Report-RecipeNLG.html\")\\nprofile\\n'"
            ]
          },
          "metadata": {
            "tags": []
          },
          "execution_count": 7
        }
      ]
    },
    {
      "cell_type": "markdown",
      "metadata": {
        "id": "83uYFQwBMxQe"
      },
      "source": [
        "## World clouds"
      ]
    },
    {
      "cell_type": "code",
      "metadata": {
        "id": "lnUMBM5zGig0",
        "colab": {
          "base_uri": "https://localhost:8080/"
        },
        "outputId": "b743c976-95db-4ea8-c3aa-eea88fcc36d2"
      },
      "source": [
        "'''\r\n",
        "# For creating word clouds, I used WordCloud library which was imported before.\r\n",
        "\r\n",
        "def minimal_wordcloud(df, column):\r\n",
        "    \"\"\"\r\n",
        "    Generate a simple wordcloud similar to: \r\n",
        "    https://www.kaggle.com/paultimothymooney/explore-recipe-nlg-dataset/data.\r\n",
        "    The only import required is: from wordcloud import WordCloud\r\n",
        "    \"\"\"\r\n",
        "    text = str(df[column].values)\r\n",
        "    wordcloud = WordCloud().generate(text)\r\n",
        "    image = wordcloud.to_image()\r\n",
        "    plt.axis(\"off\")\r\n",
        "    plt.imshow(image)\r\n",
        "    plt.show()\r\n",
        "'''"
      ],
      "execution_count": null,
      "outputs": [
        {
          "output_type": "execute_result",
          "data": {
            "application/vnd.google.colaboratory.intrinsic+json": {
              "type": "string"
            },
            "text/plain": [
              "'\\n# For creating word clouds, I used WordCloud library which was imported before.\\n\\ndef minimal_wordcloud(df, column):\\n    \"\"\"\\n    Generate a simple wordcloud similar to: \\n    https://www.kaggle.com/paultimothymooney/explore-recipe-nlg-dataset/data.\\n    The only import required is: from wordcloud import WordCloud\\n    \"\"\"\\n    text = str(df[column].values)\\n    wordcloud = WordCloud().generate(text)\\n    image = wordcloud.to_image()\\n    plt.axis(\"off\")\\n    plt.imshow(image)\\n    plt.show()\\n'"
            ]
          },
          "metadata": {
            "tags": []
          },
          "execution_count": 8
        }
      ]
    },
    {
      "cell_type": "code",
      "metadata": {
        "colab": {
          "base_uri": "https://localhost:8080/"
        },
        "id": "txxpFbMVf8bt",
        "outputId": "7f44f9ba-2a32-4112-fcfe-3987359ec10b"
      },
      "source": [
        "'''\r\n",
        "# Print word clouds\r\n",
        "\r\n",
        "for c in recipe_table.columns:\r\n",
        "    print('\\nworld cloud of contents in column {}'.format(c))\r\n",
        "    minimal_wordcloud(recipe_table, c)\r\n",
        "'''"
      ],
      "execution_count": null,
      "outputs": [
        {
          "output_type": "execute_result",
          "data": {
            "application/vnd.google.colaboratory.intrinsic+json": {
              "type": "string"
            },
            "text/plain": [
              "\"\\n# Print word clouds\\n\\nfor c in recipe_table.columns:\\n    print('\\nworld cloud of contents in column {}'.format(c))\\n    minimal_wordcloud(recipe_table, c)\\n\""
            ]
          },
          "metadata": {
            "tags": []
          },
          "execution_count": 9
        }
      ]
    },
    {
      "cell_type": "markdown",
      "metadata": {
        "id": "roI52c75nFkn"
      },
      "source": [
        "## list of websites in RecipieNLG"
      ]
    },
    {
      "cell_type": "code",
      "metadata": {
        "id": "XtCQc_OLnOrY",
        "colab": {
          "base_uri": "https://localhost:8080/"
        },
        "outputId": "389ec89c-c96b-47f2-ac43-2510595f5481"
      },
      "source": [
        "'''\r\n",
        "# Based on link column I tried to extract website names.\r\n",
        "# This func helps to select website names where we do not have 'www' at beginning\r\n",
        "\r\n",
        "func = lambda x: x[1] if x[0] == 'www' else x[0]\r\n",
        "recipe_table['website'] = recipe_table['link'].str.split('.').apply(func)\r\n",
        "'''"
      ],
      "execution_count": null,
      "outputs": [
        {
          "output_type": "execute_result",
          "data": {
            "application/vnd.google.colaboratory.intrinsic+json": {
              "type": "string"
            },
            "text/plain": [
              "\"\\n# Based on link column I tried to extract website names.\\n# This func helps to select website names where we do not have 'www' at beginning\\n\\nfunc = lambda x: x[1] if x[0] == 'www' else x[0]\\nrecipe_table['website'] = recipe_table['link'].str.split('.').apply(func)\\n\""
            ]
          },
          "metadata": {
            "tags": []
          },
          "execution_count": 10
        }
      ]
    },
    {
      "cell_type": "code",
      "metadata": {
        "id": "Qr3xIouJqaav",
        "colab": {
          "base_uri": "https://localhost:8080/"
        },
        "outputId": "77121133-9506-467a-d8c4-9b9e8ad2a9b7"
      },
      "source": [
        "'''\r\n",
        "recipe_table['website'].value_counts().rename_axis('websites').to_csv('./reports/Websites-RecipeNLG.csv',  header=['No. of recipies'])\r\n",
        "recipe_table['website'].value_counts().rename_axis('websites')\r\n",
        "'''"
      ],
      "execution_count": null,
      "outputs": [
        {
          "output_type": "execute_result",
          "data": {
            "application/vnd.google.colaboratory.intrinsic+json": {
              "type": "string"
            },
            "text/plain": [
              "\"\\nrecipe_table['website'].value_counts().rename_axis('websites').to_csv('./reports/Websites-RecipeNLG.csv',  header=['No. of recipies'])\\nrecipe_table['website'].value_counts().rename_axis('websites')\\n\""
            ]
          },
          "metadata": {
            "tags": []
          },
          "execution_count": 11
        }
      ]
    },
    {
      "cell_type": "markdown",
      "metadata": {
        "id": "Lpf2rTSTM_Bh"
      },
      "source": [
        "# Prprocess recipe_tables"
      ]
    },
    {
      "cell_type": "code",
      "metadata": {
        "id": "Q_BPdsed1MHw"
      },
      "source": [
        "# filter Recipes1M recipes as it seems they have better quality, comapring recipes which their source mentioned as 'Gathered'\r\n",
        "\r\n",
        "recipe_table = recipe_table[recipe_table['source'] == 'Recipes1M']\r\n",
        "recipe_table.drop(columns=['ingredients', 'link', 'source'], inplace=True)\r\n",
        "recipe_table['tag'] = 'title'"
      ],
      "execution_count": 6,
      "outputs": []
    },
    {
      "cell_type": "markdown",
      "metadata": {
        "id": "0Z_bH5PMNyC-"
      },
      "source": [
        "## preprocess ner column "
      ]
    },
    {
      "cell_type": "code",
      "metadata": {
        "id": "a6P_cJXksm74"
      },
      "source": [
        "# make characters lowercase strictly.\r\n",
        "\r\n",
        "recipe_table['ner'] = recipe_table['ner'].str.casefold()\r\n",
        "recipe_table['tag_value'] = recipe_table['tag_value'].str.casefold()"
      ],
      "execution_count": 7,
      "outputs": []
    },
    {
      "cell_type": "code",
      "metadata": {
        "id": "wdEb-c9HfbEF"
      },
      "source": [
        "# remove punctuations from tag_value and ner columns\r\n",
        "\r\n",
        "punctuations = str.maketrans('', '', '!\"#$%&\\'()*+-./:;<=>?@[\\\\]^_`{|}~')\r\n",
        "recipe_table['ner'] = recipe_table['ner'].str.translate(punctuations)\r\n",
        "recipe_table['tag_value'] = recipe_table['tag_value'].str.translate(punctuations)"
      ],
      "execution_count": 8,
      "outputs": []
    },
    {
      "cell_type": "code",
      "metadata": {
        "id": "q4PWj_skuoOp"
      },
      "source": [
        "# drop rows with no tag_value or ner\r\n",
        "\r\n",
        "recipe_table = recipe_table[recipe_table['tag_value'].notna()]\r\n",
        "recipe_table = recipe_table[recipe_table['ner'].notna()]\r\n",
        "recipe_table = recipe_table[recipe_table['ner'] != '']"
      ],
      "execution_count": 9,
      "outputs": []
    },
    {
      "cell_type": "code",
      "metadata": {
        "id": "Kl680zPctiFT"
      },
      "source": [
        "# split ner components to make a list out of them.\r\n",
        "\r\n",
        "recipe_table['ner'] = recipe_table['ner'].str.split(',')"
      ],
      "execution_count": 10,
      "outputs": []
    },
    {
      "cell_type": "code",
      "metadata": {
        "id": "_1vBOA4N5Ou1"
      },
      "source": [
        "# remove spaces before/after items of list\r\n",
        "\r\n",
        "recipe_table['ner'] = [[val.strip() for val in sublist] for sublist in recipe_table['ner'].values]"
      ],
      "execution_count": 11,
      "outputs": []
    },
    {
      "cell_type": "code",
      "metadata": {
        "id": "rjcHKmy8KLkz"
      },
      "source": [
        "# I noticed some ner start with \"a \" (i.e. a milk). so we should remove them.\r\n",
        "\r\n",
        "recipe_table['ner'] = [[re.sub('^a ', '', val) for val in sublist] for sublist in recipe_table['ner'].values]"
      ],
      "execution_count": 12,
      "outputs": []
    },
    {
      "cell_type": "code",
      "metadata": {
        "id": "WeQBr8VVYPsM"
      },
      "source": [
        "# remove spaces before/after items of list once again\r\n",
        "\r\n",
        "recipe_table['ner'] = [[val.strip() for val in sublist] for sublist in recipe_table['ner'].values]"
      ],
      "execution_count": 13,
      "outputs": []
    },
    {
      "cell_type": "code",
      "metadata": {
        "id": "XlNjYbM75EuX"
      },
      "source": [
        "# remove empty items from lists in ner column\r\n",
        "\r\n",
        "recipe_table['ner'] = recipe_table['ner'].apply(lambda row: list(filter(None, row)))"
      ],
      "execution_count": 14,
      "outputs": []
    },
    {
      "cell_type": "code",
      "metadata": {
        "id": "142XdZVtp5BQ"
      },
      "source": [
        "# remove items from lists in ner column which are only 1 character (i.e. 'm')\r\n",
        "\r\n",
        "recipe_table['ner'] = recipe_table['ner'].apply(lambda row: [item for item in row if len(item) > 1] )"
      ],
      "execution_count": 15,
      "outputs": []
    },
    {
      "cell_type": "code",
      "metadata": {
        "id": "ezqf7OBIf7wW"
      },
      "source": [
        "# remove duplicates items in each row of ner column\r\n",
        "\r\n",
        "recipe_table['ner'] = recipe_table['ner'].apply(lambda row: list(set(row)))"
      ],
      "execution_count": 16,
      "outputs": []
    },
    {
      "cell_type": "code",
      "metadata": {
        "id": "IclGmwXBh866"
      },
      "source": [
        "# romve recipes where they have less than two ners.\r\n",
        "\r\n",
        "recipe_table = recipe_table[recipe_table['ner'].str.len() > 1]"
      ],
      "execution_count": 17,
      "outputs": []
    },
    {
      "cell_type": "markdown",
      "metadata": {
        "id": "B9RASDGX9pDu"
      },
      "source": [
        "## preprocess steps column"
      ]
    },
    {
      "cell_type": "code",
      "metadata": {
        "id": "yHPW4jSo9mL4"
      },
      "source": [
        "# split recipe_table['steps'] to make a list out of each record.\r\n",
        "# since in some steps there are comma, we can not split steps based on it.\r\n",
        "# so we split based on \" and then remove items which are meaningless (less than 4 charachters)\r\n",
        "\r\n",
        "recipe_table['steps'] = recipe_table['steps'].str.split('\"')\r\n",
        "recipe_table['steps'] = recipe_table['steps'].apply(lambda row: [item for item in row if len(item) > 3] )"
      ],
      "execution_count": 18,
      "outputs": []
    },
    {
      "cell_type": "code",
      "metadata": {
        "id": "aMAbbbxzAH3S"
      },
      "source": [
        "# some steps consists multiple sentences which are ended with dot. so we split steps again based on dot.\r\n",
        "# by runing split('.), we will get some two dimensional lists and also some blank spaces as items\r\n",
        "# so we make steps lists flat and remove items with less 2 characters.\r\n",
        "# remove spaces before/after items of list\r\n",
        "\r\n",
        "recipe_table['steps'] = [[val.split('.') for val in sublist] for sublist in recipe_table['steps'].values]\r\n",
        "recipe_table['steps'] = recipe_table['steps'].apply(lambda row: list(flatten(row)))\r\n",
        "recipe_table['steps'] = recipe_table['steps'].apply(lambda row: [item for item in row if len(item) > 2])\r\n",
        "recipe_table['steps'] = [[val.strip() for val in sublist] for sublist in recipe_table['steps'].values]"
      ],
      "execution_count": 19,
      "outputs": []
    },
    {
      "cell_type": "code",
      "metadata": {
        "id": "W-PwhCBgI8W0"
      },
      "source": [
        "# romve recipes where they have less than two steps.\r\n",
        "\r\n",
        "recipe_table = recipe_table[recipe_table['steps'].str.len() > 1]"
      ],
      "execution_count": 20,
      "outputs": []
    },
    {
      "cell_type": "code",
      "metadata": {
        "id": "udjkJl7XuBYN"
      },
      "source": [
        "# reset index due to deleting some rows of recipe_table in previous cells. \r\n",
        "# naming convention for recipe_id column\r\n",
        "\r\n",
        "recipe_table.reset_index(inplace=True, drop=True)\r\n",
        "recipe_table['id'] = \"rec_\" + recipe_table.index.astype(str)"
      ],
      "execution_count": 21,
      "outputs": []
    },
    {
      "cell_type": "code",
      "metadata": {
        "id": "-UaO-H3DPDPN"
      },
      "source": [
        "'''\r\n",
        "# since we have a limit of available RAM. we can preprocess original dataframe and then save it as csv, then clean the RAM and once again load it.\r\n",
        "\r\n",
        "recipe_table.to_csv('./dataset/ProcessedRecipeNLG.csv', index=False)\r\n",
        "'''"
      ],
      "execution_count": null,
      "outputs": []
    },
    {
      "cell_type": "markdown",
      "metadata": {
        "id": "zixR4-hf0WlO"
      },
      "source": [
        "# Build ner, step and associated tables"
      ]
    },
    {
      "cell_type": "code",
      "metadata": {
        "id": "SbvUJthNQq9v"
      },
      "source": [
        "'''\r\n",
        "# per comments in last cell, since we have a limit of available RAM. we preprocess original dataframe and then save it as csv.\r\n",
        "# after clearing RAM, we load it here again for creating ner_table and step_table.\r\n",
        "# Mount google drive to colab notebook\r\n",
        "# Our dataset will be read as recipe_table.\r\n",
        "\r\n",
        "drive.mount('/content/gdrive', force_remount=True)\r\n",
        "recipe_table = pd.read_csv('./MyDrive/Projects/Ingredient-Maps/Phase1/dataset/ProcessedRecipeNLG.csv')\r\n",
        "\r\n",
        "# we convert steps and ner column contents from string to list format. \r\n",
        "import ast\r\n",
        "ast_func = lambda a: ast.literal_eval(a)\r\n",
        "recipe_table['ner'] = recipe_table['ner'].map(ast_func)\r\n",
        "recipe_table['steps'] = recipe_table['steps'].map(ast_func)\r\n",
        "'''"
      ],
      "execution_count": null,
      "outputs": []
    },
    {
      "cell_type": "markdown",
      "metadata": {
        "id": "KWXCzQlhW2MN"
      },
      "source": [
        "## ner_table"
      ]
    },
    {
      "cell_type": "code",
      "metadata": {
        "id": "UGvgp6DfWfPB"
      },
      "source": [
        "# create ner_table and add id column\r\n",
        "\r\n",
        "ner_table = pd.DataFrame(recipe_table['ner'].explode().unique(), columns=['tag_value'])\r\n",
        "ner_table['id'] =  ['ner_'+str(i) for i in range(len(ner_table['tag_value']))]\r\n",
        "ner_table['tag'] = 'ner'"
      ],
      "execution_count": 22,
      "outputs": []
    },
    {
      "cell_type": "code",
      "metadata": {
        "id": "N5wr3iFq1zTl"
      },
      "source": [
        "# set index to ner and make conv dictionary out of ner_table\r\n",
        "# by help of conv dictionary, we replace names in recipe_table['ner'] with ids\r\n",
        "\r\n",
        "ner_table.set_index(['tag_value'], inplace=True)\r\n",
        "conv = ner_table.to_dict('dict')\r\n",
        "recipe_table['ner'] = recipe_table['ner'].apply(lambda row: [conv['id'][v] for v in row if conv['id'].get(v)])\r\n",
        "ner_table.reset_index(inplace=True)"
      ],
      "execution_count": 23,
      "outputs": []
    },
    {
      "cell_type": "code",
      "metadata": {
        "id": "wgan_tjV-1uG"
      },
      "source": [
        "'''\r\n",
        "# If we want to have all recipes of each ner as a list, we can run this cell.\r\n",
        "\r\n",
        "# add a column to keep recipe_ids and reset index in ordet to fill recipe_id column\r\n",
        "# we fill recipe_id column of ner_table with all recipe_ids used ner in. (~ 4 minutes in colab with 8 GB RAM)\r\n",
        "\r\n",
        "ner_table['recipe_id'] = np.empty((len(ner_table), 0)).tolist()\r\n",
        "ner_table = ner_table.reset_index().set_index('id')\r\n",
        "\r\n",
        "for k in range(len(recipe_table)):\r\n",
        "    for m in recipe_table['ner'][k]:\r\n",
        "        ner_table['recipe_id'][m].append(recipe_table['id'][k])\r\n",
        "\r\n",
        "\r\n",
        "ner_table['no_recipe'] = ner_table['recipe_id'].str.len()\r\n",
        "ner_table = ner_table.reset_index()\r\n",
        "ner_table = ner_table[['id', 'tag_value', 'no_recipe']]\r\n",
        "ner_table.to_csv('./dataset/ner_no_recipe2.csv', index=False)\r\n",
        "\r\n",
        "# this is another approach to fill recipe_id column in ner_table. but this is slow. (~ 100 hours for this problem)\r\n",
        "import time\r\n",
        "\r\n",
        "ner_table['recipe_id'] = np.empty((len(ner_table), 0)).tolist()\r\n",
        "for i in range(len(ner_table)):\r\n",
        "    t0= time.clock()\r\n",
        "    for j in range(len(recipe_table)):\r\n",
        "        if ner_table['id'][i] in recipe_table['ner'][j]:\r\n",
        "           ner_table['recipe_id'][i].append(recipe_table['recipe_id'][j])\r\n",
        "    print(time.clock() - t0)\r\n",
        "'''"
      ],
      "execution_count": 24,
      "outputs": []
    },
    {
      "cell_type": "markdown",
      "metadata": {
        "id": "UazYMmPhwkf2"
      },
      "source": [
        "## step_table"
      ]
    },
    {
      "cell_type": "code",
      "metadata": {
        "id": "a6pEX1rAxZuz"
      },
      "source": [
        "# create step_table and add step_id column\r\n",
        "\r\n",
        "step_table = pd.DataFrame(recipe_table['steps'].explode().unique(), columns=['tag_value'])\r\n",
        "step_table['id'] =  ['ste_'+str(i) for i in range(len(step_table['tag_value']))]\r\n",
        "step_table['tag'] = 'step'"
      ],
      "execution_count": null,
      "outputs": []
    },
    {
      "cell_type": "code",
      "metadata": {
        "id": "Spf4N3U31BkM"
      },
      "source": [
        "# set index to tag_value and make conv dictionary out of step_table\r\n",
        "# by help of conv dictionary, we replace names in recipe_table['steps'] with ids\r\n",
        "\r\n",
        "step_table.set_index(['tag_value'], inplace=True)\r\n",
        "conv = step_table.to_dict('dict')\r\n",
        "recipe_table['steps'] = recipe_table['steps'].apply(lambda row: [conv['id'][v] for v in row if conv['id'].get(v)])\r\n",
        "step_table.reset_index(inplace=True)"
      ],
      "execution_count": null,
      "outputs": []
    },
    {
      "cell_type": "markdown",
      "metadata": {
        "id": "m3dKFXSiJEbp"
      },
      "source": [
        "## Associate Tables"
      ]
    },
    {
      "cell_type": "code",
      "metadata": {
        "id": "md3rqbVZMF9d"
      },
      "source": [
        "# creat associate tables between recipe, ner and step tables\r\n",
        "\r\n",
        "recipe_ner_associate_table = recipe_table.explode('ner')\r\n",
        "recipe_step_associate_table = recipe_table.explode('steps')"
      ],
      "execution_count": null,
      "outputs": []
    },
    {
      "cell_type": "code",
      "metadata": {
        "id": "R2qJeud5LQ7w"
      },
      "source": [
        "# keep just necessary columns of main tables\r\n",
        "\r\n",
        "recipe_table = recipe_table[['id', 'tag', 'tag_value']]\r\n",
        "ner_table = ner_table[['id', 'tag', 'tag_value']]\r\n",
        "step_table = step_table[['id', 'tag', 'tag_value']]"
      ],
      "execution_count": null,
      "outputs": []
    },
    {
      "cell_type": "code",
      "metadata": {
        "id": "LD1v-54ZQYCq"
      },
      "source": [
        "# keep just necessary columns of associate tables\r\n",
        "\r\n",
        "recipe_ner_associate_table = recipe_ner_associate_table[['id', 'ner']]\r\n",
        "recipe_step_associate_table = recipe_step_associate_table[['id', 'steps']]"
      ],
      "execution_count": null,
      "outputs": []
    },
    {
      "cell_type": "markdown",
      "metadata": {
        "id": "fjrWhaUTwpMq"
      },
      "source": [
        "## Final tables and their heads"
      ]
    },
    {
      "cell_type": "code",
      "metadata": {
        "colab": {
          "base_uri": "https://localhost:8080/",
          "height": 220
        },
        "id": "-LeZ8A9-0fYN",
        "outputId": "db0d9451-7869-429b-c993-fa0c7fba3b11"
      },
      "source": [
        "print(len(recipe_table))\r\n",
        "recipe_table.head()"
      ],
      "execution_count": null,
      "outputs": [
        {
          "output_type": "stream",
          "text": [
            "576961\n"
          ],
          "name": "stdout"
        },
        {
          "output_type": "execute_result",
          "data": {
            "text/html": [
              "<div>\n",
              "<style scoped>\n",
              "    .dataframe tbody tr th:only-of-type {\n",
              "        vertical-align: middle;\n",
              "    }\n",
              "\n",
              "    .dataframe tbody tr th {\n",
              "        vertical-align: top;\n",
              "    }\n",
              "\n",
              "    .dataframe thead th {\n",
              "        text-align: right;\n",
              "    }\n",
              "</style>\n",
              "<table border=\"1\" class=\"dataframe\">\n",
              "  <thead>\n",
              "    <tr style=\"text-align: right;\">\n",
              "      <th></th>\n",
              "      <th>ID</th>\n",
              "      <th>tag</th>\n",
              "      <th>tag_value</th>\n",
              "    </tr>\n",
              "  </thead>\n",
              "  <tbody>\n",
              "    <tr>\n",
              "      <th>0</th>\n",
              "      <td>REC_0</td>\n",
              "      <td>title</td>\n",
              "      <td>worlds best mac and cheese</td>\n",
              "    </tr>\n",
              "    <tr>\n",
              "      <th>1</th>\n",
              "      <td>REC_1</td>\n",
              "      <td>title</td>\n",
              "      <td>dilly macaroni salad recipe</td>\n",
              "    </tr>\n",
              "    <tr>\n",
              "      <th>2</th>\n",
              "      <td>REC_2</td>\n",
              "      <td>title</td>\n",
              "      <td>gazpacho</td>\n",
              "    </tr>\n",
              "    <tr>\n",
              "      <th>3</th>\n",
              "      <td>REC_3</td>\n",
              "      <td>title</td>\n",
              "      <td>kombu tea grilled chicken thigh</td>\n",
              "    </tr>\n",
              "    <tr>\n",
              "      <th>4</th>\n",
              "      <td>REC_4</td>\n",
              "      <td>title</td>\n",
              "      <td>zucchini nut bread</td>\n",
              "    </tr>\n",
              "  </tbody>\n",
              "</table>\n",
              "</div>"
            ],
            "text/plain": [
              "      ID    tag                        tag_value\n",
              "0  REC_0  title       worlds best mac and cheese\n",
              "1  REC_1  title      dilly macaroni salad recipe\n",
              "2  REC_2  title                         gazpacho\n",
              "3  REC_3  title  kombu tea grilled chicken thigh\n",
              "4  REC_4  title               zucchini nut bread"
            ]
          },
          "metadata": {
            "tags": []
          },
          "execution_count": 45
        }
      ]
    },
    {
      "cell_type": "code",
      "metadata": {
        "colab": {
          "base_uri": "https://localhost:8080/",
          "height": 220
        },
        "id": "K5wQkevb7IuG",
        "outputId": "813ff813-5dc5-4c8c-ffa0-390b7eab17d9"
      },
      "source": [
        "print(len(step_table))\r\n",
        "step_table.head()"
      ],
      "execution_count": null,
      "outputs": [
        {
          "output_type": "stream",
          "text": [
            "4797549\n"
          ],
          "name": "stdout"
        },
        {
          "output_type": "execute_result",
          "data": {
            "text/html": [
              "<div>\n",
              "<style scoped>\n",
              "    .dataframe tbody tr th:only-of-type {\n",
              "        vertical-align: middle;\n",
              "    }\n",
              "\n",
              "    .dataframe tbody tr th {\n",
              "        vertical-align: top;\n",
              "    }\n",
              "\n",
              "    .dataframe thead th {\n",
              "        text-align: right;\n",
              "    }\n",
              "</style>\n",
              "<table border=\"1\" class=\"dataframe\">\n",
              "  <thead>\n",
              "    <tr style=\"text-align: right;\">\n",
              "      <th></th>\n",
              "      <th>ID</th>\n",
              "      <th>tag</th>\n",
              "      <th>tag_value</th>\n",
              "    </tr>\n",
              "  </thead>\n",
              "  <tbody>\n",
              "    <tr>\n",
              "      <th>0</th>\n",
              "      <td>STE_0</td>\n",
              "      <td>step</td>\n",
              "      <td>Preheat the oven to 350 F</td>\n",
              "    </tr>\n",
              "    <tr>\n",
              "      <th>1</th>\n",
              "      <td>STE_1</td>\n",
              "      <td>step</td>\n",
              "      <td>Butter or oil an 8-inch baking dish</td>\n",
              "    </tr>\n",
              "    <tr>\n",
              "      <th>2</th>\n",
              "      <td>STE_2</td>\n",
              "      <td>step</td>\n",
              "      <td>Cook the penne 2 minutes less than package dir...</td>\n",
              "    </tr>\n",
              "    <tr>\n",
              "      <th>3</th>\n",
              "      <td>STE_3</td>\n",
              "      <td>step</td>\n",
              "      <td>(It will finish cooking in the oven</td>\n",
              "    </tr>\n",
              "    <tr>\n",
              "      <th>4</th>\n",
              "      <td>STE_4</td>\n",
              "      <td>step</td>\n",
              "      <td>Rinse the pasta in cold water and set aside</td>\n",
              "    </tr>\n",
              "  </tbody>\n",
              "</table>\n",
              "</div>"
            ],
            "text/plain": [
              "      ID   tag                                          tag_value\n",
              "0  STE_0  step                          Preheat the oven to 350 F\n",
              "1  STE_1  step                Butter or oil an 8-inch baking dish\n",
              "2  STE_2  step  Cook the penne 2 minutes less than package dir...\n",
              "3  STE_3  step                (It will finish cooking in the oven\n",
              "4  STE_4  step        Rinse the pasta in cold water and set aside"
            ]
          },
          "metadata": {
            "tags": []
          },
          "execution_count": 44
        }
      ]
    },
    {
      "cell_type": "code",
      "metadata": {
        "colab": {
          "base_uri": "https://localhost:8080/",
          "height": 220
        },
        "id": "qWMHKkYE7P7c",
        "outputId": "34a3819b-df2a-4dc9-a57a-0eb589ba54fc"
      },
      "source": [
        "print(len(ner_table))\r\n",
        "ner_table.head()"
      ],
      "execution_count": null,
      "outputs": [
        {
          "output_type": "stream",
          "text": [
            "91662\n"
          ],
          "name": "stdout"
        },
        {
          "output_type": "execute_result",
          "data": {
            "text/html": [
              "<div>\n",
              "<style scoped>\n",
              "    .dataframe tbody tr th:only-of-type {\n",
              "        vertical-align: middle;\n",
              "    }\n",
              "\n",
              "    .dataframe tbody tr th {\n",
              "        vertical-align: top;\n",
              "    }\n",
              "\n",
              "    .dataframe thead th {\n",
              "        text-align: right;\n",
              "    }\n",
              "</style>\n",
              "<table border=\"1\" class=\"dataframe\">\n",
              "  <thead>\n",
              "    <tr style=\"text-align: right;\">\n",
              "      <th></th>\n",
              "      <th>ID</th>\n",
              "      <th>tag</th>\n",
              "      <th>tag_value</th>\n",
              "    </tr>\n",
              "  </thead>\n",
              "  <tbody>\n",
              "    <tr>\n",
              "      <th>0</th>\n",
              "      <td>NER_0</td>\n",
              "      <td>ner</td>\n",
              "      <td>milk</td>\n",
              "    </tr>\n",
              "    <tr>\n",
              "      <th>1</th>\n",
              "      <td>NER_1</td>\n",
              "      <td>ner</td>\n",
              "      <td>chipotle chili powder</td>\n",
              "    </tr>\n",
              "    <tr>\n",
              "      <th>2</th>\n",
              "      <td>NER_2</td>\n",
              "      <td>ner</td>\n",
              "      <td>garlic</td>\n",
              "    </tr>\n",
              "    <tr>\n",
              "      <th>3</th>\n",
              "      <td>NER_3</td>\n",
              "      <td>ner</td>\n",
              "      <td>cheddar</td>\n",
              "    </tr>\n",
              "    <tr>\n",
              "      <th>4</th>\n",
              "      <td>NER_4</td>\n",
              "      <td>ner</td>\n",
              "      <td>flour</td>\n",
              "    </tr>\n",
              "  </tbody>\n",
              "</table>\n",
              "</div>"
            ],
            "text/plain": [
              "      ID  tag              tag_value\n",
              "0  NER_0  ner                   milk\n",
              "1  NER_1  ner  chipotle chili powder\n",
              "2  NER_2  ner                 garlic\n",
              "3  NER_3  ner                cheddar\n",
              "4  NER_4  ner                  flour"
            ]
          },
          "metadata": {
            "tags": []
          },
          "execution_count": 43
        }
      ]
    },
    {
      "cell_type": "code",
      "metadata": {
        "colab": {
          "base_uri": "https://localhost:8080/",
          "height": 220
        },
        "id": "J_b4E6xFQSEA",
        "outputId": "5a51e01d-9e6e-4e82-fec7-8969193325be"
      },
      "source": [
        "print(len(recipe_ner_associate_table))\r\n",
        "recipe_ner_associate_table.head()"
      ],
      "execution_count": null,
      "outputs": [
        {
          "output_type": "stream",
          "text": [
            "5022648\n"
          ],
          "name": "stdout"
        },
        {
          "output_type": "execute_result",
          "data": {
            "text/html": [
              "<div>\n",
              "<style scoped>\n",
              "    .dataframe tbody tr th:only-of-type {\n",
              "        vertical-align: middle;\n",
              "    }\n",
              "\n",
              "    .dataframe tbody tr th {\n",
              "        vertical-align: top;\n",
              "    }\n",
              "\n",
              "    .dataframe thead th {\n",
              "        text-align: right;\n",
              "    }\n",
              "</style>\n",
              "<table border=\"1\" class=\"dataframe\">\n",
              "  <thead>\n",
              "    <tr style=\"text-align: right;\">\n",
              "      <th></th>\n",
              "      <th>ID</th>\n",
              "      <th>ner</th>\n",
              "    </tr>\n",
              "  </thead>\n",
              "  <tbody>\n",
              "    <tr>\n",
              "      <th>0</th>\n",
              "      <td>REC_0</td>\n",
              "      <td>NER_0</td>\n",
              "    </tr>\n",
              "    <tr>\n",
              "      <th>0</th>\n",
              "      <td>REC_0</td>\n",
              "      <td>NER_1</td>\n",
              "    </tr>\n",
              "    <tr>\n",
              "      <th>0</th>\n",
              "      <td>REC_0</td>\n",
              "      <td>NER_2</td>\n",
              "    </tr>\n",
              "    <tr>\n",
              "      <th>0</th>\n",
              "      <td>REC_0</td>\n",
              "      <td>NER_3</td>\n",
              "    </tr>\n",
              "    <tr>\n",
              "      <th>0</th>\n",
              "      <td>REC_0</td>\n",
              "      <td>NER_4</td>\n",
              "    </tr>\n",
              "  </tbody>\n",
              "</table>\n",
              "</div>"
            ],
            "text/plain": [
              "      ID    ner\n",
              "0  REC_0  NER_0\n",
              "0  REC_0  NER_1\n",
              "0  REC_0  NER_2\n",
              "0  REC_0  NER_3\n",
              "0  REC_0  NER_4"
            ]
          },
          "metadata": {
            "tags": []
          },
          "execution_count": 42
        }
      ]
    },
    {
      "cell_type": "code",
      "metadata": {
        "colab": {
          "base_uri": "https://localhost:8080/",
          "height": 220
        },
        "id": "cmJW29XPQ93e",
        "outputId": "fa67bc55-bca2-4012-a7c8-92fe2b9cde0f"
      },
      "source": [
        "print(len(recipe_step_associate_table))\r\n",
        "recipe_step_associate_table.head()"
      ],
      "execution_count": null,
      "outputs": [
        {
          "output_type": "stream",
          "text": [
            "6205935\n"
          ],
          "name": "stdout"
        },
        {
          "output_type": "execute_result",
          "data": {
            "text/html": [
              "<div>\n",
              "<style scoped>\n",
              "    .dataframe tbody tr th:only-of-type {\n",
              "        vertical-align: middle;\n",
              "    }\n",
              "\n",
              "    .dataframe tbody tr th {\n",
              "        vertical-align: top;\n",
              "    }\n",
              "\n",
              "    .dataframe thead th {\n",
              "        text-align: right;\n",
              "    }\n",
              "</style>\n",
              "<table border=\"1\" class=\"dataframe\">\n",
              "  <thead>\n",
              "    <tr style=\"text-align: right;\">\n",
              "      <th></th>\n",
              "      <th>ID</th>\n",
              "      <th>steps</th>\n",
              "    </tr>\n",
              "  </thead>\n",
              "  <tbody>\n",
              "    <tr>\n",
              "      <th>0</th>\n",
              "      <td>REC_0</td>\n",
              "      <td>STE_0</td>\n",
              "    </tr>\n",
              "    <tr>\n",
              "      <th>0</th>\n",
              "      <td>REC_0</td>\n",
              "      <td>STE_1</td>\n",
              "    </tr>\n",
              "    <tr>\n",
              "      <th>0</th>\n",
              "      <td>REC_0</td>\n",
              "      <td>STE_2</td>\n",
              "    </tr>\n",
              "    <tr>\n",
              "      <th>0</th>\n",
              "      <td>REC_0</td>\n",
              "      <td>STE_3</td>\n",
              "    </tr>\n",
              "    <tr>\n",
              "      <th>0</th>\n",
              "      <td>REC_0</td>\n",
              "      <td>STE_4</td>\n",
              "    </tr>\n",
              "  </tbody>\n",
              "</table>\n",
              "</div>"
            ],
            "text/plain": [
              "      ID  steps\n",
              "0  REC_0  STE_0\n",
              "0  REC_0  STE_1\n",
              "0  REC_0  STE_2\n",
              "0  REC_0  STE_3\n",
              "0  REC_0  STE_4"
            ]
          },
          "metadata": {
            "tags": []
          },
          "execution_count": 41
        }
      ]
    },
    {
      "cell_type": "markdown",
      "metadata": {
        "id": "poTccrkFKz0k"
      },
      "source": [
        "# Build SQL tables"
      ]
    },
    {
      "cell_type": "code",
      "metadata": {
        "id": "LmQdax6Piou3"
      },
      "source": [
        "import sqlite3\r\n",
        "conn = sqlite3.connect('recipe.db')"
      ],
      "execution_count": null,
      "outputs": []
    },
    {
      "cell_type": "code",
      "metadata": {
        "id": "hAAAX9360f9i"
      },
      "source": [
        "recipe_ner_associate_table.to_sql('recipe_ner_associate_table', conn, index=False)\r\n",
        "recipe_step_associate_table.to_sql('recipe_step_associate_table', conn, index=False)\r\n",
        "recipe_table.to_sql('recipe_table', conn, index=False)\r\n",
        "ner_table.to_sql('ner_table', conn, index=False)\r\n",
        "step_table.to_sql('step_table', conn, index=False)"
      ],
      "execution_count": null,
      "outputs": []
    },
    {
      "cell_type": "code",
      "metadata": {
        "colab": {
          "base_uri": "https://localhost:8080/",
          "height": 202
        },
        "id": "Op2LPhDjnGqd",
        "outputId": "7e40aae7-2681-4daa-aed4-a340c155864c"
      },
      "source": [
        "# check if our tables are in recipe.db\r\n",
        "\r\n",
        "sql = '''SELECT name FROM sqlite_master WHERE type='table';'''\r\n",
        "pd.read_sql(sql, conn)"
      ],
      "execution_count": null,
      "outputs": [
        {
          "output_type": "execute_result",
          "data": {
            "text/html": [
              "<div>\n",
              "<style scoped>\n",
              "    .dataframe tbody tr th:only-of-type {\n",
              "        vertical-align: middle;\n",
              "    }\n",
              "\n",
              "    .dataframe tbody tr th {\n",
              "        vertical-align: top;\n",
              "    }\n",
              "\n",
              "    .dataframe thead th {\n",
              "        text-align: right;\n",
              "    }\n",
              "</style>\n",
              "<table border=\"1\" class=\"dataframe\">\n",
              "  <thead>\n",
              "    <tr style=\"text-align: right;\">\n",
              "      <th></th>\n",
              "      <th>name</th>\n",
              "    </tr>\n",
              "  </thead>\n",
              "  <tbody>\n",
              "    <tr>\n",
              "      <th>0</th>\n",
              "      <td>recipe_ner_associate_table</td>\n",
              "    </tr>\n",
              "    <tr>\n",
              "      <th>1</th>\n",
              "      <td>recipe_step_associate_table</td>\n",
              "    </tr>\n",
              "    <tr>\n",
              "      <th>2</th>\n",
              "      <td>recipe_table</td>\n",
              "    </tr>\n",
              "    <tr>\n",
              "      <th>3</th>\n",
              "      <td>ner_table</td>\n",
              "    </tr>\n",
              "    <tr>\n",
              "      <th>4</th>\n",
              "      <td>step_table</td>\n",
              "    </tr>\n",
              "  </tbody>\n",
              "</table>\n",
              "</div>"
            ],
            "text/plain": [
              "                          name\n",
              "0   recipe_ner_associate_table\n",
              "1  recipe_step_associate_table\n",
              "2                 recipe_table\n",
              "3                    ner_table\n",
              "4                   step_table"
            ]
          },
          "metadata": {
            "tags": []
          },
          "execution_count": 58
        }
      ]
    },
    {
      "cell_type": "code",
      "metadata": {
        "colab": {
          "base_uri": "https://localhost:8080/",
          "height": 80
        },
        "id": "d26s7lzDqwRD",
        "outputId": "3a137935-70d8-4c8c-81a8-1c0db81d9580"
      },
      "source": [
        "# check if tables have content.\r\n",
        "\r\n",
        "sql = '''SELECT * FROM recipe_table r WHERE r.id == 'rec_1';'''\r\n",
        "pd.read_sql(sql, conn)"
      ],
      "execution_count": null,
      "outputs": [
        {
          "output_type": "execute_result",
          "data": {
            "text/html": [
              "<div>\n",
              "<style scoped>\n",
              "    .dataframe tbody tr th:only-of-type {\n",
              "        vertical-align: middle;\n",
              "    }\n",
              "\n",
              "    .dataframe tbody tr th {\n",
              "        vertical-align: top;\n",
              "    }\n",
              "\n",
              "    .dataframe thead th {\n",
              "        text-align: right;\n",
              "    }\n",
              "</style>\n",
              "<table border=\"1\" class=\"dataframe\">\n",
              "  <thead>\n",
              "    <tr style=\"text-align: right;\">\n",
              "      <th></th>\n",
              "      <th>ID</th>\n",
              "      <th>tag</th>\n",
              "      <th>tag_value</th>\n",
              "    </tr>\n",
              "  </thead>\n",
              "  <tbody>\n",
              "    <tr>\n",
              "      <th>0</th>\n",
              "      <td>REC_1</td>\n",
              "      <td>title</td>\n",
              "      <td>dilly macaroni salad recipe</td>\n",
              "    </tr>\n",
              "  </tbody>\n",
              "</table>\n",
              "</div>"
            ],
            "text/plain": [
              "      ID    tag                    tag_value\n",
              "0  REC_1  title  dilly macaroni salad recipe"
            ]
          },
          "metadata": {
            "tags": []
          },
          "execution_count": 59
        }
      ]
    }
  ]
}