{
  "nbformat": 4,
  "nbformat_minor": 0,
  "metadata": {
    "colab": {
      "name": "Food-Recipes-RecipeNLG.ipynb",
      "provenance": [],
      "collapsed_sections": [
        "ahurEDptAC1n"
      ],
      "authorship_tag": "ABX9TyPE0Ux/YldJmvOXyEr11lJ2",
      "include_colab_link": true
    },
    "kernelspec": {
      "name": "python3",
      "display_name": "Python 3"
    }
  },
  "cells": [
    {
      "cell_type": "markdown",
      "metadata": {
        "id": "view-in-github",
        "colab_type": "text"
      },
      "source": [
        "<a href=\"https://colab.research.google.com/github/BehzadBarati/Ingredient-Maps/blob/main/Food_Recipes_RecipeNLG.ipynb\" target=\"_parent\"><img src=\"https://colab.research.google.com/assets/colab-badge.svg\" alt=\"Open In Colab\"/></a>"
      ]
    },
    {
      "cell_type": "markdown",
      "metadata": {
        "id": "y6B3Wlv8vOZq"
      },
      "source": [
        "Abstract:\r\n",
        "\r\n",
        "This notebook produces elementary reports on RecipeNLG dataset which contains more than 2 million recipies of foods.\r\n",
        "___\r\n",
        "Source:\r\n",
        "\r\n",
        "My main refrences are [RecipeNLG paper](https://www.aclweb.org/anthology/2020.inlg-1.4.pdf) and its [dataset](https://recipenlg.cs.put.poznan.pl).\r\n",
        "___\r\n",
        "Input: \r\n",
        "\r\n",
        "1- Dataset of [RecipeNLG](https://recipenlg.cs.put.poznan.pl)\r\n",
        "\r\n",
        "Ouput:\r\n",
        "\r\n",
        "1- EDA report on RecipeNLG dataset (both inline and \"EDA-Report-RecipeNLG.html\" file)\r\n",
        "\r\n",
        "2- word cloud pictures (inline)\r\n",
        "\r\n",
        "3- list of source websites of recipies ( \"Websites-RecipeNLG.csv\" file)\r\n",
        "___\r\n",
        "Hints:\r\n",
        "\r\n",
        "1_ As our csv file is greater than 2 gigabytes, I prefer to use cloud services(here google colab). I uploaded RecipeNLG dataset in my [google drive](https://drive.google.com/drive/folders/1g1ZNYKlLN4hyP8ywHXWa2Iu1oQ4wxSgR?usp=sharing). It is public.\r\n",
        "\r\n",
        "2_ If there is out of memory error in running \"ProfileReport\", please first re-install latest version of \"pandas_profiling\" library, then try \"minimal=True\" argument in \"profileReport\" for eliminating some calculations. (pip install https://github.com/pandas-profiling/pandas-profiling/archive/master.zip)"
      ]
    },
    {
      "cell_type": "markdown",
      "metadata": {
        "id": "YXzM9Guw8Wc4"
      },
      "source": [
        "# Import needed libraries"
      ]
    },
    {
      "cell_type": "code",
      "metadata": {
        "id": "Cwg3EmTR8brJ"
      },
      "source": [
        "# Install pandas_profiling library\r\n",
        "# pip install https://github.com/pandas-profiling/pandas-profiling/archive/master.zip\r\n",
        "\r\n",
        "import numpy as np\r\n",
        "import pandas as pd \r\n",
        "from wordcloud import WordCloud             # Make wordcloud pictures\r\n",
        "from pandas_profiling import ProfileReport  # Generate brief report on our dataframe\r\n",
        "import matplotlib.pyplot as plt\r\n",
        "from google.colab import drive              # Mount google drive to colab notebook\r\n",
        "import re                                   \r\n",
        "import string                               # removing special characters"
      ],
      "execution_count": 1,
      "outputs": []
    },
    {
      "cell_type": "markdown",
      "metadata": {
        "id": "6evCQCIT6FhU"
      },
      "source": [
        "# Load data"
      ]
    },
    {
      "cell_type": "code",
      "metadata": {
        "id": "ytrTiQikvjZP",
        "colab": {
          "base_uri": "https://localhost:8080/"
        },
        "outputId": "83b159d0-b33b-471a-9644-8de8431668dc"
      },
      "source": [
        "# Mount google drive to colab notebook\r\n",
        "# Our dataset will be read as recipe_table.\r\n",
        "\r\n",
        "drive.mount('/content/gdrive', force_remount=True)"
      ],
      "execution_count": 2,
      "outputs": [
        {
          "output_type": "stream",
          "text": [
            "Mounted at /content/gdrive\n"
          ],
          "name": "stdout"
        }
      ]
    },
    {
      "cell_type": "code",
      "metadata": {
        "colab": {
          "base_uri": "https://localhost:8080/"
        },
        "id": "P4H_UOfNZTmO",
        "outputId": "11ee55af-a844-4cb0-c3f6-46b31f9a5c1b"
      },
      "source": [
        "cd gdrive/MyDrive/Projects/Ingredient-Maps/Phase1"
      ],
      "execution_count": 3,
      "outputs": [
        {
          "output_type": "stream",
          "text": [
            "/content/gdrive/MyDrive/Projects/Ingredient-Maps/Phase1\n"
          ],
          "name": "stdout"
        }
      ]
    },
    {
      "cell_type": "code",
      "metadata": {
        "colab": {
          "base_uri": "https://localhost:8080/",
          "height": 338
        },
        "id": "MsBjy_B17HEl",
        "outputId": "7bc5cb12-069a-4fd9-d207-1e1c8c080b38"
      },
      "source": [
        "# Reading file and check if data is loaded\r\n",
        "\r\n",
        "recipe_table = pd.read_csv('./dataset/RecipeNLG.csv')\r\n",
        "print('Number of recipes in dataset: ', len(recipe_table))\r\n",
        "print('last 5 recipes:')\r\n",
        "recipe_table.tail(5)"
      ],
      "execution_count": 4,
      "outputs": [
        {
          "output_type": "stream",
          "text": [
            "Number of recipes in dataset:  2231142\n",
            "last 5 recipes:\n"
          ],
          "name": "stdout"
        },
        {
          "output_type": "execute_result",
          "data": {
            "text/html": [
              "<div>\n",
              "<style scoped>\n",
              "    .dataframe tbody tr th:only-of-type {\n",
              "        vertical-align: middle;\n",
              "    }\n",
              "\n",
              "    .dataframe tbody tr th {\n",
              "        vertical-align: top;\n",
              "    }\n",
              "\n",
              "    .dataframe thead th {\n",
              "        text-align: right;\n",
              "    }\n",
              "</style>\n",
              "<table border=\"1\" class=\"dataframe\">\n",
              "  <thead>\n",
              "    <tr style=\"text-align: right;\">\n",
              "      <th></th>\n",
              "      <th>Unnamed: 0</th>\n",
              "      <th>title</th>\n",
              "      <th>ingredients</th>\n",
              "      <th>directions</th>\n",
              "      <th>link</th>\n",
              "      <th>source</th>\n",
              "      <th>NER</th>\n",
              "    </tr>\n",
              "  </thead>\n",
              "  <tbody>\n",
              "    <tr>\n",
              "      <th>2231137</th>\n",
              "      <td>2231137</td>\n",
              "      <td>Sunny's Fake Crepes</td>\n",
              "      <td>[\"1/2 cup chocolate hazelnut spread (recommend...</td>\n",
              "      <td>[\"Spread hazelnut spread on 1 side of each tor...</td>\n",
              "      <td>www.foodnetwork.com/recipes/sunny-anderson/sun...</td>\n",
              "      <td>Recipes1M</td>\n",
              "      <td>[\"chocolate hazelnut spread\", \"tortillas\", \"bu...</td>\n",
              "    </tr>\n",
              "    <tr>\n",
              "      <th>2231138</th>\n",
              "      <td>2231138</td>\n",
              "      <td>Devil Eggs</td>\n",
              "      <td>[\"1 dozen eggs\", \"1 paprika\", \"1 salt and pepp...</td>\n",
              "      <td>[\"Boil eggs on medium for 30mins.\", \"Then cool...</td>\n",
              "      <td>cookpad.com/us/recipes/355411-devil-eggs</td>\n",
              "      <td>Recipes1M</td>\n",
              "      <td>[\"eggs\", \"paprika\", \"salt\", \"choice\", \"miracle...</td>\n",
              "    </tr>\n",
              "    <tr>\n",
              "      <th>2231139</th>\n",
              "      <td>2231139</td>\n",
              "      <td>Extremely Easy and Quick - Namul Daikon Salad</td>\n",
              "      <td>[\"150 grams Daikon radish\", \"1 tbsp Sesame oil...</td>\n",
              "      <td>[\"Julienne the daikon and squeeze out the exce...</td>\n",
              "      <td>cookpad.com/us/recipes/153324-extremely-easy-a...</td>\n",
              "      <td>Recipes1M</td>\n",
              "      <td>[\"radish\", \"Sesame oil\", \"White sesame seeds\",...</td>\n",
              "    </tr>\n",
              "    <tr>\n",
              "      <th>2231140</th>\n",
              "      <td>2231140</td>\n",
              "      <td>Pan-Roasted Pork Chops With Apple Fritters</td>\n",
              "      <td>[\"1 cup apple cider\", \"6 tablespoons sugar\", \"...</td>\n",
              "      <td>[\"In a large bowl, mix the apple cider with 4 ...</td>\n",
              "      <td>cooking.nytimes.com/recipes/1015164</td>\n",
              "      <td>Recipes1M</td>\n",
              "      <td>[\"apple cider\", \"sugar\", \"kosher salt\", \"bay l...</td>\n",
              "    </tr>\n",
              "    <tr>\n",
              "      <th>2231141</th>\n",
              "      <td>2231141</td>\n",
              "      <td>Polpette in Spicy Tomato Sauce</td>\n",
              "      <td>[\"1 pound ground veal\", \"1/2 pound sweet Itali...</td>\n",
              "      <td>[\"Preheat the oven to 350.\", \"In a bowl, mix t...</td>\n",
              "      <td>www.foodandwine.com/recipes/polpette-spicy-tom...</td>\n",
              "      <td>Recipes1M</td>\n",
              "      <td>[\"ground veal\", \"sausage\", \"bread crumbs\", \"mi...</td>\n",
              "    </tr>\n",
              "  </tbody>\n",
              "</table>\n",
              "</div>"
            ],
            "text/plain": [
              "         Unnamed: 0  ...                                                NER\n",
              "2231137     2231137  ...  [\"chocolate hazelnut spread\", \"tortillas\", \"bu...\n",
              "2231138     2231138  ...  [\"eggs\", \"paprika\", \"salt\", \"choice\", \"miracle...\n",
              "2231139     2231139  ...  [\"radish\", \"Sesame oil\", \"White sesame seeds\",...\n",
              "2231140     2231140  ...  [\"apple cider\", \"sugar\", \"kosher salt\", \"bay l...\n",
              "2231141     2231141  ...  [\"ground veal\", \"sausage\", \"bread crumbs\", \"mi...\n",
              "\n",
              "[5 rows x 7 columns]"
            ]
          },
          "metadata": {
            "tags": []
          },
          "execution_count": 4
        }
      ]
    },
    {
      "cell_type": "markdown",
      "metadata": {
        "id": "ahurEDptAC1n"
      },
      "source": [
        "# EDA (Exploratory Data Analysis)\r\n",
        "I dont want to generate report every time I run it, so EDA, world cloud and website list cells are muted."
      ]
    },
    {
      "cell_type": "code",
      "metadata": {
        "colab": {
          "base_uri": "https://localhost:8080/",
          "height": 0
        },
        "id": "zqrcZV_3AJin",
        "outputId": "4b5da319-b1ba-491c-94fa-d83402703953"
      },
      "source": [
        "'''\r\n",
        "# Column 'Unnamed: 0' seems to be useless for EDA section,so I drop it for making our dataset smaller.\r\n",
        "\r\n",
        "recipe_table.drop('Unnamed: 0', axis='columns', inplace=True)\r\n",
        "'''"
      ],
      "execution_count": 5,
      "outputs": [
        {
          "output_type": "execute_result",
          "data": {
            "application/vnd.google.colaboratory.intrinsic+json": {
              "type": "string"
            },
            "text/plain": [
              "\"\\n# Column 'Unnamed: 0' seems to be useless for EDA section,so I drop it for making our dataset smaller.\\n\\nrecipe_table.drop('Unnamed: 0', axis='columns', inplace=True)\\n\""
            ]
          },
          "metadata": {
            "tags": []
          },
          "execution_count": 5
        }
      ]
    },
    {
      "cell_type": "code",
      "metadata": {
        "id": "ICR4QpAJBqV5",
        "colab": {
          "base_uri": "https://localhost:8080/",
          "height": 0
        },
        "outputId": "8abcffbb-cd54-4b9a-f439-e0de4177d989"
      },
      "source": [
        "'''\r\n",
        "# Generate a quick report from our dataset \r\n",
        "\r\n",
        "profile = ProfileReport(recipe_table, minimal=True)\r\n",
        "profile.to_file(\"EDA-Report-RecipeNLG.html\")\r\n",
        "profile\r\n",
        "'''"
      ],
      "execution_count": 6,
      "outputs": [
        {
          "output_type": "execute_result",
          "data": {
            "application/vnd.google.colaboratory.intrinsic+json": {
              "type": "string"
            },
            "text/plain": [
              "'\\n# Generate a quick report from our dataset \\n\\nprofile = ProfileReport(recipe_table, minimal=True)\\nprofile.to_file(\"EDA-Report-RecipeNLG.html\")\\nprofile\\n'"
            ]
          },
          "metadata": {
            "tags": []
          },
          "execution_count": 6
        }
      ]
    },
    {
      "cell_type": "markdown",
      "metadata": {
        "id": "83uYFQwBMxQe"
      },
      "source": [
        "## World clouds"
      ]
    },
    {
      "cell_type": "code",
      "metadata": {
        "id": "lnUMBM5zGig0",
        "colab": {
          "base_uri": "https://localhost:8080/",
          "height": 0
        },
        "outputId": "d8c6d096-8e23-4160-b289-23a8e1181bd1"
      },
      "source": [
        "'''\r\n",
        "# For creating word clouds, I used WordCloud library which was imported before.\r\n",
        "\r\n",
        "def minimal_wordcloud(df, column):\r\n",
        "    \"\"\"\r\n",
        "    Generate a simple wordcloud similar to: \r\n",
        "    https://www.kaggle.com/paultimothymooney/explore-recipe-nlg-dataset/data.\r\n",
        "    The only import required is: from wordcloud import WordCloud\r\n",
        "    \"\"\"\r\n",
        "    text = str(df[column].values)\r\n",
        "    wordcloud = WordCloud().generate(text)\r\n",
        "    image = wordcloud.to_image()\r\n",
        "    plt.axis(\"off\")\r\n",
        "    plt.imshow(image)\r\n",
        "    plt.show()\r\n",
        "'''"
      ],
      "execution_count": 7,
      "outputs": [
        {
          "output_type": "execute_result",
          "data": {
            "application/vnd.google.colaboratory.intrinsic+json": {
              "type": "string"
            },
            "text/plain": [
              "'\\n# For creating word clouds, I used WordCloud library which was imported before.\\n\\ndef minimal_wordcloud(df, column):\\n    \"\"\"\\n    Generate a simple wordcloud similar to: \\n    https://www.kaggle.com/paultimothymooney/explore-recipe-nlg-dataset/data.\\n    The only import required is: from wordcloud import WordCloud\\n    \"\"\"\\n    text = str(df[column].values)\\n    wordcloud = WordCloud().generate(text)\\n    image = wordcloud.to_image()\\n    plt.axis(\"off\")\\n    plt.imshow(image)\\n    plt.show()\\n'"
            ]
          },
          "metadata": {
            "tags": []
          },
          "execution_count": 7
        }
      ]
    },
    {
      "cell_type": "code",
      "metadata": {
        "colab": {
          "base_uri": "https://localhost:8080/",
          "height": 0
        },
        "id": "txxpFbMVf8bt",
        "outputId": "fc811bd1-cbd0-449f-bba6-15722c07a37d"
      },
      "source": [
        "'''\r\n",
        "# Print word clouds\r\n",
        "\r\n",
        "for c in recipe_table.columns:\r\n",
        "    print('\\nworld cloud of contents in column {}'.format(c))\r\n",
        "    minimal_wordcloud(recipe_table, c)\r\n",
        "'''"
      ],
      "execution_count": 8,
      "outputs": [
        {
          "output_type": "execute_result",
          "data": {
            "application/vnd.google.colaboratory.intrinsic+json": {
              "type": "string"
            },
            "text/plain": [
              "\"\\n# Print word clouds\\n\\nfor c in recipe_table.columns:\\n    print('\\nworld cloud of contents in column {}'.format(c))\\n    minimal_wordcloud(recipe_table, c)\\n\""
            ]
          },
          "metadata": {
            "tags": []
          },
          "execution_count": 8
        }
      ]
    },
    {
      "cell_type": "markdown",
      "metadata": {
        "id": "roI52c75nFkn"
      },
      "source": [
        "## list of websites in RecipieNLG"
      ]
    },
    {
      "cell_type": "code",
      "metadata": {
        "id": "XtCQc_OLnOrY",
        "colab": {
          "base_uri": "https://localhost:8080/",
          "height": 0
        },
        "outputId": "9dd845d9-42bb-47b4-8383-4ab5e07aea48"
      },
      "source": [
        "'''\r\n",
        "# Based on link column I tried to extract website names.\r\n",
        "# This func helps to select website names where we do not have 'www' at beginning\r\n",
        "\r\n",
        "func = lambda x: x[1] if x[0] == 'www' else x[0]\r\n",
        "recipe_table['website'] = recipe_table['link'].str.split('.').apply(func)\r\n",
        "'''"
      ],
      "execution_count": 9,
      "outputs": [
        {
          "output_type": "execute_result",
          "data": {
            "application/vnd.google.colaboratory.intrinsic+json": {
              "type": "string"
            },
            "text/plain": [
              "\"\\n# Based on link column I tried to extract website names.\\n# This func helps to select website names where we do not have 'www' at beginning\\n\\nfunc = lambda x: x[1] if x[0] == 'www' else x[0]\\nrecipe_table['website'] = recipe_table['link'].str.split('.').apply(func)\\n\""
            ]
          },
          "metadata": {
            "tags": []
          },
          "execution_count": 9
        }
      ]
    },
    {
      "cell_type": "code",
      "metadata": {
        "id": "Qr3xIouJqaav",
        "colab": {
          "base_uri": "https://localhost:8080/",
          "height": 0
        },
        "outputId": "8e9a753a-775b-40dd-8515-d5b129fdf7bc"
      },
      "source": [
        "'''\r\n",
        "recipe_table['website'].value_counts().rename_axis('websites').to_csv('./reports/Websites-RecipeNLG.csv',  header=['No. of recipies'])\r\n",
        "recipe_table['website'].value_counts().rename_axis('websites')\r\n",
        "'''"
      ],
      "execution_count": 10,
      "outputs": [
        {
          "output_type": "execute_result",
          "data": {
            "application/vnd.google.colaboratory.intrinsic+json": {
              "type": "string"
            },
            "text/plain": [
              "\"\\nrecipe_table['website'].value_counts().rename_axis('websites').to_csv('./reports/Websites-RecipeNLG.csv',  header=['No. of recipies'])\\nrecipe_table['website'].value_counts().rename_axis('websites')\\n\""
            ]
          },
          "metadata": {
            "tags": []
          },
          "execution_count": 10
        }
      ]
    },
    {
      "cell_type": "markdown",
      "metadata": {
        "id": "Lpf2rTSTM_Bh"
      },
      "source": [
        "# Convert to SQL tables"
      ]
    },
    {
      "cell_type": "markdown",
      "metadata": {
        "id": "qi2cv6u5NMcd"
      },
      "source": [
        "## Preprocessing\r\n",
        "set key for recipe_table. then normalize NER values\r\n"
      ]
    },
    {
      "cell_type": "markdown",
      "metadata": {
        "id": "0Z_bH5PMNyC-"
      },
      "source": [
        "Since there are meals who have more than one recipe, we can use index of main table as recipe_IDs.   "
      ]
    },
    {
      "cell_type": "code",
      "metadata": {
        "id": "a6P_cJXksm74"
      },
      "source": [
        "# make characters lowercase strictly.\r\n",
        "recipe_table.columns = recipe_table.columns.str.replace('Unnamed: 0', 'recipe_ID')\r\n",
        "recipe_table['NER'] = recipe_table['NER'].str.casefold()"
      ],
      "execution_count": 12,
      "outputs": []
    },
    {
      "cell_type": "code",
      "metadata": {
        "id": "wdEb-c9HfbEF"
      },
      "source": [
        "punctuations = str.maketrans('', '', '!\"#$%&\\'()*+-./:;<=>?@[\\\\]^_`{|}~')\r\n",
        "recipe_table['NER'] = recipe_table['NER'].str.translate(punctuations)"
      ],
      "execution_count": 13,
      "outputs": []
    },
    {
      "cell_type": "code",
      "metadata": {
        "id": "q4PWj_skuoOp"
      },
      "source": [
        "# drop rows with not title or NER\r\n",
        "\r\n",
        "recipe_table = recipe_table[recipe_table['title'].notna()]\r\n",
        "recipe_table = recipe_table[recipe_table['NER'].notna()]\r\n",
        "recipe_table = recipe_table[recipe_table['NER'] != '']"
      ],
      "execution_count": 14,
      "outputs": []
    },
    {
      "cell_type": "code",
      "metadata": {
        "id": "_49NTDV60vgL"
      },
      "source": [
        "# reset index due to deleting some NAN rows in previous cell. \r\n",
        "\r\n",
        "recipe_table.reset_index(inplace=True, drop=True)"
      ],
      "execution_count": 15,
      "outputs": []
    },
    {
      "cell_type": "code",
      "metadata": {
        "id": "udjkJl7XuBYN"
      },
      "source": [
        "recipe_table['recipe_ID'] = \"Rec\" + recipe_table.index.astype(str)"
      ],
      "execution_count": 16,
      "outputs": []
    },
    {
      "cell_type": "code",
      "metadata": {
        "id": "Kl680zPctiFT"
      },
      "source": [
        "# split NER components to make a list out of them.\r\n",
        "\r\n",
        "recipe_table['NER'] = recipe_table['NER'].str.split(',')"
      ],
      "execution_count": 17,
      "outputs": []
    },
    {
      "cell_type": "code",
      "metadata": {
        "id": "_1vBOA4N5Ou1"
      },
      "source": [
        "# remove spaces before/after items of \r\n",
        "\r\n",
        "recipe_table['NER'] = [[val.strip() for val in sublist] for sublist in recipe_table['NER'].values]"
      ],
      "execution_count": 18,
      "outputs": []
    },
    {
      "cell_type": "code",
      "metadata": {
        "id": "XlNjYbM75EuX"
      },
      "source": [
        "# remove empty items from lists in NER column\r\n",
        "\r\n",
        "recipe_table['NER'] = list(filter(None, recipe_table['NER']))"
      ],
      "execution_count": 19,
      "outputs": []
    },
    {
      "cell_type": "code",
      "metadata": {
        "id": "evHbhpqsqN-w"
      },
      "source": [
        "# this function can be used to transfer str to list like NER column. but here is not handy.\r\n",
        "'''\r\n",
        "import ast                                  # Convert string to list\r\n",
        "\r\n",
        "# values of NER column are stored as string. so we convert them to lists\r\n",
        "\r\n",
        "ast_func = lambda a: ast.literal_eval(a)\r\n",
        "recipe_table['NERtemp'] = recipe_table['NERtemp'].map(ast_func)\r\n",
        "'''"
      ],
      "execution_count": null,
      "outputs": []
    },
    {
      "cell_type": "code",
      "metadata": {
        "colab": {
          "base_uri": "https://localhost:8080/",
          "height": 285
        },
        "id": "rhzz5Cpy2F5y",
        "outputId": "0fc1ff28-c035-4e74-d97b-e777ffe524dc"
      },
      "source": [
        "recipe_table.tail()"
      ],
      "execution_count": 20,
      "outputs": [
        {
          "output_type": "execute_result",
          "data": {
            "text/html": [
              "<div>\n",
              "<style scoped>\n",
              "    .dataframe tbody tr th:only-of-type {\n",
              "        vertical-align: middle;\n",
              "    }\n",
              "\n",
              "    .dataframe tbody tr th {\n",
              "        vertical-align: top;\n",
              "    }\n",
              "\n",
              "    .dataframe thead th {\n",
              "        text-align: right;\n",
              "    }\n",
              "</style>\n",
              "<table border=\"1\" class=\"dataframe\">\n",
              "  <thead>\n",
              "    <tr style=\"text-align: right;\">\n",
              "      <th></th>\n",
              "      <th>recipe_ID</th>\n",
              "      <th>title</th>\n",
              "      <th>ingredients</th>\n",
              "      <th>directions</th>\n",
              "      <th>link</th>\n",
              "      <th>source</th>\n",
              "      <th>NER</th>\n",
              "    </tr>\n",
              "  </thead>\n",
              "  <tbody>\n",
              "    <tr>\n",
              "      <th>2230557</th>\n",
              "      <td>Rec2230557</td>\n",
              "      <td>Sunny's Fake Crepes</td>\n",
              "      <td>[\"1/2 cup chocolate hazelnut spread (recommend...</td>\n",
              "      <td>[\"Spread hazelnut spread on 1 side of each tor...</td>\n",
              "      <td>www.foodnetwork.com/recipes/sunny-anderson/sun...</td>\n",
              "      <td>Recipes1M</td>\n",
              "      <td>[chocolate hazelnut spread, tortillas, butter,...</td>\n",
              "    </tr>\n",
              "    <tr>\n",
              "      <th>2230558</th>\n",
              "      <td>Rec2230558</td>\n",
              "      <td>Devil Eggs</td>\n",
              "      <td>[\"1 dozen eggs\", \"1 paprika\", \"1 salt and pepp...</td>\n",
              "      <td>[\"Boil eggs on medium for 30mins.\", \"Then cool...</td>\n",
              "      <td>cookpad.com/us/recipes/355411-devil-eggs</td>\n",
              "      <td>Recipes1M</td>\n",
              "      <td>[eggs, paprika, salt, choice, miracle whip, re...</td>\n",
              "    </tr>\n",
              "    <tr>\n",
              "      <th>2230559</th>\n",
              "      <td>Rec2230559</td>\n",
              "      <td>Extremely Easy and Quick - Namul Daikon Salad</td>\n",
              "      <td>[\"150 grams Daikon radish\", \"1 tbsp Sesame oil...</td>\n",
              "      <td>[\"Julienne the daikon and squeeze out the exce...</td>\n",
              "      <td>cookpad.com/us/recipes/153324-extremely-easy-a...</td>\n",
              "      <td>Recipes1M</td>\n",
              "      <td>[radish, sesame oil, white sesame seeds, salt,...</td>\n",
              "    </tr>\n",
              "    <tr>\n",
              "      <th>2230560</th>\n",
              "      <td>Rec2230560</td>\n",
              "      <td>Pan-Roasted Pork Chops With Apple Fritters</td>\n",
              "      <td>[\"1 cup apple cider\", \"6 tablespoons sugar\", \"...</td>\n",
              "      <td>[\"In a large bowl, mix the apple cider with 4 ...</td>\n",
              "      <td>cooking.nytimes.com/recipes/1015164</td>\n",
              "      <td>Recipes1M</td>\n",
              "      <td>[apple cider, sugar, kosher salt, bay leaves, ...</td>\n",
              "    </tr>\n",
              "    <tr>\n",
              "      <th>2230561</th>\n",
              "      <td>Rec2230561</td>\n",
              "      <td>Polpette in Spicy Tomato Sauce</td>\n",
              "      <td>[\"1 pound ground veal\", \"1/2 pound sweet Itali...</td>\n",
              "      <td>[\"Preheat the oven to 350.\", \"In a bowl, mix t...</td>\n",
              "      <td>www.foodandwine.com/recipes/polpette-spicy-tom...</td>\n",
              "      <td>Recipes1M</td>\n",
              "      <td>[ground veal, sausage, bread crumbs, milk, gar...</td>\n",
              "    </tr>\n",
              "  </tbody>\n",
              "</table>\n",
              "</div>"
            ],
            "text/plain": [
              "          recipe_ID  ...                                                NER\n",
              "2230557  Rec2230557  ...  [chocolate hazelnut spread, tortillas, butter,...\n",
              "2230558  Rec2230558  ...  [eggs, paprika, salt, choice, miracle whip, re...\n",
              "2230559  Rec2230559  ...  [radish, sesame oil, white sesame seeds, salt,...\n",
              "2230560  Rec2230560  ...  [apple cider, sugar, kosher salt, bay leaves, ...\n",
              "2230561  Rec2230561  ...  [ground veal, sausage, bread crumbs, milk, gar...\n",
              "\n",
              "[5 rows x 7 columns]"
            ]
          },
          "metadata": {
            "tags": []
          },
          "execution_count": 20
        }
      ]
    },
    {
      "cell_type": "markdown",
      "metadata": {
        "id": "KWXCzQlhW2MN"
      },
      "source": [
        "## NER_table"
      ]
    },
    {
      "cell_type": "code",
      "metadata": {
        "id": "UGvgp6DfWfPB"
      },
      "source": [
        "# create NER_table and add NER_ID column\r\n",
        "\r\n",
        "NER_table = pd.DataFrame(recipe_table['NER'].explode().unique(), columns=['NER'])\r\n",
        "NER_table['NER_ID'] =  ['NER'+str(i) for i in range(len(NER_table['NER']))]"
      ],
      "execution_count": 21,
      "outputs": []
    },
    {
      "cell_type": "code",
      "metadata": {
        "id": "N5wr3iFq1zTl"
      },
      "source": [
        "# set index to NER and make conv dictionary out of NER_table\r\n",
        "# by help of conv dictionary, we replace names in recipe_table['NER'] with IDs\r\n",
        "\r\n",
        "NER_table.set_index(['NER'], inplace=True)\r\n",
        "conv = NER_table.to_dict('dict')\r\n",
        "recipe_table['NER'] = recipe_table['NER'].apply(lambda row: [conv['NER_ID'][v] for v in row if conv['NER_ID'].get(v)])"
      ],
      "execution_count": 22,
      "outputs": []
    },
    {
      "cell_type": "code",
      "metadata": {
        "id": "wgan_tjV-1uG"
      },
      "source": [
        "# add a column to keep recipe_IDs and reset index for filling recipe_ID column\r\n",
        "# we fill recipe_ID column of NER_table with all recipe_IDs used NER in. (~ 4 minutes in colab with 8 GB RAM)\r\n",
        "\r\n",
        "NER_table['recipe_ID'] = np.empty((len(NER_table), 0)).tolist()\r\n",
        "NER_table = NER_table.reset_index().set_index('NER_ID')\r\n",
        "\r\n",
        "for k in range(len(recipe_table)):\r\n",
        "    for m in recipe_table['NER'][k]:\r\n",
        "        NER_table['recipe_ID'][m].append(recipe_table['recipe_ID'][k])"
      ],
      "execution_count": 23,
      "outputs": []
    },
    {
      "cell_type": "code",
      "metadata": {
        "id": "1MOYH8XTfyYY"
      },
      "source": [
        "# this is another approach to fill recipe_ID column in NER_table. but this is slow. (~ 1600 hours for this problem)\r\n",
        "'''\r\n",
        "import time\r\n",
        "\r\n",
        "NER_table['recipe_ID'] = np.empty((len(NER_table), 0)).tolist()\r\n",
        "for i in range(len(NER_table)):\r\n",
        "    t0= time.clock()\r\n",
        "    for j in range(len(recipe_table)):\r\n",
        "        if NER_table['NER_ID'][i] in recipe_table['NER'][j]:\r\n",
        "           NER_table['recipe_ID'][i].append(recipe_table['recipe_ID'][j])\r\n",
        "    print(time.clock() - t0)\r\n",
        "'''"
      ],
      "execution_count": null,
      "outputs": []
    },
    {
      "cell_type": "code",
      "metadata": {
        "colab": {
          "base_uri": "https://localhost:8080/"
        },
        "id": "23CRMFethCGn",
        "outputId": "ba808ea5-c02c-4a7c-a1ad-37282971914c"
      },
      "source": [
        "len(NER_table)"
      ],
      "execution_count": 24,
      "outputs": [
        {
          "output_type": "execute_result",
          "data": {
            "text/plain": [
              "194270"
            ]
          },
          "metadata": {
            "tags": []
          },
          "execution_count": 24
        }
      ]
    },
    {
      "cell_type": "code",
      "metadata": {
        "colab": {
          "base_uri": "https://localhost:8080/",
          "height": 228
        },
        "id": "cYqe0k4HHzcN",
        "outputId": "3d1e531e-5bcc-4bb4-a2e6-c3803993fad2"
      },
      "source": [
        "NER_table.head(5)"
      ],
      "execution_count": 25,
      "outputs": [
        {
          "output_type": "execute_result",
          "data": {
            "text/html": [
              "<div>\n",
              "<style scoped>\n",
              "    .dataframe tbody tr th:only-of-type {\n",
              "        vertical-align: middle;\n",
              "    }\n",
              "\n",
              "    .dataframe tbody tr th {\n",
              "        vertical-align: top;\n",
              "    }\n",
              "\n",
              "    .dataframe thead th {\n",
              "        text-align: right;\n",
              "    }\n",
              "</style>\n",
              "<table border=\"1\" class=\"dataframe\">\n",
              "  <thead>\n",
              "    <tr style=\"text-align: right;\">\n",
              "      <th></th>\n",
              "      <th>NER</th>\n",
              "      <th>recipe_ID</th>\n",
              "    </tr>\n",
              "    <tr>\n",
              "      <th>NER_ID</th>\n",
              "      <th></th>\n",
              "      <th></th>\n",
              "    </tr>\n",
              "  </thead>\n",
              "  <tbody>\n",
              "    <tr>\n",
              "      <th>NER0</th>\n",
              "      <td>brown sugar</td>\n",
              "      <td>[Rec0, Rec26, Rec41, Rec44, Rec70, Rec77, Rec7...</td>\n",
              "    </tr>\n",
              "    <tr>\n",
              "      <th>NER1</th>\n",
              "      <td>milk</td>\n",
              "      <td>[Rec0, Rec5, Rec29, Rec41, Rec50, Rec69, Rec81...</td>\n",
              "    </tr>\n",
              "    <tr>\n",
              "      <th>NER2</th>\n",
              "      <td>vanilla</td>\n",
              "      <td>[Rec0, Rec6, Rec27, Rec41, Rec48, Rec59, Rec60...</td>\n",
              "    </tr>\n",
              "    <tr>\n",
              "      <th>NER3</th>\n",
              "      <td>nuts</td>\n",
              "      <td>[Rec0, Rec19, Rec20, Rec27, Rec44, Rec61, Rec6...</td>\n",
              "    </tr>\n",
              "    <tr>\n",
              "      <th>NER4</th>\n",
              "      <td>butter</td>\n",
              "      <td>[Rec0, Rec2, Rec4, Rec5, Rec6, Rec7, Rec11, Re...</td>\n",
              "    </tr>\n",
              "  </tbody>\n",
              "</table>\n",
              "</div>"
            ],
            "text/plain": [
              "                NER                                          recipe_ID\n",
              "NER_ID                                                                \n",
              "NER0    brown sugar  [Rec0, Rec26, Rec41, Rec44, Rec70, Rec77, Rec7...\n",
              "NER1           milk  [Rec0, Rec5, Rec29, Rec41, Rec50, Rec69, Rec81...\n",
              "NER2        vanilla  [Rec0, Rec6, Rec27, Rec41, Rec48, Rec59, Rec60...\n",
              "NER3           nuts  [Rec0, Rec19, Rec20, Rec27, Rec44, Rec61, Rec6...\n",
              "NER4         butter  [Rec0, Rec2, Rec4, Rec5, Rec6, Rec7, Rec11, Re..."
            ]
          },
          "metadata": {
            "tags": []
          },
          "execution_count": 25
        }
      ]
    },
    {
      "cell_type": "code",
      "metadata": {
        "colab": {
          "base_uri": "https://localhost:8080/",
          "height": 437
        },
        "id": "On38K0P7c1-Q",
        "outputId": "5cccad1f-bc9c-4c77-a33f-3d577daccbe4"
      },
      "source": [
        "NER_table.sort_values(by=['NER'])"
      ],
      "execution_count": 26,
      "outputs": [
        {
          "output_type": "execute_result",
          "data": {
            "text/html": [
              "<div>\n",
              "<style scoped>\n",
              "    .dataframe tbody tr th:only-of-type {\n",
              "        vertical-align: middle;\n",
              "    }\n",
              "\n",
              "    .dataframe tbody tr th {\n",
              "        vertical-align: top;\n",
              "    }\n",
              "\n",
              "    .dataframe thead th {\n",
              "        text-align: right;\n",
              "    }\n",
              "</style>\n",
              "<table border=\"1\" class=\"dataframe\">\n",
              "  <thead>\n",
              "    <tr style=\"text-align: right;\">\n",
              "      <th></th>\n",
              "      <th>NER</th>\n",
              "      <th>recipe_ID</th>\n",
              "    </tr>\n",
              "    <tr>\n",
              "      <th>NER_ID</th>\n",
              "      <th></th>\n",
              "      <th></th>\n",
              "    </tr>\n",
              "  </thead>\n",
              "  <tbody>\n",
              "    <tr>\n",
              "      <th>NER369</th>\n",
              "      <td></td>\n",
              "      <td>[Rec159, Rec2344, Rec2344, Rec2344, Rec2873, R...</td>\n",
              "    </tr>\n",
              "    <tr>\n",
              "      <th>NER3321</th>\n",
              "      <td>a</td>\n",
              "      <td>[Rec7492, Rec25702, Rec46265, Rec68658, Rec789...</td>\n",
              "    </tr>\n",
              "    <tr>\n",
              "      <th>NER167909</th>\n",
              "      <td>a  dashi stock powder</td>\n",
              "      <td>[Rec1896474]</td>\n",
              "    </tr>\n",
              "    <tr>\n",
              "      <th>NER191020</th>\n",
              "      <td>a  honey</td>\n",
              "      <td>[Rec2186659]</td>\n",
              "    </tr>\n",
              "    <tr>\n",
              "      <th>NER150274</th>\n",
              "      <td>a  mirin</td>\n",
              "      <td>[Rec1705893, Rec1896474]</td>\n",
              "    </tr>\n",
              "    <tr>\n",
              "      <th>...</th>\n",
              "      <td>...</td>\n",
              "      <td>...</td>\n",
              "    </tr>\n",
              "    <tr>\n",
              "      <th>NER5461</th>\n",
              "      <td>zwieback crumbs</td>\n",
              "      <td>[Rec17857, Rec243101, Rec262956, Rec274910, Re...</td>\n",
              "    </tr>\n",
              "    <tr>\n",
              "      <th>NER3118</th>\n",
              "      <td>zwieback crust</td>\n",
              "      <td>[Rec6662]</td>\n",
              "    </tr>\n",
              "    <tr>\n",
              "      <th>NER25802</th>\n",
              "      <td>zwieback toast</td>\n",
              "      <td>[Rec257411, Rec442441, Rec913757, Rec936381, R...</td>\n",
              "    </tr>\n",
              "    <tr>\n",
              "      <th>NER46646</th>\n",
              "      <td>zwieback toasts</td>\n",
              "      <td>[Rec714484, Rec1871390]</td>\n",
              "    </tr>\n",
              "    <tr>\n",
              "      <th>NER29467</th>\n",
              "      <td>zwiebackstyle</td>\n",
              "      <td>[Rec322570]</td>\n",
              "    </tr>\n",
              "  </tbody>\n",
              "</table>\n",
              "<p>194270 rows × 2 columns</p>\n",
              "</div>"
            ],
            "text/plain": [
              "                             NER                                          recipe_ID\n",
              "NER_ID                                                                             \n",
              "NER369                            [Rec159, Rec2344, Rec2344, Rec2344, Rec2873, R...\n",
              "NER3321                        a  [Rec7492, Rec25702, Rec46265, Rec68658, Rec789...\n",
              "NER167909  a  dashi stock powder                                       [Rec1896474]\n",
              "NER191020               a  honey                                       [Rec2186659]\n",
              "NER150274               a  mirin                           [Rec1705893, Rec1896474]\n",
              "...                          ...                                                ...\n",
              "NER5461          zwieback crumbs  [Rec17857, Rec243101, Rec262956, Rec274910, Re...\n",
              "NER3118           zwieback crust                                          [Rec6662]\n",
              "NER25802          zwieback toast  [Rec257411, Rec442441, Rec913757, Rec936381, R...\n",
              "NER46646         zwieback toasts                            [Rec714484, Rec1871390]\n",
              "NER29467           zwiebackstyle                                        [Rec322570]\n",
              "\n",
              "[194270 rows x 2 columns]"
            ]
          },
          "metadata": {
            "tags": []
          },
          "execution_count": 26
        }
      ]
    },
    {
      "cell_type": "code",
      "metadata": {
        "colab": {
          "base_uri": "https://localhost:8080/"
        },
        "id": "-RoFz6jIlCY5",
        "outputId": "d07276da-21df-4df6-a949-18d01da23d23"
      },
      "source": [
        "recipe_table.loc[45774]['NER']"
      ],
      "execution_count": 27,
      "outputs": [
        {
          "output_type": "execute_result",
          "data": {
            "text/plain": [
              "['NER369', 'NER2849', 'NER38', 'NER61', 'NER13', 'NER301', 'NER349']"
            ]
          },
          "metadata": {
            "tags": []
          },
          "execution_count": 27
        }
      ]
    },
    {
      "cell_type": "code",
      "metadata": {
        "colab": {
          "base_uri": "https://localhost:8080/",
          "height": 35
        },
        "id": "ae78QhebkEDW",
        "outputId": "67cebb00-e6bb-4a40-a839-92e14ff8e810"
      },
      "source": [
        "NER_table.loc['NER1617']['NER']"
      ],
      "execution_count": 28,
      "outputs": [
        {
          "output_type": "execute_result",
          "data": {
            "application/vnd.google.colaboratory.intrinsic+json": {
              "type": "string"
            },
            "text/plain": [
              "'morton tender quick salt'"
            ]
          },
          "metadata": {
            "tags": []
          },
          "execution_count": 28
        }
      ]
    },
    {
      "cell_type": "code",
      "metadata": {
        "colab": {
          "base_uri": "https://localhost:8080/"
        },
        "id": "BX-789qe-2UD",
        "outputId": "31703c49-8aa6-4a7e-d46d-07f895213c25"
      },
      "source": [
        "recipe_table.loc[62719]"
      ],
      "execution_count": 29,
      "outputs": [
        {
          "output_type": "execute_result",
          "data": {
            "text/plain": [
              "recipe_ID                                               Rec62719\n",
              "title                                             Zucchini Bread\n",
              "ingredients    [\"3 eggs\", \"2 c. sugar\", \"2 c. zucchini, grate...\n",
              "directions     [\"Combine eggs, sugar, zucchini, oil and vanil...\n",
              "link            www.cookbooks.com/Recipe-Details.aspx?id=1020499\n",
              "source                                                  Gathered\n",
              "NER            [NER82, NER27, NER253, NER41, NER2, NER30, NER...\n",
              "Name: 62719, dtype: object"
            ]
          },
          "metadata": {
            "tags": []
          },
          "execution_count": 29
        }
      ]
    }
  ]
}